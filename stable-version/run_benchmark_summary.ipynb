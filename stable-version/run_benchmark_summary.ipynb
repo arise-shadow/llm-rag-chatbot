{
 "cells": [
  {
   "cell_type": "markdown",
   "metadata": {},
   "source": [
    "# RNGD에서 요약 LLM 실행하기 "
   ]
  },
  {
   "cell_type": "markdown",
   "metadata": {},
   "source": [
    "- 환경 탐지 (GPU, NPU-FuriosaAI RNGD)\n",
    "\n",
    "- 번역, 모니터링 실행"
   ]
  },
  {
   "cell_type": "code",
   "execution_count": 1,
   "metadata": {},
   "outputs": [],
   "source": [
    "config_path = \"/home/dudaji/Jun/llm-rag-chatbot/config/config_gpu_summary.yaml\""
   ]
  },
  {
   "cell_type": "code",
   "execution_count": 2,
   "metadata": {},
   "outputs": [
    {
     "name": "stdout",
     "output_type": "stream",
     "text": [
      "Configurations Loaded Successfully:\n",
      "Active Metrics: ['ROUGE', 'tps', 'power_consumption']\n",
      "Device Config: {'type': 'GPU', 'model': 'A100', 'count': 1}\n",
      "Model Config: {'name': 'llama3.3:70b', 'quantization': 'Q4_K_M', 'calibration': 'base'}\n",
      "Evaluation Settings: {'task': 'summary', 'output_dir': '../result/summary'}\n",
      "----------------------- \n",
      "\n",
      "Result file does not exist. Proceeding with computation...\n"
     ]
    }
   ],
   "source": [
    "from time import time\n",
    "from common.load_config import load_all_configurations\n",
    "import os\n",
    "import json\n",
    "\n",
    "# Load configuration\n",
    "all_configs = load_all_configurations(config_path)\n",
    "\n",
    "# Set ENABLE_MONITORING=true in the environment to enable monitoring\n",
    "os.environ[\"ENABLE_MONITORING\"] = \"true\" if \"power_consumption\" in all_configs[\"active_metrics\"] else \"false\"\n",
    "    \n",
    "# Print the loaded configurations\n",
    "print(\"Configurations Loaded Successfully:\")\n",
    "print(\"Active Metrics:\", all_configs[\"active_metrics\"])\n",
    "print(\"Device Config:\", all_configs[\"device_config\"])\n",
    "print(\"Model Config:\", all_configs[\"model_config\"])\n",
    "print(\"Evaluation Settings:\", all_configs[\"evaluation_settings\"])\n",
    "\n",
    "# Look up imtermediate result folder to avoid redundancy (performance leaderboard)\n",
    "name_config = (\n",
    "    f'{all_configs[\"device_config\"][\"type\"]}-'\n",
    "    f'{all_configs[\"device_config\"][\"model\"]}_'\n",
    "    f'{all_configs[\"model_config\"][\"name\"]}-'\n",
    "    f'{all_configs[\"model_config\"][\"quantization\"]}_'\n",
    "    f'calib-{all_configs[\"model_config\"].get(\"calibration\", \"none\")}'\n",
    ")\n",
    "result_folder = os.path.join(all_configs[\"evaluation_settings\"][\"output_dir\"], \"ko2en\")\n",
    "result_file = os.path.join(result_folder, f\"{name_config}.json\")\n",
    "\n",
    "# Ensure result folder exists\n",
    "os.makedirs(result_folder, exist_ok=True)\n",
    "\n",
    "print(\"----------------------- \\n\")\n",
    "if os.path.exists(result_file):\n",
    "    print(f\"Result file already exists at: {result_file}. Skipping computation.\")\n",
    "    proceed_calc = \"true\"\n",
    "else:\n",
    "    print(f\"Result file does not exist. Proceeding with computation...\")\n",
    "    proceed_calc = \"false\""
   ]
  },
  {
   "cell_type": "code",
   "execution_count": 2,
   "metadata": {},
   "outputs": [
    {
     "name": "stdout",
     "output_type": "stream",
     "text": [
      "Configurations Loaded Successfully:\n",
      "Active Metrics: ['BLEU', 'METEOR', 'BERTScore', 'tps']\n",
      "Device Config: {'type': 'GPU', 'model': 'A5000', 'count': 1}\n",
      "Model Config: {'name': 'llama3.1', 'quantization': 'Q4_K_M', 'calibration': 'base'}\n",
      "Evaluation Settings: {'task': 'translation', 'output_dir': '../result/translate'}\n",
      "----------------------- \n",
      "\n",
      "Result file does not exist. Proceeding with computation...\n"
     ]
    }
   ],
   "source": [
    "\n",
    "\n",
    "from translate.one_trans import initialize_translation_environment, translate_text, batch_translate_text\n",
    "from metrics.evaluation_transition import evaluate_translation\n",
    "\n"
   ]
  },
  {
   "cell_type": "markdown",
   "metadata": {},
   "source": [
    "# 벤치마킹 데이터셋 (SummEval)\n",
    "\n",
    "- Github page: https://github.com/Yale-LILY/SummEval?tab=readme-ov-file\n",
    "\n",
    "- CNN/DailyMain dataset (https://cs.nyu.edu/~kcho/DMQA/)"
   ]
  },
  {
   "cell_type": "code",
   "execution_count": 4,
   "metadata": {},
   "outputs": [],
   "source": [
    "!export ROUGE_HOME=/home/dudaji/Jun/SummEval/evaluation/summ_eval/ROUGE-1.5.5"
   ]
  },
  {
   "cell_type": "code",
   "execution_count": 1,
   "metadata": {},
   "outputs": [],
   "source": [
    "import os\n",
    "\n",
    "os.environ[\"ROUGE_HOME\"] = \"/home/dudaji/Jun/SummEval/evaluation/summ_eval/ROUGE-1.5.5\""
   ]
  },
  {
   "cell_type": "code",
   "execution_count": 2,
   "metadata": {},
   "outputs": [
    {
     "name": "stdout",
     "output_type": "stream",
     "text": [
      "Single example ROUGE score: {'rouge': {'rouge_1_recall': 0.63636, 'rouge_1_recall_cb': 0.63636, 'rouge_1_recall_ce': 0.63636, 'rouge_1_precision': 0.58333, 'rouge_1_precision_cb': 0.58333, 'rouge_1_precision_ce': 0.58333, 'rouge_1_f_score': 0.60869, 'rouge_1_f_score_cb': 0.60869, 'rouge_1_f_score_ce': 0.60869, 'rouge_2_recall': 0.4, 'rouge_2_recall_cb': 0.4, 'rouge_2_recall_ce': 0.4, 'rouge_2_precision': 0.36364, 'rouge_2_precision_cb': 0.36364, 'rouge_2_precision_ce': 0.36364, 'rouge_2_f_score': 0.38095, 'rouge_2_f_score_cb': 0.38095, 'rouge_2_f_score_ce': 0.38095, 'rouge_3_recall': 0.11111, 'rouge_3_recall_cb': 0.11111, 'rouge_3_recall_ce': 0.11111, 'rouge_3_precision': 0.1, 'rouge_3_precision_cb': 0.1, 'rouge_3_precision_ce': 0.1, 'rouge_3_f_score': 0.10526, 'rouge_3_f_score_cb': 0.10526, 'rouge_3_f_score_ce': 0.10526, 'rouge_4_recall': 0.0, 'rouge_4_recall_cb': 0.0, 'rouge_4_recall_ce': 0.0, 'rouge_4_precision': 0.0, 'rouge_4_precision_cb': 0.0, 'rouge_4_precision_ce': 0.0, 'rouge_4_f_score': 0.0, 'rouge_4_f_score_cb': 0.0, 'rouge_4_f_score_ce': 0.0, 'rouge_l_recall': 0.63636, 'rouge_l_recall_cb': 0.63636, 'rouge_l_recall_ce': 0.63636, 'rouge_l_precision': 0.58333, 'rouge_l_precision_cb': 0.58333, 'rouge_l_precision_ce': 0.58333, 'rouge_l_f_score': 0.60869, 'rouge_l_f_score_cb': 0.60869, 'rouge_l_f_score_ce': 0.60869, 'rouge_w_1.2_recall': 0.32932, 'rouge_w_1.2_recall_cb': 0.32932, 'rouge_w_1.2_recall_ce': 0.32932, 'rouge_w_1.2_precision': 0.48765, 'rouge_w_1.2_precision_cb': 0.48765, 'rouge_w_1.2_precision_ce': 0.48765, 'rouge_w_1.2_f_score': 0.39314, 'rouge_w_1.2_f_score_cb': 0.39314, 'rouge_w_1.2_f_score_ce': 0.39314, 'rouge_s*_recall': 0.38182, 'rouge_s*_recall_cb': 0.38182, 'rouge_s*_recall_ce': 0.38182, 'rouge_s*_precision': 0.31818, 'rouge_s*_precision_cb': 0.31818, 'rouge_s*_precision_ce': 0.31818, 'rouge_s*_f_score': 0.34711, 'rouge_s*_f_score_cb': 0.34711, 'rouge_s*_f_score_ce': 0.34711, 'rouge_su*_recall': 0.41538, 'rouge_su*_recall_cb': 0.41538, 'rouge_su*_recall_ce': 0.41538, 'rouge_su*_precision': 0.35065, 'rouge_su*_precision_cb': 0.35065, 'rouge_su*_precision_ce': 0.35065, 'rouge_su*_f_score': 0.38028, 'rouge_su*_f_score_cb': 0.38028, 'rouge_su*_f_score_ce': 0.38028}}\n",
      "Batch ROUGE scores: {'rouge': {'rouge_1_recall': 0.6039, 'rouge_1_recall_cb': 0.57143, 'rouge_1_recall_ce': 0.63636, 'rouge_1_precision': 0.54167, 'rouge_1_precision_cb': 0.5, 'rouge_1_precision_ce': 0.58333, 'rouge_1_f_score': 0.57101, 'rouge_1_f_score_cb': 0.53333, 'rouge_1_f_score_ce': 0.60869, 'rouge_2_recall': 0.28333, 'rouge_2_recall_cb': 0.16667, 'rouge_2_recall_ce': 0.4, 'rouge_2_precision': 0.25325, 'rouge_2_precision_cb': 0.14286, 'rouge_2_precision_ce': 0.36364, 'rouge_2_f_score': 0.2674, 'rouge_2_f_score_cb': 0.15385, 'rouge_2_f_score_ce': 0.38095, 'rouge_3_recall': 0.05555, 'rouge_3_recall_cb': 0.0, 'rouge_3_recall_ce': 0.11111, 'rouge_3_precision': 0.05, 'rouge_3_precision_cb': 0.0, 'rouge_3_precision_ce': 0.1, 'rouge_3_f_score': 0.05263, 'rouge_3_f_score_cb': 0.0, 'rouge_3_f_score_ce': 0.10526, 'rouge_4_recall': 0.0, 'rouge_4_recall_cb': 0.0, 'rouge_4_recall_ce': 0.0, 'rouge_4_precision': 0.0, 'rouge_4_precision_cb': 0.0, 'rouge_4_precision_ce': 0.0, 'rouge_4_f_score': 0.0, 'rouge_4_f_score_cb': 0.0, 'rouge_4_f_score_ce': 0.0, 'rouge_l_recall': 0.6039, 'rouge_l_recall_cb': 0.57143, 'rouge_l_recall_ce': 0.63636, 'rouge_l_precision': 0.54167, 'rouge_l_precision_cb': 0.5, 'rouge_l_precision_ce': 0.58333, 'rouge_l_f_score': 0.57101, 'rouge_l_f_score_cb': 0.53333, 'rouge_l_f_score_ce': 0.60869, 'rouge_w_1.2_recall': 0.32779, 'rouge_w_1.2_recall_cb': 0.32625, 'rouge_w_1.2_recall_ce': 0.32932, 'rouge_w_1.2_precision': 0.45447, 'rouge_w_1.2_precision_cb': 0.42129, 'rouge_w_1.2_precision_ce': 0.48765, 'rouge_w_1.2_f_score': 0.38044, 'rouge_w_1.2_f_score_cb': 0.36773, 'rouge_w_1.2_f_score_ce': 0.39314, 'rouge_s*_recall': 0.33377, 'rouge_s*_recall_cb': 0.28571, 'rouge_s*_recall_ce': 0.38182, 'rouge_s*_precision': 0.26623, 'rouge_s*_precision_cb': 0.21429, 'rouge_s*_precision_ce': 0.31818, 'rouge_s*_f_score': 0.296, 'rouge_s*_f_score_cb': 0.2449, 'rouge_s*_f_score_ce': 0.34711, 'rouge_su*_recall': 0.37436, 'rouge_su*_recall_cb': 0.33333, 'rouge_su*_recall_ce': 0.41538, 'rouge_su*_precision': 0.30389, 'rouge_su*_precision_cb': 0.25714, 'rouge_su*_precision_ce': 0.35065, 'rouge_su*_f_score': 0.3353, 'rouge_su*_f_score_cb': 0.29032, 'rouge_su*_f_score_ce': 0.38028}}\n"
     ]
    }
   ],
   "source": [
    "from summ_eval.rouge_metric import RougeMetric\n",
    "\n",
    "# ROUGE 평가 객체 생성\n",
    "rouge = RougeMetric()\n",
    "\n",
    "# 요약문 예시\n",
    "summaries = [\n",
    "    \"The cat sat on the mat and looked out of the window.\",\n",
    "    \"Artificial Intelligence is transforming the world of technology.\"\n",
    "]\n",
    "\n",
    "# 참조 요약문 예시\n",
    "references = [\n",
    "    \"The cat was sitting on the mat, gazing through the window.\",\n",
    "    \"AI is revolutionizing the field of technology.\"\n",
    "]\n",
    "\n",
    "# 단일 예시 평가\n",
    "rouge_score_example = rouge.evaluate_example(summaries[0], references[0])\n",
    "print(\"Single example ROUGE score:\", rouge_score_example)\n",
    "\n",
    "# 배치 평가\n",
    "rouge_scores_batch = rouge.evaluate_batch(summaries, references)\n",
    "print(\"Batch ROUGE scores:\", rouge_scores_batch)"
   ]
  },
  {
   "cell_type": "code",
   "execution_count": null,
   "metadata": {},
   "outputs": [],
   "source": [
    "rouge_dict = rouge.evaluate_example(summaries[0], references[0])\n"
   ]
  },
  {
   "cell_type": "code",
   "execution_count": 3,
   "metadata": {},
   "outputs": [],
   "source": [
    "# Load the CSV file\n",
    "def load_text_file(file_path):\n",
    "    with open(file_path, \"r\", encoding=\"utf-8\") as f:\n",
    "        lines = f.readlines()\n",
    "    return [line.strip() for line in lines]\n",
    "\n",
    "# SummEval 데이터 위치 \n",
    "data_dir = \"../data/flores/\"\n",
    "\n",
    "data_eng = load_text_file(f\"{data_dir}/devtest.eng_Latn\")\n",
    "data_kor = load_text_file(f\"{data_dir}/devtest.kor_Hang\")"
   ]
  },
  {
   "cell_type": "code",
   "execution_count": 4,
   "metadata": {},
   "outputs": [
    {
     "data": {
      "text/plain": [
       "'llama3.1'"
      ]
     },
     "execution_count": 4,
     "metadata": {},
     "output_type": "execute_result"
    }
   ],
   "source": [
    "all_configs[\"model_config\"][\"name\"]"
   ]
  },
  {
   "cell_type": "code",
   "execution_count": 5,
   "metadata": {},
   "outputs": [
    {
     "name": "stderr",
     "output_type": "stream",
     "text": [
      "2025-01-05 05:45:39,997 - ERROR - Failed to detect NPUs: [Errno 2] No such file or directory: 'furiosa-smi'\n",
      "2025-01-05 05:45:39,998 - INFO - Translation environment detected: GPU. Using GPU for translations.\n",
      "2025-01-05 05:45:45,223 - INFO - HTTP Request: POST http://localhost:11434/api/generate \"HTTP/1.1 200 OK\"\n",
      "2025-01-05 05:45:46,012 - INFO - HTTP Request: POST http://localhost:11434/api/generate \"HTTP/1.1 200 OK\"\n",
      "2025-01-05 05:45:46,551 - INFO - HTTP Request: POST http://localhost:11434/api/generate \"HTTP/1.1 200 OK\"\n",
      "2025-01-05 05:45:47,385 - INFO - HTTP Request: POST http://localhost:11434/api/generate \"HTTP/1.1 200 OK\"\n",
      "2025-01-05 05:45:48,065 - INFO - HTTP Request: POST http://localhost:11434/api/generate \"HTTP/1.1 200 OK\"\n",
      "2025-01-05 05:45:48,653 - INFO - HTTP Request: POST http://localhost:11434/api/generate \"HTTP/1.1 200 OK\"\n",
      "2025-01-05 05:45:49,049 - INFO - HTTP Request: POST http://localhost:11434/api/generate \"HTTP/1.1 200 OK\"\n",
      "2025-01-05 05:45:49,685 - INFO - HTTP Request: POST http://localhost:11434/api/generate \"HTTP/1.1 200 OK\"\n",
      "2025-01-05 05:45:50,129 - INFO - HTTP Request: POST http://localhost:11434/api/generate \"HTTP/1.1 200 OK\"\n",
      "2025-01-05 05:45:50,637 - INFO - HTTP Request: POST http://localhost:11434/api/generate \"HTTP/1.1 200 OK\"\n",
      "2025-01-05 05:45:51,209 - INFO - HTTP Request: POST http://localhost:11434/api/generate \"HTTP/1.1 200 OK\"\n",
      "2025-01-05 05:45:51,865 - INFO - HTTP Request: POST http://localhost:11434/api/generate \"HTTP/1.1 200 OK\"\n",
      "2025-01-05 05:45:52,501 - INFO - HTTP Request: POST http://localhost:11434/api/generate \"HTTP/1.1 200 OK\"\n",
      "2025-01-05 05:45:53,141 - INFO - HTTP Request: POST http://localhost:11434/api/generate \"HTTP/1.1 200 OK\"\n",
      "2025-01-05 05:45:53,729 - INFO - HTTP Request: POST http://localhost:11434/api/generate \"HTTP/1.1 200 OK\"\n",
      "2025-01-05 05:45:54,477 - INFO - HTTP Request: POST http://localhost:11434/api/generate \"HTTP/1.1 200 OK\"\n",
      "2025-01-05 05:45:55,241 - INFO - HTTP Request: POST http://localhost:11434/api/generate \"HTTP/1.1 200 OK\"\n",
      "2025-01-05 05:45:55,697 - INFO - HTTP Request: POST http://localhost:11434/api/generate \"HTTP/1.1 200 OK\"\n",
      "2025-01-05 05:45:56,413 - INFO - HTTP Request: POST http://localhost:11434/api/generate \"HTTP/1.1 200 OK\"\n",
      "2025-01-05 05:45:57,201 - INFO - HTTP Request: POST http://localhost:11434/api/generate \"HTTP/1.1 200 OK\"\n",
      "2025-01-05 05:45:57,625 - INFO - HTTP Request: POST http://localhost:11434/api/generate \"HTTP/1.1 200 OK\"\n",
      "2025-01-05 05:45:58,069 - INFO - HTTP Request: POST http://localhost:11434/api/generate \"HTTP/1.1 200 OK\"\n",
      "2025-01-05 05:45:58,833 - INFO - HTTP Request: POST http://localhost:11434/api/generate \"HTTP/1.1 200 OK\"\n",
      "2025-01-05 05:45:59,665 - INFO - HTTP Request: POST http://localhost:11434/api/generate \"HTTP/1.1 200 OK\"\n",
      "2025-01-05 05:46:00,233 - INFO - HTTP Request: POST http://localhost:11434/api/generate \"HTTP/1.1 200 OK\"\n",
      "2025-01-05 05:46:00,713 - INFO - HTTP Request: POST http://localhost:11434/api/generate \"HTTP/1.1 200 OK\"\n",
      "2025-01-05 05:46:01,165 - INFO - HTTP Request: POST http://localhost:11434/api/generate \"HTTP/1.1 200 OK\"\n",
      "2025-01-05 05:46:01,765 - INFO - HTTP Request: POST http://localhost:11434/api/generate \"HTTP/1.1 200 OK\"\n",
      "2025-01-05 05:46:02,305 - INFO - HTTP Request: POST http://localhost:11434/api/generate \"HTTP/1.1 200 OK\"\n",
      "2025-01-05 05:46:02,673 - INFO - HTTP Request: POST http://localhost:11434/api/generate \"HTTP/1.1 200 OK\"\n",
      "2025-01-05 05:46:03,457 - INFO - HTTP Request: POST http://localhost:11434/api/generate \"HTTP/1.1 200 OK\"\n",
      "2025-01-05 05:46:04,281 - INFO - HTTP Request: POST http://localhost:11434/api/generate \"HTTP/1.1 200 OK\"\n",
      "2025-01-05 05:46:05,017 - INFO - HTTP Request: POST http://localhost:11434/api/generate \"HTTP/1.1 200 OK\"\n",
      "2025-01-05 05:46:05,661 - INFO - HTTP Request: POST http://localhost:11434/api/generate \"HTTP/1.1 200 OK\"\n",
      "2025-01-05 05:46:06,057 - INFO - HTTP Request: POST http://localhost:11434/api/generate \"HTTP/1.1 200 OK\"\n",
      "2025-01-05 05:46:06,630 - INFO - HTTP Request: POST http://localhost:11434/api/generate \"HTTP/1.1 200 OK\"\n",
      "2025-01-05 05:46:07,069 - INFO - HTTP Request: POST http://localhost:11434/api/generate \"HTTP/1.1 200 OK\"\n",
      "2025-01-05 05:46:07,589 - INFO - HTTP Request: POST http://localhost:11434/api/generate \"HTTP/1.1 200 OK\"\n",
      "2025-01-05 05:46:08,089 - INFO - HTTP Request: POST http://localhost:11434/api/generate \"HTTP/1.1 200 OK\"\n",
      "2025-01-05 05:46:08,477 - INFO - HTTP Request: POST http://localhost:11434/api/generate \"HTTP/1.1 200 OK\"\n",
      "2025-01-05 05:46:09,001 - INFO - HTTP Request: POST http://localhost:11434/api/generate \"HTTP/1.1 200 OK\"\n",
      "2025-01-05 05:46:09,509 - INFO - HTTP Request: POST http://localhost:11434/api/generate \"HTTP/1.1 200 OK\"\n",
      "2025-01-05 05:46:10,313 - INFO - HTTP Request: POST http://localhost:11434/api/generate \"HTTP/1.1 200 OK\"\n",
      "2025-01-05 05:46:10,877 - INFO - HTTP Request: POST http://localhost:11434/api/generate \"HTTP/1.1 200 OK\"\n",
      "2025-01-05 05:46:11,409 - INFO - HTTP Request: POST http://localhost:11434/api/generate \"HTTP/1.1 200 OK\"\n",
      "2025-01-05 05:46:12,049 - INFO - HTTP Request: POST http://localhost:11434/api/generate \"HTTP/1.1 200 OK\"\n",
      "2025-01-05 05:46:12,717 - INFO - HTTP Request: POST http://localhost:11434/api/generate \"HTTP/1.1 200 OK\"\n",
      "2025-01-05 05:46:13,261 - INFO - HTTP Request: POST http://localhost:11434/api/generate \"HTTP/1.1 200 OK\"\n",
      "2025-01-05 05:46:13,733 - INFO - HTTP Request: POST http://localhost:11434/api/generate \"HTTP/1.1 200 OK\"\n",
      "2025-01-05 05:46:14,245 - INFO - HTTP Request: POST http://localhost:11434/api/generate \"HTTP/1.1 200 OK\"\n",
      "2025-01-05 05:46:14,713 - INFO - HTTP Request: POST http://localhost:11434/api/generate \"HTTP/1.1 200 OK\"\n",
      "2025-01-05 05:46:15,273 - INFO - HTTP Request: POST http://localhost:11434/api/generate \"HTTP/1.1 200 OK\"\n",
      "2025-01-05 05:46:15,761 - INFO - HTTP Request: POST http://localhost:11434/api/generate \"HTTP/1.1 200 OK\"\n",
      "2025-01-05 05:46:16,285 - INFO - HTTP Request: POST http://localhost:11434/api/generate \"HTTP/1.1 200 OK\"\n",
      "2025-01-05 05:46:16,997 - INFO - HTTP Request: POST http://localhost:11434/api/generate \"HTTP/1.1 200 OK\"\n",
      "2025-01-05 05:46:17,729 - INFO - HTTP Request: POST http://localhost:11434/api/generate \"HTTP/1.1 200 OK\"\n",
      "2025-01-05 05:46:18,373 - INFO - HTTP Request: POST http://localhost:11434/api/generate \"HTTP/1.1 200 OK\"\n",
      "2025-01-05 05:46:18,997 - INFO - HTTP Request: POST http://localhost:11434/api/generate \"HTTP/1.1 200 OK\"\n",
      "2025-01-05 05:46:19,529 - INFO - HTTP Request: POST http://localhost:11434/api/generate \"HTTP/1.1 200 OK\"\n",
      "2025-01-05 05:46:19,905 - INFO - HTTP Request: POST http://localhost:11434/api/generate \"HTTP/1.1 200 OK\"\n",
      "2025-01-05 05:46:20,457 - INFO - HTTP Request: POST http://localhost:11434/api/generate \"HTTP/1.1 200 OK\"\n",
      "2025-01-05 05:46:20,877 - INFO - HTTP Request: POST http://localhost:11434/api/generate \"HTTP/1.1 200 OK\"\n",
      "2025-01-05 05:46:21,461 - INFO - HTTP Request: POST http://localhost:11434/api/generate \"HTTP/1.1 200 OK\"\n",
      "2025-01-05 05:46:22,073 - INFO - HTTP Request: POST http://localhost:11434/api/generate \"HTTP/1.1 200 OK\"\n",
      "2025-01-05 05:46:22,777 - INFO - HTTP Request: POST http://localhost:11434/api/generate \"HTTP/1.1 200 OK\"\n",
      "2025-01-05 05:46:23,365 - INFO - HTTP Request: POST http://localhost:11434/api/generate \"HTTP/1.1 200 OK\"\n",
      "2025-01-05 05:46:23,897 - INFO - HTTP Request: POST http://localhost:11434/api/generate \"HTTP/1.1 200 OK\"\n",
      "2025-01-05 05:46:24,405 - INFO - HTTP Request: POST http://localhost:11434/api/generate \"HTTP/1.1 200 OK\"\n",
      "2025-01-05 05:46:24,945 - INFO - HTTP Request: POST http://localhost:11434/api/generate \"HTTP/1.1 200 OK\"\n",
      "2025-01-05 05:46:25,589 - INFO - HTTP Request: POST http://localhost:11434/api/generate \"HTTP/1.1 200 OK\"\n",
      "2025-01-05 05:46:26,061 - INFO - HTTP Request: POST http://localhost:11434/api/generate \"HTTP/1.1 200 OK\"\n",
      "2025-01-05 05:46:26,737 - INFO - HTTP Request: POST http://localhost:11434/api/generate \"HTTP/1.1 200 OK\"\n",
      "2025-01-05 05:46:27,429 - INFO - HTTP Request: POST http://localhost:11434/api/generate \"HTTP/1.1 200 OK\"\n",
      "2025-01-05 05:46:28,237 - INFO - HTTP Request: POST http://localhost:11434/api/generate \"HTTP/1.1 200 OK\"\n",
      "2025-01-05 05:46:28,845 - INFO - HTTP Request: POST http://localhost:11434/api/generate \"HTTP/1.1 200 OK\"\n",
      "2025-01-05 05:46:29,529 - INFO - HTTP Request: POST http://localhost:11434/api/generate \"HTTP/1.1 200 OK\"\n",
      "2025-01-05 05:46:30,245 - INFO - HTTP Request: POST http://localhost:11434/api/generate \"HTTP/1.1 200 OK\"\n",
      "2025-01-05 05:46:30,773 - INFO - HTTP Request: POST http://localhost:11434/api/generate \"HTTP/1.1 200 OK\"\n",
      "2025-01-05 05:46:31,129 - INFO - HTTP Request: POST http://localhost:11434/api/generate \"HTTP/1.1 200 OK\"\n",
      "2025-01-05 05:46:31,709 - INFO - HTTP Request: POST http://localhost:11434/api/generate \"HTTP/1.1 200 OK\"\n",
      "2025-01-05 05:46:32,097 - INFO - HTTP Request: POST http://localhost:11434/api/generate \"HTTP/1.1 200 OK\"\n",
      "2025-01-05 05:46:32,581 - INFO - HTTP Request: POST http://localhost:11434/api/generate \"HTTP/1.1 200 OK\"\n",
      "2025-01-05 05:46:33,097 - INFO - HTTP Request: POST http://localhost:11434/api/generate \"HTTP/1.1 200 OK\"\n",
      "2025-01-05 05:46:33,769 - INFO - HTTP Request: POST http://localhost:11434/api/generate \"HTTP/1.1 200 OK\"\n",
      "2025-01-05 05:46:34,181 - INFO - HTTP Request: POST http://localhost:11434/api/generate \"HTTP/1.1 200 OK\"\n",
      "2025-01-05 05:46:34,673 - INFO - HTTP Request: POST http://localhost:11434/api/generate \"HTTP/1.1 200 OK\"\n",
      "2025-01-05 05:46:35,297 - INFO - HTTP Request: POST http://localhost:11434/api/generate \"HTTP/1.1 200 OK\"\n",
      "2025-01-05 05:46:35,829 - INFO - HTTP Request: POST http://localhost:11434/api/generate \"HTTP/1.1 200 OK\"\n",
      "2025-01-05 05:46:36,309 - INFO - HTTP Request: POST http://localhost:11434/api/generate \"HTTP/1.1 200 OK\"\n",
      "2025-01-05 05:46:36,946 - INFO - HTTP Request: POST http://localhost:11434/api/generate \"HTTP/1.1 200 OK\"\n",
      "2025-01-05 05:46:37,573 - INFO - HTTP Request: POST http://localhost:11434/api/generate \"HTTP/1.1 200 OK\"\n",
      "2025-01-05 05:46:37,993 - INFO - HTTP Request: POST http://localhost:11434/api/generate \"HTTP/1.1 200 OK\"\n",
      "2025-01-05 05:46:38,577 - INFO - HTTP Request: POST http://localhost:11434/api/generate \"HTTP/1.1 200 OK\"\n",
      "2025-01-05 05:46:38,925 - INFO - HTTP Request: POST http://localhost:11434/api/generate \"HTTP/1.1 200 OK\"\n",
      "2025-01-05 05:46:39,453 - INFO - HTTP Request: POST http://localhost:11434/api/generate \"HTTP/1.1 200 OK\"\n",
      "2025-01-05 05:46:39,965 - INFO - HTTP Request: POST http://localhost:11434/api/generate \"HTTP/1.1 200 OK\"\n",
      "2025-01-05 05:46:40,433 - INFO - HTTP Request: POST http://localhost:11434/api/generate \"HTTP/1.1 200 OK\"\n",
      "2025-01-05 05:46:41,069 - INFO - HTTP Request: POST http://localhost:11434/api/generate \"HTTP/1.1 200 OK\"\n",
      "2025-01-05 05:46:41,553 - INFO - HTTP Request: POST http://localhost:11434/api/generate \"HTTP/1.1 200 OK\"\n",
      "2025-01-05 05:46:42,129 - INFO - HTTP Request: POST http://localhost:11434/api/generate \"HTTP/1.1 200 OK\"\n"
     ]
    },
    {
     "name": "stdout",
     "output_type": "stream",
     "text": [
      "ko2en translation done\n",
      "Results saved to ../result/translate/ko2en/GPU-A5000_llama3.1-Q4_K_M_calib-base.json.\n"
     ]
    },
    {
     "name": "stderr",
     "output_type": "stream",
     "text": [
      "2025-01-05 05:46:42,697 - INFO - HTTP Request: POST http://localhost:11434/api/generate \"HTTP/1.1 200 OK\"\n",
      "2025-01-05 05:46:44,021 - INFO - HTTP Request: POST http://localhost:11434/api/generate \"HTTP/1.1 200 OK\"\n",
      "2025-01-05 05:46:44,957 - INFO - HTTP Request: POST http://localhost:11434/api/generate \"HTTP/1.1 200 OK\"\n",
      "2025-01-05 05:46:46,241 - INFO - HTTP Request: POST http://localhost:11434/api/generate \"HTTP/1.1 200 OK\"\n",
      "2025-01-05 05:46:47,113 - INFO - HTTP Request: POST http://localhost:11434/api/generate \"HTTP/1.1 200 OK\"\n",
      "2025-01-05 05:46:47,813 - INFO - HTTP Request: POST http://localhost:11434/api/generate \"HTTP/1.1 200 OK\"\n",
      "2025-01-05 05:46:48,241 - INFO - HTTP Request: POST http://localhost:11434/api/generate \"HTTP/1.1 200 OK\"\n",
      "2025-01-05 05:46:49,065 - INFO - HTTP Request: POST http://localhost:11434/api/generate \"HTTP/1.1 200 OK\"\n",
      "2025-01-05 05:46:49,597 - INFO - HTTP Request: POST http://localhost:11434/api/generate \"HTTP/1.1 200 OK\"\n",
      "2025-01-05 05:46:50,105 - INFO - HTTP Request: POST http://localhost:11434/api/generate \"HTTP/1.1 200 OK\"\n",
      "2025-01-05 05:46:50,829 - INFO - HTTP Request: POST http://localhost:11434/api/generate \"HTTP/1.1 200 OK\"\n",
      "2025-01-05 05:46:51,641 - INFO - HTTP Request: POST http://localhost:11434/api/generate \"HTTP/1.1 200 OK\"\n",
      "2025-01-05 05:46:52,281 - INFO - HTTP Request: POST http://localhost:11434/api/generate \"HTTP/1.1 200 OK\"\n",
      "2025-01-05 05:46:53,041 - INFO - HTTP Request: POST http://localhost:11434/api/generate \"HTTP/1.1 200 OK\"\n",
      "2025-01-05 05:46:54,161 - INFO - HTTP Request: POST http://localhost:11434/api/generate \"HTTP/1.1 200 OK\"\n",
      "2025-01-05 05:46:55,270 - INFO - HTTP Request: POST http://localhost:11434/api/generate \"HTTP/1.1 200 OK\"\n",
      "2025-01-05 05:46:56,261 - INFO - HTTP Request: POST http://localhost:11434/api/generate \"HTTP/1.1 200 OK\"\n",
      "2025-01-05 05:46:56,957 - INFO - HTTP Request: POST http://localhost:11434/api/generate \"HTTP/1.1 200 OK\"\n",
      "2025-01-05 05:46:57,889 - INFO - HTTP Request: POST http://localhost:11434/api/generate \"HTTP/1.1 200 OK\"\n",
      "2025-01-05 05:46:59,189 - INFO - HTTP Request: POST http://localhost:11434/api/generate \"HTTP/1.1 200 OK\"\n",
      "2025-01-05 05:46:59,829 - INFO - HTTP Request: POST http://localhost:11434/api/generate \"HTTP/1.1 200 OK\"\n",
      "2025-01-05 05:47:00,409 - INFO - HTTP Request: POST http://localhost:11434/api/generate \"HTTP/1.1 200 OK\"\n",
      "2025-01-05 05:47:01,369 - INFO - HTTP Request: POST http://localhost:11434/api/generate \"HTTP/1.1 200 OK\"\n",
      "2025-01-05 05:47:02,453 - INFO - HTTP Request: POST http://localhost:11434/api/generate \"HTTP/1.1 200 OK\"\n",
      "2025-01-05 05:47:03,149 - INFO - HTTP Request: POST http://localhost:11434/api/generate \"HTTP/1.1 200 OK\"\n",
      "2025-01-05 05:47:03,661 - INFO - HTTP Request: POST http://localhost:11434/api/generate \"HTTP/1.1 200 OK\"\n",
      "2025-01-05 05:47:04,409 - INFO - HTTP Request: POST http://localhost:11434/api/generate \"HTTP/1.1 200 OK\"\n",
      "2025-01-05 05:47:05,469 - INFO - HTTP Request: POST http://localhost:11434/api/generate \"HTTP/1.1 200 OK\"\n",
      "2025-01-05 05:47:06,041 - INFO - HTTP Request: POST http://localhost:11434/api/generate \"HTTP/1.1 200 OK\"\n",
      "2025-01-05 05:47:06,497 - INFO - HTTP Request: POST http://localhost:11434/api/generate \"HTTP/1.1 200 OK\"\n",
      "2025-01-05 05:47:07,517 - INFO - HTTP Request: POST http://localhost:11434/api/generate \"HTTP/1.1 200 OK\"\n",
      "2025-01-05 05:47:08,693 - INFO - HTTP Request: POST http://localhost:11434/api/generate \"HTTP/1.1 200 OK\"\n",
      "2025-01-05 05:47:09,489 - INFO - HTTP Request: POST http://localhost:11434/api/generate \"HTTP/1.1 200 OK\"\n",
      "2025-01-05 05:47:10,209 - INFO - HTTP Request: POST http://localhost:11434/api/generate \"HTTP/1.1 200 OK\"\n",
      "2025-01-05 05:47:10,773 - INFO - HTTP Request: POST http://localhost:11434/api/generate \"HTTP/1.1 200 OK\"\n",
      "2025-01-05 05:47:11,321 - INFO - HTTP Request: POST http://localhost:11434/api/generate \"HTTP/1.1 200 OK\"\n",
      "2025-01-05 05:47:12,133 - INFO - HTTP Request: POST http://localhost:11434/api/generate \"HTTP/1.1 200 OK\"\n",
      "2025-01-05 05:47:12,785 - INFO - HTTP Request: POST http://localhost:11434/api/generate \"HTTP/1.1 200 OK\"\n",
      "2025-01-05 05:47:13,341 - INFO - HTTP Request: POST http://localhost:11434/api/generate \"HTTP/1.1 200 OK\"\n",
      "2025-01-05 05:47:13,817 - INFO - HTTP Request: POST http://localhost:11434/api/generate \"HTTP/1.1 200 OK\"\n",
      "2025-01-05 05:47:14,637 - INFO - HTTP Request: POST http://localhost:11434/api/generate \"HTTP/1.1 200 OK\"\n",
      "2025-01-05 05:47:15,205 - INFO - HTTP Request: POST http://localhost:11434/api/generate \"HTTP/1.1 200 OK\"\n",
      "2025-01-05 05:47:16,013 - INFO - HTTP Request: POST http://localhost:11434/api/generate \"HTTP/1.1 200 OK\"\n",
      "2025-01-05 05:47:16,705 - INFO - HTTP Request: POST http://localhost:11434/api/generate \"HTTP/1.1 200 OK\"\n",
      "2025-01-05 05:47:17,365 - INFO - HTTP Request: POST http://localhost:11434/api/generate \"HTTP/1.1 200 OK\"\n",
      "2025-01-05 05:47:18,061 - INFO - HTTP Request: POST http://localhost:11434/api/generate \"HTTP/1.1 200 OK\"\n",
      "2025-01-05 05:47:18,693 - INFO - HTTP Request: POST http://localhost:11434/api/generate \"HTTP/1.1 200 OK\"\n",
      "2025-01-05 05:47:19,157 - INFO - HTTP Request: POST http://localhost:11434/api/generate \"HTTP/1.1 200 OK\"\n",
      "2025-01-05 05:47:19,773 - INFO - HTTP Request: POST http://localhost:11434/api/generate \"HTTP/1.1 200 OK\"\n",
      "2025-01-05 05:47:20,501 - INFO - HTTP Request: POST http://localhost:11434/api/generate \"HTTP/1.1 200 OK\"\n",
      "2025-01-05 05:47:20,997 - INFO - HTTP Request: POST http://localhost:11434/api/generate \"HTTP/1.1 200 OK\"\n",
      "2025-01-05 05:47:21,697 - INFO - HTTP Request: POST http://localhost:11434/api/generate \"HTTP/1.1 200 OK\"\n",
      "2025-01-05 05:47:22,221 - INFO - HTTP Request: POST http://localhost:11434/api/generate \"HTTP/1.1 200 OK\"\n",
      "2025-01-05 05:47:22,885 - INFO - HTTP Request: POST http://localhost:11434/api/generate \"HTTP/1.1 200 OK\"\n",
      "2025-01-05 05:47:23,737 - INFO - HTTP Request: POST http://localhost:11434/api/generate \"HTTP/1.1 200 OK\"\n",
      "2025-01-05 05:47:24,953 - INFO - HTTP Request: POST http://localhost:11434/api/generate \"HTTP/1.1 200 OK\"\n",
      "2025-01-05 05:47:26,033 - INFO - HTTP Request: POST http://localhost:11434/api/generate \"HTTP/1.1 200 OK\"\n",
      "2025-01-05 05:47:26,953 - INFO - HTTP Request: POST http://localhost:11434/api/generate \"HTTP/1.1 200 OK\"\n",
      "2025-01-05 05:47:27,809 - INFO - HTTP Request: POST http://localhost:11434/api/generate \"HTTP/1.1 200 OK\"\n",
      "2025-01-05 05:47:28,269 - INFO - HTTP Request: POST http://localhost:11434/api/generate \"HTTP/1.1 200 OK\"\n",
      "2025-01-05 05:47:28,921 - INFO - HTTP Request: POST http://localhost:11434/api/generate \"HTTP/1.1 200 OK\"\n",
      "2025-01-05 05:47:29,617 - INFO - HTTP Request: POST http://localhost:11434/api/generate \"HTTP/1.1 200 OK\"\n",
      "2025-01-05 05:47:30,341 - INFO - HTTP Request: POST http://localhost:11434/api/generate \"HTTP/1.1 200 OK\"\n",
      "2025-01-05 05:47:31,169 - INFO - HTTP Request: POST http://localhost:11434/api/generate \"HTTP/1.1 200 OK\"\n",
      "2025-01-05 05:47:31,985 - INFO - HTTP Request: POST http://localhost:11434/api/generate \"HTTP/1.1 200 OK\"\n",
      "2025-01-05 05:47:32,605 - INFO - HTTP Request: POST http://localhost:11434/api/generate \"HTTP/1.1 200 OK\"\n",
      "2025-01-05 05:47:33,453 - INFO - HTTP Request: POST http://localhost:11434/api/generate \"HTTP/1.1 200 OK\"\n",
      "2025-01-05 05:47:34,149 - INFO - HTTP Request: POST http://localhost:11434/api/generate \"HTTP/1.1 200 OK\"\n",
      "2025-01-05 05:47:34,829 - INFO - HTTP Request: POST http://localhost:11434/api/generate \"HTTP/1.1 200 OK\"\n",
      "2025-01-05 05:47:35,633 - INFO - HTTP Request: POST http://localhost:11434/api/generate \"HTTP/1.1 200 OK\"\n",
      "2025-01-05 05:47:36,253 - INFO - HTTP Request: POST http://localhost:11434/api/generate \"HTTP/1.1 200 OK\"\n",
      "2025-01-05 05:47:37,105 - INFO - HTTP Request: POST http://localhost:11434/api/generate \"HTTP/1.1 200 OK\"\n",
      "2025-01-05 05:47:37,761 - INFO - HTTP Request: POST http://localhost:11434/api/generate \"HTTP/1.1 200 OK\"\n",
      "2025-01-05 05:47:38,765 - INFO - HTTP Request: POST http://localhost:11434/api/generate \"HTTP/1.1 200 OK\"\n",
      "2025-01-05 05:47:39,773 - INFO - HTTP Request: POST http://localhost:11434/api/generate \"HTTP/1.1 200 OK\"\n",
      "2025-01-05 05:47:40,593 - INFO - HTTP Request: POST http://localhost:11434/api/generate \"HTTP/1.1 200 OK\"\n",
      "2025-01-05 05:47:41,365 - INFO - HTTP Request: POST http://localhost:11434/api/generate \"HTTP/1.1 200 OK\"\n",
      "2025-01-05 05:47:42,053 - INFO - HTTP Request: POST http://localhost:11434/api/generate \"HTTP/1.1 200 OK\"\n",
      "2025-01-05 05:47:42,545 - INFO - HTTP Request: POST http://localhost:11434/api/generate \"HTTP/1.1 200 OK\"\n",
      "2025-01-05 05:47:43,281 - INFO - HTTP Request: POST http://localhost:11434/api/generate \"HTTP/1.1 200 OK\"\n",
      "2025-01-05 05:47:44,161 - INFO - HTTP Request: POST http://localhost:11434/api/generate \"HTTP/1.1 200 OK\"\n",
      "2025-01-05 05:47:44,701 - INFO - HTTP Request: POST http://localhost:11434/api/generate \"HTTP/1.1 200 OK\"\n",
      "2025-01-05 05:47:45,353 - INFO - HTTP Request: POST http://localhost:11434/api/generate \"HTTP/1.1 200 OK\"\n",
      "2025-01-05 05:47:46,113 - INFO - HTTP Request: POST http://localhost:11434/api/generate \"HTTP/1.1 200 OK\"\n",
      "2025-01-05 05:47:46,673 - INFO - HTTP Request: POST http://localhost:11434/api/generate \"HTTP/1.1 200 OK\"\n",
      "2025-01-05 05:47:47,289 - INFO - HTTP Request: POST http://localhost:11434/api/generate \"HTTP/1.1 200 OK\"\n",
      "2025-01-05 05:47:48,225 - INFO - HTTP Request: POST http://localhost:11434/api/generate \"HTTP/1.1 200 OK\"\n",
      "2025-01-05 05:47:49,053 - INFO - HTTP Request: POST http://localhost:11434/api/generate \"HTTP/1.1 200 OK\"\n",
      "2025-01-05 05:47:49,717 - INFO - HTTP Request: POST http://localhost:11434/api/generate \"HTTP/1.1 200 OK\"\n",
      "2025-01-05 05:47:50,433 - INFO - HTTP Request: POST http://localhost:11434/api/generate \"HTTP/1.1 200 OK\"\n",
      "2025-01-05 05:47:51,057 - INFO - HTTP Request: POST http://localhost:11434/api/generate \"HTTP/1.1 200 OK\"\n",
      "2025-01-05 05:47:51,741 - INFO - HTTP Request: POST http://localhost:11434/api/generate \"HTTP/1.1 200 OK\"\n",
      "2025-01-05 05:47:52,433 - INFO - HTTP Request: POST http://localhost:11434/api/generate \"HTTP/1.1 200 OK\"\n",
      "2025-01-05 05:47:52,961 - INFO - HTTP Request: POST http://localhost:11434/api/generate \"HTTP/1.1 200 OK\"\n",
      "2025-01-05 05:47:53,709 - INFO - HTTP Request: POST http://localhost:11434/api/generate \"HTTP/1.1 200 OK\"\n",
      "2025-01-05 05:47:54,313 - INFO - HTTP Request: POST http://localhost:11434/api/generate \"HTTP/1.1 200 OK\"\n",
      "2025-01-05 05:47:55,061 - INFO - HTTP Request: POST http://localhost:11434/api/generate \"HTTP/1.1 200 OK\"\n",
      "2025-01-05 05:47:55,893 - INFO - HTTP Request: POST http://localhost:11434/api/generate \"HTTP/1.1 200 OK\"\n",
      "2025-01-05 05:47:56,533 - INFO - HTTP Request: POST http://localhost:11434/api/generate \"HTTP/1.1 200 OK\"\n",
      "2025-01-05 05:47:57,273 - INFO - HTTP Request: POST http://localhost:11434/api/generate \"HTTP/1.1 200 OK\"\n"
     ]
    },
    {
     "name": "stdout",
     "output_type": "stream",
     "text": [
      "en2ko translation done\n",
      "Results saved to ../result/translate/en2ko/GPU-A5000_llama3.1-Q4_K_M_calib-base.json.\n"
     ]
    }
   ],
   "source": [
    "# Initialize the translation environment\n",
    "try:\n",
    "    initialize_translation_environment(llm_model=all_configs[\"model_config\"][\"name\"])\n",
    "except EnvironmentError as e:\n",
    "    print(f\"Failed to initialize translation environment: {e}\")\n",
    "    exit(1)\n",
    "    \n",
    "# 한 -> 영 번역 \n",
    "num_benchmark = 100\n",
    "start_time = time() # start time\n",
    "batch_results = batch_translate_text(data_kor[:num_benchmark], source_language=\"Korean\", target_language=\"English\")\n",
    "batch_results[\"elapsed_time\"] = time() - start_time  # Add elapsed time to the results\n",
    "result_folder = os.path.join(all_configs[\"evaluation_settings\"][\"output_dir\"], \"ko2en\")\n",
    "result_file = os.path.join(result_folder, f\"{name_config}.json\")\n",
    "print('ko2en translation done')\n",
    "\n",
    "# Save intermediate result \n",
    "with open(result_file, \"w\") as file:\n",
    "    json.dump(batch_results, file, indent=4)  # Save the batch results in JSON format\n",
    "    print(f\"Results saved to {result_file}.\")\n",
    "    \n",
    "# 영 -> 한 번역 \n",
    "start_time = time()\n",
    "batch_results = batch_translate_text(data_eng[:num_benchmark], source_language=\"English\", target_language=\"Korean\")\n",
    "batch_results[\"elapsed_time\"] = time() - start_time  # Add elapsed time to the results\n",
    "result_folder = os.path.join(all_configs[\"evaluation_settings\"][\"output_dir\"], \"en2ko\")\n",
    "result_file = os.path.join(result_folder, f\"{name_config}.json\")\n",
    "print('en2ko translation done')\n",
    "\n",
    "# Save intermediate result \n",
    "with open(result_file, \"w\") as file:\n",
    "    json.dump(batch_results, file, indent=4)  # Save the batch results in JSON format\n",
    "    print(f\"Results saved to {result_file}.\")\n"
   ]
  }
 ],
 "metadata": {
  "kernelspec": {
   "display_name": "summeval",
   "language": "python",
   "name": "python3"
  },
  "language_info": {
   "codemirror_mode": {
    "name": "ipython",
    "version": 3
   },
   "file_extension": ".py",
   "mimetype": "text/x-python",
   "name": "python",
   "nbconvert_exporter": "python",
   "pygments_lexer": "ipython3",
   "version": "3.9.21"
  }
 },
 "nbformat": 4,
 "nbformat_minor": 2
}
