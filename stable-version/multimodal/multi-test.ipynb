{
 "cells": [
  {
   "cell_type": "code",
   "execution_count": 14,
   "metadata": {},
   "outputs": [
    {
     "name": "stdout",
     "output_type": "stream",
     "text": [
      "가운데에 있는 여성의 머리카락색상은 파스텔 핑크색입니다. 가운데에 있는 여성은 동양인으로 보입니다. 동양인은 일반적으로 아시아나 오세아니아 출신의 사람을 말합니다. 이 중에서 가장 많은 국가들은 중국, 일본, 한국, 인도네시아 및 베트남 등이 있습니다.\n"
     ]
    }
   ],
   "source": [
    "import ollama\n",
    "\n",
    "response = ollama.chat(\n",
    "    model='llama3.2-vision',\n",
    "    messages=[{\n",
    "        'role': 'user',\n",
    "        'content': '가운데 여자분의 머리는 무슨 색이야? 인종은 뭐야? 한글로 대답해줘',\n",
    "        'images': ['/home/dudaji/Jun/llm-rag-chatbot/stable-version/multimodal/997E873B5CD6C1CF14.png']\n",
    "    }]\n",
    ")\n",
    "\n",
    "print(response['message']['content'])"
   ]
  },
  {
   "cell_type": "code",
   "execution_count": 7,
   "metadata": {},
   "outputs": [
    {
     "name": "stdout",
     "output_type": "stream",
     "text": [
      "There are three people in this image. Given that it is a cropped photo, there could be more people outside of the frame. Since we can only see the heads and shoulders of these individuals, it's possible that they're part of a larger group or scene beyond what's visible here.\n"
     ]
    }
   ],
   "source": []
  },
  {
   "cell_type": "code",
   "execution_count": null,
   "metadata": {},
   "outputs": [],
   "source": []
  }
 ],
 "metadata": {
  "kernelspec": {
   "display_name": "langserve",
   "language": "python",
   "name": "python3"
  },
  "language_info": {
   "codemirror_mode": {
    "name": "ipython",
    "version": 3
   },
   "file_extension": ".py",
   "mimetype": "text/x-python",
   "name": "python",
   "nbconvert_exporter": "python",
   "pygments_lexer": "ipython3",
   "version": "3.11.9"
  }
 },
 "nbformat": 4,
 "nbformat_minor": 2
}
