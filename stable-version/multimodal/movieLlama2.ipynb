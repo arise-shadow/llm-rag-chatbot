{
 "cells": [
  {
   "cell_type": "code",
   "execution_count": 2,
   "metadata": {},
   "outputs": [
    {
     "data": {
      "application/vnd.jupyter.widget-view+json": {
       "model_id": "e56e26a8e7d74bcd84abe42bd19fc143",
       "version_major": 2,
       "version_minor": 0
      },
      "text/plain": [
       "Fetching 4 files:   0%|          | 0/4 [00:00<?, ?it/s]"
      ]
     },
     "metadata": {},
     "output_type": "display_data"
    },
    {
     "data": {
      "application/vnd.jupyter.widget-view+json": {
       "model_id": "056f765b7adb4f479d0427069d86c11c",
       "version_major": 2,
       "version_minor": 0
      },
      "text/plain": [
       "README.md:   0%|          | 0.00/31.0 [00:00<?, ?B/s]"
      ]
     },
     "metadata": {},
     "output_type": "display_data"
    },
    {
     "data": {
      "application/vnd.jupyter.widget-view+json": {
       "model_id": "a0fd81d81dc24b628a24870d1330fc46",
       "version_major": 2,
       "version_minor": 0
      },
      "text/plain": [
       "VideoLLaMA2-7B-8B-F16.gguf:   0%|          | 0.00/14.5G [00:00<?, ?B/s]"
      ]
     },
     "metadata": {},
     "output_type": "display_data"
    },
    {
     "data": {
      "application/vnd.jupyter.widget-view+json": {
       "model_id": "69e6d9dd644c4cd2ab5f0350a0c51b19",
       "version_major": 2,
       "version_minor": 0
      },
      "text/plain": [
       "mmproj-model-f16.gguf:   0%|          | 0.00/1.72G [00:00<?, ?B/s]"
      ]
     },
     "metadata": {},
     "output_type": "display_data"
    },
    {
     "data": {
      "application/vnd.jupyter.widget-view+json": {
       "model_id": "e06e4ec1626340fe83450635456a7ec7",
       "version_major": 2,
       "version_minor": 0
      },
      "text/plain": [
       ".gitattributes:   0%|          | 0.00/1.64k [00:00<?, ?B/s]"
      ]
     },
     "metadata": {},
     "output_type": "display_data"
    },
    {
     "name": "stdout",
     "output_type": "stream",
     "text": [
      "Files downloaded to: ./Ollama_VideoLLaMA2-7B\n"
     ]
    }
   ],
   "source": [
    "from huggingface_hub import hf_hub_download, snapshot_download\n",
    "\n",
    "# Define the repository ID (username/repo_name)\n",
    "repo_id = \"ManishThota/Ollama_VideoLLaMA2-7B\"\n",
    "\n",
    "# Define the local directory to save the files\n",
    "local_dir = \"./Ollama_VideoLLaMA2-7B\"\n",
    "\n",
    "# Download the entire repository snapshot\n",
    "snapshot_download(repo_id, local_dir=local_dir)\n",
    "\n",
    "print(f\"Files downloaded to: {local_dir}\")"
   ]
  }
 ],
 "metadata": {
  "kernelspec": {
   "display_name": "langserve",
   "language": "python",
   "name": "python3"
  },
  "language_info": {
   "codemirror_mode": {
    "name": "ipython",
    "version": 3
   },
   "file_extension": ".py",
   "mimetype": "text/x-python",
   "name": "python",
   "nbconvert_exporter": "python",
   "pygments_lexer": "ipython3",
   "version": "3.11.9"
  }
 },
 "nbformat": 4,
 "nbformat_minor": 2
}
