{
 "cells": [
  {
   "cell_type": "code",
   "execution_count": 11,
   "metadata": {},
   "outputs": [],
   "source": [
    "# Import the function from gpu.py\n",
    "import sys\n",
    "sys.path.append('./translate')  # Add the module path to the system path\n",
    "from gpu import translate_with_gpu"
   ]
  },
  {
   "cell_type": "code",
   "execution_count": 13,
   "metadata": {},
   "outputs": [],
   "source": [
    "from translate import *"
   ]
  },
  {
   "cell_type": "code",
   "execution_count": 12,
   "metadata": {},
   "outputs": [
    {
     "data": {
      "text/plain": [
       "'Hello, how vast is the universe?'"
      ]
     },
     "execution_count": 12,
     "metadata": {},
     "output_type": "execute_result"
    }
   ],
   "source": [
    "# Test input\n",
    "test_input = \"안녕하세요, 우주는 얼마나 넓나요?\"\n",
    "\n",
    "# Call the translate_text function\n",
    "out_text = translate_with_gpu(test_input)\n",
    "out_text"
   ]
  },
  {
   "cell_type": "code",
   "execution_count": null,
   "metadata": {},
   "outputs": [],
   "source": [
    "# translate/common.py\n",
    "from environment import detect_environment\n",
    "from translate.gpu import translate_with_gpu\n",
    "from translate.furiosa import translate_with_furiosa\n",
    "\n",
    "def translate_text(input_text, source_language=\"ko\", target_language=\"en\"):\n",
    "    \"\"\"\n",
    "    Translates text based on the detected environment.\n",
    "\n",
    "    Args:\n",
    "        input_text (str): Text to be translated.\n",
    "        source_language (str): Source language (default: \"ko\").\n",
    "        target_language (str): Target language (default: \"en\").\n",
    "\n",
    "    Returns:\n",
    "        str: Translated text.\n",
    "    \"\"\"\n",
    "    environment = detect_environment()\n",
    "\n",
    "    if environment == \"gpu\":\n",
    "        return translate_with_gpu(input_text, source_language, target_language)\n",
    "    elif environment == \"furiosa\":\n",
    "        return translate_with_furiosa(input_text, source_language, target_language)\n",
    "    else:\n",
    "        raise EnvironmentError(\n",
    "            \"No suitable environment detected. Please ensure GPU or Furiosa RNGD is available.\"\n",
    "        )"
   ]
  }
 ],
 "metadata": {
  "kernelspec": {
   "display_name": "langserve",
   "language": "python",
   "name": "python3"
  },
  "language_info": {
   "codemirror_mode": {
    "name": "ipython",
    "version": 3
   },
   "file_extension": ".py",
   "mimetype": "text/x-python",
   "name": "python",
   "nbconvert_exporter": "python",
   "pygments_lexer": "ipython3",
   "version": "3.11.9"
  }
 },
 "nbformat": 4,
 "nbformat_minor": 2
}
