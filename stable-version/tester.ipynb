{
 "cells": [
  {
   "cell_type": "code",
   "execution_count": 11,
   "metadata": {},
   "outputs": [],
   "source": [
    "# Import the function from gpu.py\n",
    "import sys\n",
    "sys.path.append('./translate')  # Add the module path to the system path\n",
    "from gpu import translate_with_gpu"
   ]
  },
  {
   "cell_type": "code",
   "execution_count": 13,
   "metadata": {},
   "outputs": [],
   "source": [
    "from translate import *"
   ]
  },
  {
   "cell_type": "code",
   "execution_count": 14,
   "metadata": {},
   "outputs": [
    {
     "data": {
      "text/plain": [
       "'Hello, how vast is the universe?'"
      ]
     },
     "execution_count": 14,
     "metadata": {},
     "output_type": "execute_result"
    }
   ],
   "source": [
    "# Test input\n",
    "test_input = \"안녕하세요, 우주는 얼마나 넓나요?\"\n",
    "\n",
    "# Call the translate_text function\n",
    "out_text = translate_text(test_input)\n",
    "out_text"
   ]
  },
  {
   "cell_type": "code",
   "execution_count": null,
   "metadata": {},
   "outputs": [],
   "source": [
    "# translate/common.py\n",
    "from environment import detect_environment\n",
    "from translate.gpu import translate_with_gpu\n",
    "from translate.furiosa import translate_with_furiosa\n",
    "\n",
    "def translate_text(input_text, source_language=\"ko\", target_language=\"en\"):\n",
    "    \"\"\"\n",
    "    Translates text based on the detected environment.\n",
    "\n",
    "    Args:\n",
    "        input_text (str): Text to be translated.\n",
    "        source_language (str): Source language (default: \"ko\").\n",
    "        target_language (str): Target language (default: \"en\").\n",
    "\n",
    "    Returns:\n",
    "        str: Translated text.\n",
    "    \"\"\"\n",
    "    environment = detect_environment()\n",
    "\n",
    "    if environment == \"gpu\":\n",
    "        return translate_with_gpu(input_text, source_language, target_language)\n",
    "    elif environment == \"furiosa\":\n",
    "        return translate_with_furiosa(input_text, source_language, target_language)\n",
    "    else:\n",
    "        raise EnvironmentError(\n",
    "            \"No suitable environment detected. Please ensure GPU or Furiosa RNGD is available.\"\n",
    "        )"
   ]
  },
  {
   "cell_type": "code",
   "execution_count": 23,
   "metadata": {},
   "outputs": [
    {
     "name": "stdout",
     "output_type": "stream",
     "text": [
      "{'BLEU': 0.0103, 'METEOR': 0.1594}\n"
     ]
    }
   ],
   "source": [
    "r = calculate_bleu_meteor(reference_text, candidate_text)\n",
    "print(r)"
   ]
  },
  {
   "cell_type": "code",
   "execution_count": 2,
   "metadata": {},
   "outputs": [
    {
     "name": "stdout",
     "output_type": "stream",
     "text": [
      "BLEU Score: 0.0103\n",
      "METEOR Score: 0.1594\n"
     ]
    },
    {
     "name": "stderr",
     "output_type": "stream",
     "text": [
      "/home/dudaji/miniconda3/envs/langserve/lib/python3.11/site-packages/transformers/tokenization_utils_base.py:1601: FutureWarning: `clean_up_tokenization_spaces` was not set. It will be set to `True` by default. This behavior will be depracted in transformers v4.45, and will be then set to `False` by default. For more details check this issue: https://github.com/huggingface/transformers/issues/31884\n",
      "  warnings.warn(\n"
     ]
    },
    {
     "name": "stdout",
     "output_type": "stream",
     "text": [
      "BERTScore (F1): 0.7193\n"
     ]
    }
   ],
   "source": [
    "# quality_metrics.py에서 필요한 함수 임포트\n",
    "from metrics.quality_metrics import calculate_bleu_meteor_score, calculate_bert_score\n",
    "\n",
    "# 예제 텍스트 설정\n",
    "reference_text = \"Increasingly supermarkets are getting a more varied section of ready-made food. Some even provide a microwave oven or other means to heat food.\"\n",
    "candidate_text = \"At the supermarket, the variety of ready-to-eat foods has increased. The store has also begun to offer services such as using electronic money.\"\n",
    "\n",
    "# BLEU 점수 계산\n",
    "bleu_score, meteor_score = calculate_bleu_meteor_score(reference_text, candidate_text)\n",
    "print(f\"BLEU Score: {bleu_score}\")\n",
    "print(f\"METEOR Score: {meteor_score}\")\n",
    "\n",
    "# BERTScore 계산\n",
    "try:\n",
    "    bert_score = calculate_bert_score(reference_text, candidate_text, tgt_lang=\"English\", device=\"cuda\")\n",
    "    print(f\"BERTScore (F1): {bert_score}\")\n",
    "except Exception as e:\n",
    "    print(f\"Error calculating BERTScore: {e}\")"
   ]
  },
  {
   "cell_type": "code",
   "execution_count": 3,
   "metadata": {},
   "outputs": [
    {
     "data": {
      "text/plain": [
       "0.0103"
      ]
     },
     "execution_count": 3,
     "metadata": {},
     "output_type": "execute_result"
    }
   ],
   "source": [
    "bleu_score"
   ]
  }
 ],
 "metadata": {
  "kernelspec": {
   "display_name": "langserve",
   "language": "python",
   "name": "python3"
  },
  "language_info": {
   "codemirror_mode": {
    "name": "ipython",
    "version": 3
   },
   "file_extension": ".py",
   "mimetype": "text/x-python",
   "name": "python",
   "nbconvert_exporter": "python",
   "pygments_lexer": "ipython3",
   "version": "3.11.9"
  }
 },
 "nbformat": 4,
 "nbformat_minor": 2
}
