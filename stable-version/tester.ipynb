{
 "cells": [
  {
   "cell_type": "code",
   "execution_count": 11,
   "metadata": {},
   "outputs": [],
   "source": [
    "# Import the function from gpu.py\n",
    "import sys\n",
    "sys.path.append('./translate')  # Add the module path to the system path\n",
    "from gpu import translate_with_gpu"
   ]
  },
  {
   "cell_type": "code",
   "execution_count": 13,
   "metadata": {},
   "outputs": [],
   "source": [
    "from translate import *"
   ]
  },
  {
   "cell_type": "code",
   "execution_count": 14,
   "metadata": {},
   "outputs": [
    {
     "data": {
      "text/plain": [
       "'Hello, how vast is the universe?'"
      ]
     },
     "execution_count": 14,
     "metadata": {},
     "output_type": "execute_result"
    }
   ],
   "source": [
    "# Test input\n",
    "test_input = \"안녕하세요, 우주는 얼마나 넓나요?\"\n",
    "\n",
    "# Call the translate_text function\n",
    "out_text = translate_text(test_input)\n",
    "out_text"
   ]
  },
  {
   "cell_type": "code",
   "execution_count": null,
   "metadata": {},
   "outputs": [],
   "source": [
    "# translate/common.py\n",
    "from environment import detect_environment\n",
    "from translate.gpu import translate_with_gpu\n",
    "from translate.furiosa import translate_with_furiosa\n",
    "\n",
    "def translate_text(input_text, source_language=\"ko\", target_language=\"en\"):\n",
    "    \"\"\"\n",
    "    Translates text based on the detected environment.\n",
    "\n",
    "    Args:\n",
    "        input_text (str): Text to be translated.\n",
    "        source_language (str): Source language (default: \"ko\").\n",
    "        target_language (str): Target language (default: \"en\").\n",
    "\n",
    "    Returns:\n",
    "        str: Translated text.\n",
    "    \"\"\"\n",
    "    environment = detect_environment()\n",
    "\n",
    "    if environment == \"gpu\":\n",
    "        return translate_with_gpu(input_text, source_language, target_language)\n",
    "    elif environment == \"furiosa\":\n",
    "        return translate_with_furiosa(input_text, source_language, target_language)\n",
    "    else:\n",
    "        raise EnvironmentError(\n",
    "            \"No suitable environment detected. Please ensure GPU or Furiosa RNGD is available.\"\n",
    "        )"
   ]
  },
  {
   "cell_type": "code",
   "execution_count": 23,
   "metadata": {},
   "outputs": [
    {
     "name": "stdout",
     "output_type": "stream",
     "text": [
      "{'BLEU': 0.0103, 'METEOR': 0.1594}\n"
     ]
    }
   ],
   "source": [
    "r = calculate_bleu_meteor(reference_text, candidate_text)\n",
    "print(r)"
   ]
  },
  {
   "cell_type": "code",
   "execution_count": 2,
   "metadata": {},
   "outputs": [
    {
     "name": "stdout",
     "output_type": "stream",
     "text": [
      "BLEU Score: 0.0103\n",
      "METEOR Score: 0.1594\n"
     ]
    },
    {
     "name": "stderr",
     "output_type": "stream",
     "text": [
      "/home/dudaji/miniconda3/envs/langserve/lib/python3.11/site-packages/transformers/tokenization_utils_base.py:1601: FutureWarning: `clean_up_tokenization_spaces` was not set. It will be set to `True` by default. This behavior will be depracted in transformers v4.45, and will be then set to `False` by default. For more details check this issue: https://github.com/huggingface/transformers/issues/31884\n",
      "  warnings.warn(\n"
     ]
    },
    {
     "name": "stdout",
     "output_type": "stream",
     "text": [
      "BERTScore (F1): 0.7193\n"
     ]
    }
   ],
   "source": [
    "# quality_metrics.py에서 필요한 함수 임포트\n",
    "from metrics.quality_metrics import calculate_bleu_meteor_score, calculate_bert_score\n",
    "\n",
    "# 예제 텍스트 설정\n",
    "reference_text = \"Increasingly supermarkets are getting a more varied section of ready-made food. Some even provide a microwave oven or other means to heat food.\"\n",
    "candidate_text = \"At the supermarket, the variety of ready-to-eat foods has increased. The store has also begun to offer services such as using electronic money.\"\n",
    "\n",
    "# BLEU 점수 계산\n",
    "bleu_score, meteor_score, num_tokens = calculate_bleu_meteor_score(reference_text, candidate_text)\n",
    "print(f\"BLEU Score: {bleu_score}\")\n",
    "print(f\"METEOR Score: {meteor_score}\")\n",
    "\n",
    "# BERTScore 계산\n",
    "try:\n",
    "    bert_score = calculate_bert_score(reference_text, candidate_text, tgt_lang=\"English\", device=\"cuda\")\n",
    "    print(f\"BERTScore (F1): {bert_score}\")\n",
    "except Exception as e:\n",
    "    print(f\"Error calculating BERTScore: {e}\")"
   ]
  },
  {
   "cell_type": "code",
   "execution_count": 25,
   "metadata": {},
   "outputs": [],
   "source": [
    "from translate.one_trans import initialize_translation_environment, translate_text\n",
    "import time\n",
    "from metrics.quality_metrics import calculate_bleu_meteor_score, calculate_bert_score\n",
    "\n",
    "\n",
    "# Initialize the translation environment\n",
    "try:\n",
    "    initialize_translation_environment()\n",
    "except EnvironmentError as e:\n",
    "    print(f\"Failed to initialize translation environment: {e}\")\n",
    "    exit(1)\n",
    "\n",
    "# Perform translation\n",
    "test_input = \"안녕하세요, 번역 테스트입니다.\"\n",
    "ref_text = \"Hi, this is a test for translation\""
   ]
  },
  {
   "cell_type": "code",
   "execution_count": 26,
   "metadata": {},
   "outputs": [
    {
     "name": "stdout",
     "output_type": "stream",
     "text": [
      "Translated Text: Hello, this is a translation test.\n"
     ]
    }
   ],
   "source": [
    "start_time = time.time()\n",
    "result = translate_text(test_input)\n",
    "time_translate = time.time() - start_time\n",
    "\n",
    "print(\"Translated Text:\", result)\n"
   ]
  },
  {
   "cell_type": "code",
   "execution_count": 32,
   "metadata": {},
   "outputs": [],
   "source": [
    "from metrics.quality_metrics import tokenize\n",
    "from nltk.translate.bleu_score import sentence_bleu, SmoothingFunction\n",
    "\n",
    "# 텍스트를 토큰화\n",
    "reference_tokens = tokenize(ref_text, \"English\")\n",
    "candidate_tokens = tokenize(result, \"English\")\n",
    "smoothing_function = SmoothingFunction().method1\n"
   ]
  },
  {
   "cell_type": "code",
   "execution_count": 38,
   "metadata": {},
   "outputs": [
    {
     "data": {
      "text/plain": [
       "['Hello', ',', 'this', 'is', 'a', 'translation', 'test', '.']"
      ]
     },
     "execution_count": 38,
     "metadata": {},
     "output_type": "execute_result"
    }
   ],
   "source": [
    "candidate_tokens"
   ]
  },
  {
   "cell_type": "code",
   "execution_count": 49,
   "metadata": {},
   "outputs": [
    {
     "data": {
      "text/plain": [
       "0.840561224489796"
      ]
     },
     "execution_count": 49,
     "metadata": {},
     "output_type": "execute_result"
    }
   ],
   "source": [
    "from nltk.translate.meteor_score import meteor_score\n",
    "reference_str = \" \".join(reference_tokens)  # 리스트 -> 문자열 변환\n",
    "candidate_str = \" \".join(candidate_tokens)  # 리스트 -> 문자열 변환\n",
    "# meteor = meteor_score([reference_str], candidate_str)\n",
    "meteor = meteor_score([reference_tokens], candidate_tokens)\n",
    "meteor\n"
   ]
  },
  {
   "cell_type": "code",
   "execution_count": null,
   "metadata": {},
   "outputs": [],
   "source": [
    "num_tokens = len(candidate_tokens)\n",
    "\n",
    "# 지표 계산\n",
    "bleu = sentence_bleu([reference_tokens], candidate_tokens, smoothing_function=smoothing_function)\n",
    "meteor = meteor_score([reference_tokens], candidate_tokens)"
   ]
  },
  {
   "cell_type": "code",
   "execution_count": null,
   "metadata": {},
   "outputs": [],
   "source": [
    "from translate.one_trans import initialize_translation_environment, translate_text\n",
    "initialize_translation_environment()"
   ]
  },
  {
   "cell_type": "code",
   "execution_count": 29,
   "metadata": {},
   "outputs": [
    {
     "data": {
      "text/plain": [
       "(0.3826, 0.8406)"
      ]
     },
     "execution_count": 29,
     "metadata": {},
     "output_type": "execute_result"
    }
   ],
   "source": [
    "bleu_score, meteor_score = calculate_bleu_meteor_score(ref_text, result)\n",
    "bleu_score, meteor_score"
   ]
  },
  {
   "cell_type": "code",
   "execution_count": 1,
   "metadata": {},
   "outputs": [
    {
     "name": "stderr",
     "output_type": "stream",
     "text": [
      "2024-12-30 19:01:55,297 - INFO - Translation environment detected: GPU. Using GPU for translations.\n",
      "2024-12-30 19:01:55,618 - INFO - HTTP Request: POST http://localhost:11434/api/generate \"HTTP/1.1 200 OK\"\n"
     ]
    },
    {
     "name": "stdout",
     "output_type": "stream",
     "text": [
      "Translated Text: Hello, this is a translation test.\n",
      "BLEU Score: 0.3826\n",
      "METEOR Score: 0.8406\n",
      "TPS: 24.951911264727492\n"
     ]
    }
   ],
   "source": [
    "from translate.one_trans import initialize_translation_environment, translate_text\n",
    "import time\n",
    "from metrics.quality_metrics import calculate_bleu_meteor_score, calculate_bert_score\n",
    "from metrics.evaluate_translation import evaluate_translation\n",
    "\n",
    "\n",
    "# Initialize the translation environment\n",
    "try:\n",
    "    initialize_translation_environment()\n",
    "except EnvironmentError as e:\n",
    "    print(f\"Failed to initialize translation environment: {e}\")\n",
    "    exit(1)\n",
    "\n",
    "# Perform translation\n",
    "test_input = \"안녕하세요, 번역 테스트입니다.\"\n",
    "ref_text = \"Hi, this is a test for translation\"\n",
    "try:\n",
    "    start_time = time.time()\n",
    "    result = translate_text(test_input)\n",
    "    time_translate = time.time() - start_time\n",
    "    \n",
    "    bleu_val, meteor_val, num_tokens = calculate_bleu_meteor_score(ref_text, result)\n",
    "    \n",
    "    print(\"Translated Text:\", result)\n",
    "    print(f\"BLEU Score: {bleu_val}\")\n",
    "    print(f\"METEOR Score: {meteor_val}\")\n",
    "    print(\"TPS:\", num_tokens/time_translate)\n",
    "except RuntimeError as e:\n",
    "    print(f\"Translation failed: {e}\")"
   ]
  },
  {
   "cell_type": "code",
   "execution_count": 1,
   "metadata": {},
   "outputs": [
    {
     "name": "stdout",
     "output_type": "stream",
     "text": [
      "Active Metrics: ['BLEU', 'METEOR', 'BERTScore', 'tps']\n"
     ]
    },
    {
     "name": "stderr",
     "output_type": "stream",
     "text": [
      "2024-12-30 19:39:57,114 - INFO - Translation environment detected: GPU. Using GPU for translations.\n",
      "2024-12-30 19:39:57,430 - INFO - HTTP Request: POST http://localhost:11434/api/generate \"HTTP/1.1 200 OK\"\n",
      "/home/dudaji/miniconda3/envs/langserve/lib/python3.11/site-packages/transformers/tokenization_utils_base.py:1601: FutureWarning: `clean_up_tokenization_spaces` was not set. It will be set to `True` by default. This behavior will be depracted in transformers v4.45, and will be then set to `False` by default. For more details check this issue: https://github.com/huggingface/transformers/issues/31884\n",
      "  warnings.warn(\n"
     ]
    },
    {
     "name": "stdout",
     "output_type": "stream",
     "text": [
      "Metrics: {'BLEU': 0.3826, 'METEOR': 0.8406, 'BERTScore': 0.8641}\n"
     ]
    }
   ],
   "source": [
    "from time import time\n",
    "from translate.one_trans import initialize_translation_environment, translate_text\n",
    "from metrics.load_config import load_active_metrics\n",
    "from metrics.evaluation_transition import evaluate_translation\n",
    "\n",
    "# Example usage\n",
    "config_path = \"/home/dudaji/Jun/llm-rag-chatbot/main/config.yaml\"\n",
    "active_metrics = load_active_metrics(config_path)\n",
    "print(\"Active Metrics:\", active_metrics)\n",
    "\n",
    "# Test data\n",
    "test_input = \"안녕하세요, 번역 테스트입니다.\"\n",
    "ref_text = \"Hi, this is a test for translation\"\n",
    "\n",
    "# Initialize the translation environment\n",
    "try:\n",
    "    initialize_translation_environment()\n",
    "except EnvironmentError as e:\n",
    "    print(f\"Failed to initialize translation environment: {e}\")\n",
    "    exit(1)\n",
    "    \n",
    "    \n",
    "# Translation\n",
    "try:\n",
    "    start_time = time()\n",
    "    translated_text = translate_text(test_input)\n",
    "    elapsed_time = time() - start_time\n",
    "except RuntimeError as e:\n",
    "    print(f\"Translation failed: {e}\")\n",
    "    translated_text = None\n",
    "    elapsed_time = 0.0\n",
    "\n",
    "# Evaluation\n",
    "if translated_text:\n",
    "    metrics = evaluate_translation(translated_text, ref_text, elapsed_time, active_metrics)\n",
    "    print(\"Metrics:\", metrics)"
   ]
  },
  {
   "cell_type": "code",
   "execution_count": 56,
   "metadata": {},
   "outputs": [
    {
     "name": "stdout",
     "output_type": "stream",
     "text": [
      "BLEU Score: 0.0203\n",
      "METEOR Score: 0.1667\n",
      "Number of Tokens: 8\n"
     ]
    }
   ],
   "source": [
    "from translate.one_trans import initialize_translation_environment, translate_text\n",
    "import time\n",
    "from metrics.quality_metrics import calculate_bleu_meteor_score, calculate_bert_score\n",
    "\n",
    "reference = \"Increasingly supermarkets are getting a more varied section of ready-made food.\"\n",
    "candidate = \"At the supermarket, the variety of ready-to-eat foods has increased.\"\n",
    "\n",
    "# 함수 호출\n",
    "try:\n",
    "    bleu_val, meteor_val = calculate_bleu_meteor_score(reference, candidate, tgt_lang=\"English\")\n",
    "    print(\"BLEU Score:\", bleu_val)\n",
    "    print(\"METEOR Score:\", meteor_val)\n",
    "    print(\"Number of Tokens:\", num_tokens)\n",
    "except ValueError as e:\n",
    "    print(f\"Error occurred: {e}\")"
   ]
  },
  {
   "cell_type": "markdown",
   "metadata": {},
   "source": []
  }
 ],
 "metadata": {
  "kernelspec": {
   "display_name": "langserve",
   "language": "python",
   "name": "python3"
  },
  "language_info": {
   "codemirror_mode": {
    "name": "ipython",
    "version": 3
   },
   "file_extension": ".py",
   "mimetype": "text/x-python",
   "name": "python",
   "nbconvert_exporter": "python",
   "pygments_lexer": "ipython3",
   "version": "3.11.9"
  }
 },
 "nbformat": 4,
 "nbformat_minor": 2
}
