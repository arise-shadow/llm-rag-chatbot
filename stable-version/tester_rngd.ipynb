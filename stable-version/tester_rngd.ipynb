{
 "cells": [
  {
   "cell_type": "markdown",
   "metadata": {},
   "source": [
    "# RNGD에서 번역 LLM 실행하기 "
   ]
  },
  {
   "cell_type": "markdown",
   "metadata": {},
   "source": [
    "- 환경 탐지 (GPU, NPU-FuriosaAI RNGD)\n",
    "\n",
    "- 번역, 모니터링 실행"
   ]
  },
  {
   "cell_type": "code",
   "execution_count": 1,
   "metadata": {},
   "outputs": [
    {
     "name": "stderr",
     "output_type": "stream",
     "text": [
      "WARNING:2025-01-01 22:07:32 WARNING[XFORMERS]: xFormers can't load C++/CUDA extensions. xFormers was built for:\n",
      "    PyTorch 2.5.1+cu121 with CUDA 1201 (you have 2.1.0+cu121)\n",
      "    Python  3.10.15 (you have 3.10.15)\n",
      "  Please reinstall xformers (see https://github.com/facebookresearch/xformers#installing-xformers)\n",
      "  Memory-efficient attention, SwiGLU, sparse and more won't be available.\n",
      "  Set XFORMERS_MORE_DETAILS=1 for more details\n",
      "Xformers is not installed correctly. If you want to use memory_efficient_attention to accelerate training use the following command to install Xformers\n",
      "pip install xformers.\n"
     ]
    },
    {
     "name": "stdout",
     "output_type": "stream",
     "text": [
      "Configurations Loaded Successfully:\n",
      "Active Metrics: ['BLEU', 'METEOR', 'BERTScore', 'tps']\n",
      "Device Config: {'type': 'GPU', 'model': 'A100', 'count': 1}\n",
      "Model Config: {'name': 'llama3.1-8B-Instruct', 'quantization': 'W8A8'}\n",
      "Evaluation Settings: {'task': 'translation', 'output_dir': './results/translation'}\n"
     ]
    }
   ],
   "source": [
    "from time import time\n",
    "from translate.one_trans import initialize_translation_environment, translate_text\n",
    "from common.load_config import load_all_configurations\n",
    "from metrics.evaluation_transition import evaluate_translation\n",
    "\n",
    "# Example usage\n",
    "config_path = \"/home/elicer/Jun/llm-rag-chatbot/main/config.yaml\"\n",
    "all_configs = load_all_configurations(config_path)\n",
    "\n",
    "# Print the loaded configurations\n",
    "print(\"Configurations Loaded Successfully:\")\n",
    "print(\"Active Metrics:\", all_configs[\"active_metrics\"])\n",
    "print(\"Device Config:\", all_configs[\"device_config\"])\n",
    "print(\"Model Config:\", all_configs[\"model_config\"])\n",
    "print(\"Evaluation Settings:\", all_configs[\"evaluation_settings\"])"
   ]
  },
  {
   "cell_type": "code",
   "execution_count": 3,
   "metadata": {},
   "outputs": [
    {
     "name": "stderr",
     "output_type": "stream",
     "text": [
      "INFO:2025-01-01 22:08:39 Translation environment detected: Furiosa NPU. Using NPU for translations.\n"
     ]
    },
    {
     "name": "stdout",
     "output_type": "stream",
     "text": [
      "Original: 최신 AI 기술을 활용하여 고객의 요구를 더 효과적으로 예측하고, 개인화된 서비스를 제공할 수 있는 플랫폼을 개발 중입니다.\n",
      "Translated text: 最新的AI技術を利用し、�客の需求予測を更適切히実行し、个別 hóaされたサービスの提供を可能�とするプラットフォ是一个中004ます。\n"
     ]
    }
   ],
   "source": [
    "\n",
    "# Test data\n",
    "test_input = \"최신 AI 기술을 활용하여 고객의 요구를 더 효과적으로 예측하고, 개인화된 서비스를 제공할 수 있는 플랫폼을 개발 중입니다.\"\n",
    "test_lang = \"Korean\"\n",
    "ref_text = \"最新のAI技術を活用して顧客のニーズをより効果的に予測し、個別化されたサービスを提供できるプラットフォームを開発中です\"\n",
    "target_lang = \"Japanese\"\n",
    "\n",
    "# test_input = \"最新のAI技術を活用して顧客のニーズをより効果的に予測し、個別化されたサービスを提供できるプラットフォームを開発中です\"\n",
    "# test_lang = \"Japanese\"\n",
    "# ref_text = \"최신 AI 기술을 활용하여 고객의 요구를 더 효과적으로 예측하고, 개인화된 서비스를 제공할 수 있는 플랫폼을 개발 중입니다.\"\n",
    "# target_lang = \"Korean\"\n",
    "# test_input = \"이론적인 성능만이 아니라, 실제로 서비스 환경에서 적용 가능한 지표를 바탕으로 NPU의 가치를 입증.\"\n",
    "# ref_text = \"The value of the NPU is demonstrated not only through its theoretical performance but also by metrics that are applicable in real-world service environments.\"\n",
    "\n",
    "# Initialize the translation environment\n",
    "try:\n",
    "    initialize_translation_environment()\n",
    "except EnvironmentError as e:\n",
    "    print(f\"Failed to initialize translation environment: {e}\")\n",
    "    exit(1)\n",
    "    \n",
    "    \n",
    "# Translation\n",
    "try:\n",
    "    start_time = time()\n",
    "    translated_text = translate_text(test_input, source_language=test_lang, target_language=target_lang)\n",
    "    elapsed_time = time() - start_time\n",
    "    print(f\"Original: {test_input}\")\n",
    "    print(f\"Translated text: {translated_text}\")\n",
    "except RuntimeError as e:\n",
    "    print(f\"Translation failed: {e}\")\n",
    "    translated_text = None\n",
    "    elapsed_time = 0.0"
   ]
  },
  {
   "cell_type": "markdown",
   "metadata": {},
   "source": [
    "## Evaluation \n",
    "\n",
    "- load_config에서 지정한 것들 고려"
   ]
  },
  {
   "cell_type": "code",
   "execution_count": 4,
   "metadata": {},
   "outputs": [
    {
     "name": "stderr",
     "output_type": "stream",
     "text": [
      "/home/elicer/anaconda3/envs/jun-rngd/lib/python3.10/site-packages/huggingface_hub/file_download.py:797: FutureWarning: `resume_download` is deprecated and will be removed in version 1.0.0. Downloads always resume when possible. If you want to force a new download, use `force_download=True`.\n",
      "  warnings.warn(\n"
     ]
    },
    {
     "name": "stdout",
     "output_type": "stream",
     "text": [
      "Error calculating BERTScore: Found no NVIDIA driver on your system. Please check that you have an NVIDIA GPU and installed a driver from http://www.nvidia.com/Download/index.aspx\n",
      "Metrics: {'BLEU': 0.1059, 'METEOR': 0.4145, 'tps': 13.760462211243002, 'BERTScore': 0.0}\n"
     ]
    }
   ],
   "source": [
    "# Evaluation\n",
    "metrics = evaluate_translation(translated_text, ref_text, target_lang, \n",
    "                               elapsed_time, all_configs[\"active_metrics\"])\n",
    "print(\"Metrics:\", metrics)"
   ]
  },
  {
   "cell_type": "code",
   "execution_count": null,
   "metadata": {},
   "outputs": [],
   "source": [
    "from time import time\n",
    "from translate.one_trans import initialize_translation_environment, translate_text\n",
    "from metrics.load_config import load_active_metrics\n",
    "from metrics.evaluation_transition import evaluate_translation\n",
    "\n",
    "# Example usage\n",
    "config_path = \"/home/elicer/Jun/llm-rag-chatbot/main/config_npu_translation.yaml\"\n",
    "active_metrics = load_active_metrics(config_path)\n",
    "print(\"Active Metrics:\", active_metrics)\n",
    "\n",
    "\n"
   ]
  },
  {
   "cell_type": "code",
   "execution_count": 11,
   "metadata": {},
   "outputs": [],
   "source": [
    "# Import the function from gpu.py\n",
    "import sys\n",
    "sys.path.append('./translate')  # Add the module path to the system path\n",
    "from gpu import translate_with_gpu"
   ]
  },
  {
   "cell_type": "code",
   "execution_count": 13,
   "metadata": {},
   "outputs": [],
   "source": [
    "from translate import *"
   ]
  },
  {
   "cell_type": "code",
   "execution_count": 14,
   "metadata": {},
   "outputs": [
    {
     "data": {
      "text/plain": [
       "'Hello, how vast is the universe?'"
      ]
     },
     "execution_count": 14,
     "metadata": {},
     "output_type": "execute_result"
    }
   ],
   "source": [
    "# Test input\n",
    "test_input = \"안녕하세요, 우주는 얼마나 넓나요?\"\n",
    "\n",
    "# Call the translate_text function\n",
    "out_text = translate_text(test_input)\n",
    "out_text"
   ]
  },
  {
   "cell_type": "code",
   "execution_count": null,
   "metadata": {},
   "outputs": [],
   "source": [
    "# translate/common.py\n",
    "from environment import detect_environment\n",
    "from translate.gpu import translate_with_gpu\n",
    "from translate.furiosa import translate_with_furiosa\n",
    "\n",
    "def translate_text(input_text, source_language=\"ko\", target_language=\"en\"):\n",
    "    \"\"\"\n",
    "    Translates text based on the detected environment.\n",
    "\n",
    "    Args:\n",
    "        input_text (str): Text to be translated.\n",
    "        source_language (str): Source language (default: \"ko\").\n",
    "        target_language (str): Target language (default: \"en\").\n",
    "\n",
    "    Returns:\n",
    "        str: Translated text.\n",
    "    \"\"\"\n",
    "    environment = detect_environment()\n",
    "\n",
    "    if environment == \"gpu\":\n",
    "        return translate_with_gpu(input_text, source_language, target_language)\n",
    "    elif environment == \"furiosa\":\n",
    "        return translate_with_furiosa(input_text, source_language, target_language)\n",
    "    else:\n",
    "        raise EnvironmentError(\n",
    "            \"No suitable environment detected. Please ensure GPU or Furiosa RNGD is available.\"\n",
    "        )"
   ]
  },
  {
   "cell_type": "code",
   "execution_count": 23,
   "metadata": {},
   "outputs": [
    {
     "name": "stdout",
     "output_type": "stream",
     "text": [
      "{'BLEU': 0.0103, 'METEOR': 0.1594}\n"
     ]
    }
   ],
   "source": [
    "r = calculate_bleu_meteor(reference_text, candidate_text)\n",
    "print(r)"
   ]
  },
  {
   "cell_type": "code",
   "execution_count": 2,
   "metadata": {},
   "outputs": [
    {
     "name": "stdout",
     "output_type": "stream",
     "text": [
      "BLEU Score: 0.0103\n",
      "METEOR Score: 0.1594\n"
     ]
    },
    {
     "name": "stderr",
     "output_type": "stream",
     "text": [
      "/home/dudaji/miniconda3/envs/langserve/lib/python3.11/site-packages/transformers/tokenization_utils_base.py:1601: FutureWarning: `clean_up_tokenization_spaces` was not set. It will be set to `True` by default. This behavior will be depracted in transformers v4.45, and will be then set to `False` by default. For more details check this issue: https://github.com/huggingface/transformers/issues/31884\n",
      "  warnings.warn(\n"
     ]
    },
    {
     "name": "stdout",
     "output_type": "stream",
     "text": [
      "BERTScore (F1): 0.7193\n"
     ]
    }
   ],
   "source": [
    "# quality_metrics.py에서 필요한 함수 임포트\n",
    "from metrics.quality_metrics import calculate_bleu_meteor_score, calculate_bert_score\n",
    "\n",
    "# 예제 텍스트 설정\n",
    "reference_text = \"Increasingly supermarkets are getting a more varied section of ready-made food. Some even provide a microwave oven or other means to heat food.\"\n",
    "candidate_text = \"At the supermarket, the variety of ready-to-eat foods has increased. The store has also begun to offer services such as using electronic money.\"\n",
    "\n",
    "# BLEU 점수 계산\n",
    "bleu_score, meteor_score, num_tokens = calculate_bleu_meteor_score(reference_text, candidate_text)\n",
    "print(f\"BLEU Score: {bleu_score}\")\n",
    "print(f\"METEOR Score: {meteor_score}\")\n",
    "\n",
    "# BERTScore 계산\n",
    "try:\n",
    "    bert_score = calculate_bert_score(reference_text, candidate_text, tgt_lang=\"English\", device=\"cuda\")\n",
    "    print(f\"BERTScore (F1): {bert_score}\")\n",
    "except Exception as e:\n",
    "    print(f\"Error calculating BERTScore: {e}\")"
   ]
  },
  {
   "cell_type": "code",
   "execution_count": 25,
   "metadata": {},
   "outputs": [],
   "source": [
    "from translate.one_trans import initialize_translation_environment, translate_text\n",
    "import time\n",
    "from metrics.quality_metrics import calculate_bleu_meteor_score, calculate_bert_score\n",
    "\n",
    "\n",
    "# Initialize the translation environment\n",
    "try:\n",
    "    initialize_translation_environment()\n",
    "except EnvironmentError as e:\n",
    "    print(f\"Failed to initialize translation environment: {e}\")\n",
    "    exit(1)\n",
    "\n",
    "# Perform translation\n",
    "test_input = \"안녕하세요, 번역 테스트입니다.\"\n",
    "ref_text = \"Hi, this is a test for translation\""
   ]
  },
  {
   "cell_type": "code",
   "execution_count": 26,
   "metadata": {},
   "outputs": [
    {
     "name": "stdout",
     "output_type": "stream",
     "text": [
      "Translated Text: Hello, this is a translation test.\n"
     ]
    }
   ],
   "source": [
    "start_time = time.time()\n",
    "result = translate_text(test_input)\n",
    "time_translate = time.time() - start_time\n",
    "\n",
    "print(\"Translated Text:\", result)\n"
   ]
  },
  {
   "cell_type": "code",
   "execution_count": 32,
   "metadata": {},
   "outputs": [],
   "source": [
    "from metrics.quality_metrics import tokenize\n",
    "from nltk.translate.bleu_score import sentence_bleu, SmoothingFunction\n",
    "\n",
    "# 텍스트를 토큰화\n",
    "reference_tokens = tokenize(ref_text, \"English\")\n",
    "candidate_tokens = tokenize(result, \"English\")\n",
    "smoothing_function = SmoothingFunction().method1\n"
   ]
  },
  {
   "cell_type": "code",
   "execution_count": 38,
   "metadata": {},
   "outputs": [
    {
     "data": {
      "text/plain": [
       "['Hello', ',', 'this', 'is', 'a', 'translation', 'test', '.']"
      ]
     },
     "execution_count": 38,
     "metadata": {},
     "output_type": "execute_result"
    }
   ],
   "source": [
    "candidate_tokens"
   ]
  },
  {
   "cell_type": "code",
   "execution_count": 49,
   "metadata": {},
   "outputs": [
    {
     "data": {
      "text/plain": [
       "0.840561224489796"
      ]
     },
     "execution_count": 49,
     "metadata": {},
     "output_type": "execute_result"
    }
   ],
   "source": [
    "from nltk.translate.meteor_score import meteor_score\n",
    "reference_str = \" \".join(reference_tokens)  # 리스트 -> 문자열 변환\n",
    "candidate_str = \" \".join(candidate_tokens)  # 리스트 -> 문자열 변환\n",
    "# meteor = meteor_score([reference_str], candidate_str)\n",
    "meteor = meteor_score([reference_tokens], candidate_tokens)\n",
    "meteor\n"
   ]
  },
  {
   "cell_type": "code",
   "execution_count": null,
   "metadata": {},
   "outputs": [],
   "source": [
    "num_tokens = len(candidate_tokens)\n",
    "\n",
    "# 지표 계산\n",
    "bleu = sentence_bleu([reference_tokens], candidate_tokens, smoothing_function=smoothing_function)\n",
    "meteor = meteor_score([reference_tokens], candidate_tokens)"
   ]
  },
  {
   "cell_type": "code",
   "execution_count": null,
   "metadata": {},
   "outputs": [],
   "source": [
    "from translate.one_trans import initialize_translation_environment, translate_text\n",
    "initialize_translation_environment()"
   ]
  },
  {
   "cell_type": "code",
   "execution_count": 29,
   "metadata": {},
   "outputs": [
    {
     "data": {
      "text/plain": [
       "(0.3826, 0.8406)"
      ]
     },
     "execution_count": 29,
     "metadata": {},
     "output_type": "execute_result"
    }
   ],
   "source": [
    "bleu_score, meteor_score = calculate_bleu_meteor_score(ref_text, result)\n",
    "bleu_score, meteor_score"
   ]
  },
  {
   "cell_type": "code",
   "execution_count": 2,
   "metadata": {},
   "outputs": [
    {
     "name": "stderr",
     "output_type": "stream",
     "text": [
      "[nltk_data] Downloading package wordnet to /home/elicer/nltk_data...\n",
      "[nltk_data] Downloading package omw-1.4 to /home/elicer/nltk_data...\n"
     ]
    },
    {
     "data": {
      "text/plain": [
       "True"
      ]
     },
     "execution_count": 2,
     "metadata": {},
     "output_type": "execute_result"
    }
   ],
   "source": [
    "import nltk\n",
    "\n",
    "nltk.download('wordnet')\n",
    "nltk.download('omw-1.4')  # Optional: WordNet을 다른 언어와 함께 사용하려면 필요"
   ]
  },
  {
   "cell_type": "code",
   "execution_count": 3,
   "metadata": {},
   "outputs": [
    {
     "name": "stderr",
     "output_type": "stream",
     "text": [
      "INFO:2024-12-31 07:46:47 Translation environment detected: Furiosa NPU. Using NPU for translations.\n"
     ]
    },
    {
     "name": "stdout",
     "output_type": "stream",
     "text": [
      "Translated Text: We are not only verifying the theoretical capabilities of NPU, but also proving its value based on performance metrics that are actually applicable in a service environment.\n",
      "BLEU Score: 0.066\n",
      "METEOR Score: 0.5515\n",
      "TPS: 13.178001252097497\n"
     ]
    }
   ],
   "source": [
    "from translate.one_trans import initialize_translation_environment, translate_text\n",
    "import time\n",
    "from metrics.quality_metrics import calculate_bleu_meteor_score, calculate_bert_score\n",
    "\n",
    "\n",
    "# Initialize the translation environment\n",
    "try:\n",
    "    initialize_translation_environment()\n",
    "except EnvironmentError as e:\n",
    "    print(f\"Failed to initialize translation environment: {e}\")\n",
    "    exit(1)\n",
    "\n",
    "# Perform translation\n",
    "test_input = \"이론적인 성능만이 아니라, 실제로 서비스 환경에서 적용 가능한 지표를 바탕으로 NPU의 가치를 입증.\"\n",
    "ref_text = \"The value of the NPU is demonstrated not only through its theoretical performance but also by metrics that are applicable in real-world service environments.\"\n",
    "try:\n",
    "    start_time = time.time()\n",
    "    result = translate_text(test_input)\n",
    "    time_translate = time.time() - start_time\n",
    "    \n",
    "    bleu_val, meteor_val, num_tokens = calculate_bleu_meteor_score(ref_text, result)\n",
    "    \n",
    "    print(\"Translated Text:\", result)\n",
    "    print(f\"BLEU Score: {bleu_val}\")\n",
    "    print(f\"METEOR Score: {meteor_val}\")\n",
    "    print(\"TPS:\", num_tokens/time_translate)\n",
    "except RuntimeError as e:\n",
    "    print(f\"Translation failed: {e}\")"
   ]
  },
  {
   "cell_type": "code",
   "execution_count": 4,
   "metadata": {},
   "outputs": [
    {
     "name": "stdout",
     "output_type": "stream",
     "text": [
      "Translated Text: We are not only verifying the theoretical capabilities of NPU, but also proving its value based on performance metrics that are actually applicable in a service environment.\n",
      "BLEU Score: 0.1744\n",
      "METEOR Score: 0.6761\n",
      "TPS: 13.178001252097497\n"
     ]
    }
   ],
   "source": [
    "ref_text = \"Demonstrate the value of NPU not just theoretically but based on actual metrics applicable in a service environment.\"\n",
    "bleu_val, meteor_val, num_tokens = calculate_bleu_meteor_score(ref_text, result)\n",
    "print(\"Translated Text:\", result)\n",
    "print(f\"BLEU Score: {bleu_val}\")\n",
    "print(f\"METEOR Score: {meteor_val}\")\n",
    "print(\"TPS:\", num_tokens/time_translate)"
   ]
  },
  {
   "cell_type": "code",
   "execution_count": 1,
   "metadata": {},
   "outputs": [
    {
     "name": "stderr",
     "output_type": "stream",
     "text": [
      "WARNING:2025-01-01 06:17:38 WARNING[XFORMERS]: xFormers can't load C++/CUDA extensions. xFormers was built for:\n",
      "    PyTorch 2.5.1+cu121 with CUDA 1201 (you have 2.1.0+cu121)\n",
      "    Python  3.10.15 (you have 3.10.15)\n",
      "  Please reinstall xformers (see https://github.com/facebookresearch/xformers#installing-xformers)\n",
      "  Memory-efficient attention, SwiGLU, sparse and more won't be available.\n",
      "  Set XFORMERS_MORE_DETAILS=1 for more details\n",
      "Xformers is not installed correctly. If you want to use memory_efficient_attention to accelerate training use the following command to install Xformers\n",
      "pip install xformers.\n"
     ]
    },
    {
     "name": "stdout",
     "output_type": "stream",
     "text": [
      "Active Metrics: ['BLEU', 'METEOR', 'BERTScore', 'tps', 'power_consumption']\n"
     ]
    },
    {
     "name": "stderr",
     "output_type": "stream",
     "text": [
      "INFO:2025-01-01 06:17:39 Translation environment detected: Furiosa NPU. Using NPU for translations.\n",
      "INFO:2025-01-01 06:17:40 Prefill buckets: [Bucket(batch_size=1, attention_size=512), Bucket(batch_size=1, attention_size=1024)]\n",
      "INFO:2025-01-01 06:17:40 Decode buckets: [Bucket(batch_size=64, attention_size=2048), Bucket(batch_size=128, attention_size=2048)]\n",
      "INFO:2025-01-01 06:17:40 For some LLaMA V1 models, initializing the fast tokenizer may take a long time. To reduce the initialization time, consider using 'hf-internal-testing/llama-tokenizer' instead of the original tokenizer.\n",
      "/home/elicer/anaconda3/envs/jun-rngd/lib/python3.10/site-packages/huggingface_hub/file_download.py:797: FutureWarning: `resume_download` is deprecated and will be removed in version 1.0.0. Downloads always resume when possible. If you want to force a new download, use `force_download=True`.\n",
      "  warnings.warn(\n"
     ]
    },
    {
     "name": "stdout",
     "output_type": "stream",
     "text": [
      "Original: 이론적인 성능만이 아니라, 실제로 서비스 환경에서 적용 가능한 지표를 바탕으로 NPU의 가치를 입증.\n",
      "Translated text: We are not only seeing theoretical performance, but also proving the value of NPU with practical metrics that can be applied in a real service environment.\n",
      "Error calculating BERTScore: Found no NVIDIA driver on your system. Please check that you have an NVIDIA GPU and installed a driver from http://www.nvidia.com/Download/index.aspx\n",
      "Metrics: {'BLEU': 0.0353, 'METEOR': 0.4731, 'BERTScore': 0.0}\n"
     ]
    }
   ],
   "source": [
    "from time import time\n",
    "from translate.one_trans import initialize_translation_environment, translate_text\n",
    "from metrics.load_config import load_active_metrics\n",
    "from metrics.evaluation_transition import evaluate_translation\n",
    "\n",
    "# Example usage\n",
    "config_path = \"/home/elicer/Jun/llm-rag-chatbot/main/config_npu.yaml\"\n",
    "active_metrics = load_active_metrics(config_path)\n",
    "print(\"Active Metrics:\", active_metrics)\n",
    "\n",
    "# Test data\n",
    "test_input = \"이론적인 성능만이 아니라, 실제로 서비스 환경에서 적용 가능한 지표를 바탕으로 NPU의 가치를 입증.\"\n",
    "ref_text = \"The value of the NPU is demonstrated not only through its theoretical performance but also by metrics that are applicable in real-world service environments.\"\n",
    "\n",
    "# Initialize the translation environment\n",
    "try:\n",
    "    initialize_translation_environment()\n",
    "except EnvironmentError as e:\n",
    "    print(f\"Failed to initialize translation environment: {e}\")\n",
    "    exit(1)\n",
    "    \n",
    "    \n",
    "# Translation\n",
    "try:\n",
    "    start_time = time()\n",
    "    translated_text = translate_text(test_input)\n",
    "    elapsed_time = time() - start_time\n",
    "    print(f\"Original: {test_input}\")\n",
    "    print(f\"Translated text: {translated_text}\")\n",
    "except RuntimeError as e:\n",
    "    print(f\"Translation failed: {e}\")\n",
    "    translated_text = None\n",
    "    elapsed_time = 0.0\n",
    "\n",
    "# Evaluation\n",
    "if translated_text:\n",
    "    metrics = evaluate_translation(translated_text, ref_text, elapsed_time, active_metrics)\n",
    "    print(\"Metrics:\", metrics)"
   ]
  },
  {
   "cell_type": "code",
   "execution_count": 1,
   "metadata": {},
   "outputs": [
    {
     "name": "stdout",
     "output_type": "stream",
     "text": [
      "GPU Power Consumption: 27.14 W\n"
     ]
    }
   ],
   "source": [
    "from metrics.performance_metrics import calculate_power_consumption\n",
    "\n",
    "# Test for GPU\n",
    "gpu_device = \"cuda:1\"\n",
    "gpu_power = calculate_power_consumption(gpu_device)\n",
    "print(f\"GPU Power Consumption: {gpu_power} W\")\n",
    "\n"
   ]
  },
  {
   "cell_type": "code",
   "execution_count": 3,
   "metadata": {},
   "outputs": [
    {
     "name": "stderr",
     "output_type": "stream",
     "text": [
      "INFO:2025-01-01 06:23:04 Translation environment detected: Furiosa NPU. Using NPU for translations.\n"
     ]
    },
    {
     "name": "stdout",
     "output_type": "stream",
     "text": [
      "Error calculating power consumption for NPU npu:1:*: Device npu:1:* not found in furiosa-smi info output.\n",
      "Error calculating power consumption for NPU npu:1:*: Device npu:1:* not found in furiosa-smi info output.\n",
      "Translation: Not only do we prove the theoretical performance, but also demonstrate the value of NPU through actually applicable metrics in service environments.\n",
      "Elapsed Time: 1.743117094039917 seconds\n",
      "Average Power Consumption: 0.0 W\n",
      "Power Data: [0.0, 0.0]\n"
     ]
    }
   ],
   "source": [
    "import time\n",
    "import threading\n",
    "from metrics.performance_metrics import calculate_power_consumption\n",
    "from translate.one_trans import initialize_translation_environment, translate_text\n",
    "\n",
    "def monitor_power_consumption(device: str, interval: float, stop_event: threading.Event, power_data: list, timing_data: list):\n",
    "    \"\"\"\n",
    "    Monitors power consumption of a device in real-time with timestamps.\n",
    "\n",
    "    Parameters:\n",
    "        device (str): The device to monitor (e.g., \"cuda:0\" for GPU, \"npu0\" for NPU).\n",
    "        interval (float): Time interval (in seconds) between each power reading.\n",
    "        stop_event (threading.Event): Event to signal when to stop monitoring.\n",
    "        power_data (list): List to store power consumption readings.\n",
    "        timing_data (list): List to store corresponding timestamps.\n",
    "    \"\"\"\n",
    "    start_time = time.time()\n",
    "    while not stop_event.is_set():\n",
    "        power = calculate_power_consumption(device)\n",
    "        power_data.append(power)\n",
    "        timing_data.append(time.time() - start_time)  # Record elapsed time\n",
    "        time.sleep(interval)\n",
    "\n",
    "def perform_translation_with_monitoring(input_text: str, ref_text: str, device: str, interval: float = 0.1):\n",
    "    \"\"\"\n",
    "    Performs translation while monitoring power consumption and timing in real-time.\n",
    "\n",
    "    Parameters:\n",
    "        input_text (str): Text to translate.\n",
    "        ref_text (str): Reference text for BLEU/METEOR evaluation.\n",
    "        device (str): Device to monitor (e.g., \"cuda:0\", \"npu0\").\n",
    "        interval (float): Time interval (in seconds) between each power reading.\n",
    "\n",
    "    Returns:\n",
    "        dict: Translation result and performance metrics.\n",
    "    \"\"\"\n",
    "    power_data = []\n",
    "    timing_data = []\n",
    "    stop_event = threading.Event()\n",
    "\n",
    "    # Start the power monitoring thread\n",
    "    monitor_thread = threading.Thread(\n",
    "        target=monitor_power_consumption, \n",
    "        args=(device, interval, stop_event, power_data, timing_data)\n",
    "    )\n",
    "    monitor_thread.start()\n",
    "\n",
    "    try:\n",
    "        # Perform translation\n",
    "        start_time = time.time()\n",
    "        translation = translate_text(input_text)\n",
    "        elapsed_time = time.time() - start_time\n",
    "\n",
    "        # Stop power monitoring\n",
    "        stop_event.set()\n",
    "        monitor_thread.join()\n",
    "\n",
    "        # Calculate average power consumption\n",
    "        avg_power = sum(power_data) / len(power_data) if power_data else 0.0\n",
    "\n",
    "        # Return the result and performance metrics\n",
    "        return {\n",
    "            \"translation\": translation,\n",
    "            \"elapsed_time\": elapsed_time,\n",
    "            \"avg_power\": avg_power,\n",
    "            \"power_data\": power_data,\n",
    "            \"timing_data\": timing_data\n",
    "        }\n",
    "    except Exception as e:\n",
    "        stop_event.set()\n",
    "        monitor_thread.join()\n",
    "        print(f\"Error during translation or monitoring: {e}\")\n",
    "        return None\n",
    "\n",
    "# Example Usage\n",
    "if __name__ == \"__main__\":\n",
    "    # Test input\n",
    "    input_text = \"이론적인 성능만이 아니라, 실제로 서비스 환경에서 적용 가능한 지표를 바탕으로 NPU의 가치를 입증.\"\n",
    "    ref_text = \"Hello, this is a test for translation.\"\n",
    "    device = \"npu:1:*\"  # Change to \"cuda:0\" for GPU\n",
    "\n",
    "    # Initialize the translation environment\n",
    "    try:\n",
    "        initialize_translation_environment()\n",
    "    except EnvironmentError as e:\n",
    "        print(f\"Failed to initialize translation environment: {e}\")\n",
    "        exit(1)\n",
    "        \n",
    "        \n",
    "    # Perform translation with monitoring\n",
    "    result = perform_translation_with_monitoring(input_text, ref_text, device)\n",
    "\n",
    "    # Output results\n",
    "    if result:\n",
    "        print(f\"Translation: {result['translation']}\")\n",
    "        print(f\"Elapsed Time: {result['elapsed_time']} seconds\")\n",
    "        print(f\"Average Power Consumption: {result['avg_power']} W\")\n",
    "        print(f\"Power Data: {result['power_data']}\")"
   ]
  },
  {
   "cell_type": "code",
   "execution_count": 4,
   "metadata": {},
   "outputs": [
    {
     "data": {
      "image/png": "[encoded data removed]",
      "text/plain": [
       "<Figure size 1000x600 with 1 Axes>"
      ]
     },
     "metadata": {},
     "output_type": "display_data"
    }
   ],
   "source": [
    "import matplotlib.pyplot as plt\n",
    "\n",
    "plt.figure(figsize=(10, 6))\n",
    "plt.plot(result[\"timing_data\"], result[\"power_data\"], marker='o', linestyle='-', label=\"Power Consumption (W)\")\n",
    "plt.title(\"Power Consumption Over Time\")\n",
    "plt.xlabel(\"Time (seconds)\")\n",
    "plt.ylabel(\"Power Consumption (Watts)\")\n",
    "plt.grid(True)\n",
    "plt.legend()\n",
    "plt.show()\n"
   ]
  },
  {
   "cell_type": "markdown",
   "metadata": {},
   "source": [
    "# 모든 resource 다 모니터링"
   ]
  },
  {
   "cell_type": "code",
   "execution_count": 5,
   "metadata": {},
   "outputs": [],
   "source": [
    "import time\n",
    "import threading\n",
    "from metrics.performance_metrics import calculate_power_consumption\n",
    "from translate.one_trans import initialize_translation_environment, translate_text\n",
    "\n",
    "\n",
    "def monitor_all_gpus(interval: float, stop_event: threading.Event, power_data: dict, timing_data: dict):\n",
    "    \"\"\"\n",
    "    Monitors power consumption of all GPUs in real-time with timestamps.\n",
    "\n",
    "    Parameters:\n",
    "        interval (float): Time interval (in seconds) between each power reading.\n",
    "        stop_event (threading.Event): Event to signal when to stop monitoring.\n",
    "        power_data (dict): Dictionary to store power consumption readings for each GPU.\n",
    "        timing_data (dict): Dictionary to store corresponding timestamps for each GPU.\n",
    "    \"\"\"\n",
    "    start_time = time.time()\n",
    "\n",
    "    # Detect all GPU devices (Assume CUDA: \"cuda:0\", \"cuda:1\", ...)\n",
    "    gpu_ids = detect_all_gpus()  # Function to detect all GPUs\n",
    "    while not stop_event.is_set():\n",
    "        for gpu_id in gpu_ids:\n",
    "            power = calculate_power_consumption(gpu_id)\n",
    "            power_data[gpu_id].append(power)\n",
    "            timing_data[gpu_id].append(time.time() - start_time)  # Record elapsed time\n",
    "        time.sleep(interval)\n",
    "\n",
    "\n",
    "def detect_all_gpus() -> list:\n",
    "    \"\"\"\n",
    "    Detects all available GPU devices on the node.\n",
    "\n",
    "    Returns:\n",
    "        list: List of GPU IDs (e.g., [\"cuda:0\", \"cuda:1\", ...]).\n",
    "    \"\"\"\n",
    "    import subprocess\n",
    "    result = subprocess.run(\n",
    "        [\"nvidia-smi\", \"--query-gpu=index\", \"--format=csv,noheader\"],\n",
    "        stdout=subprocess.PIPE,\n",
    "        stderr=subprocess.PIPE,\n",
    "        text=True\n",
    "    )\n",
    "    gpu_ids = result.stdout.strip().split(\"\\n\")\n",
    "    return [f\"cuda:{gpu_id.strip()}\" for gpu_id in gpu_ids]\n",
    "\n",
    "\n",
    "def perform_translation_with_all_gpu_monitoring(input_text: str, ref_text: str, interval: float = 0.1):\n",
    "    \"\"\"\n",
    "    Performs translation while monitoring power consumption of all GPUs in real-time.\n",
    "\n",
    "    Parameters:\n",
    "        input_text (str): Text to translate.\n",
    "        ref_text (str): Reference text for BLEU/METEOR evaluation.\n",
    "        interval (float): Time interval (in seconds) between each power reading.\n",
    "\n",
    "    Returns:\n",
    "        dict: Translation result and performance metrics.\n",
    "    \"\"\"\n",
    "    power_data = {}\n",
    "    timing_data = {}\n",
    "    stop_event = threading.Event()\n",
    "\n",
    "    # Initialize data structures for all GPUs\n",
    "    gpu_ids = detect_all_gpus()\n",
    "    for gpu_id in gpu_ids:\n",
    "        power_data[gpu_id] = []\n",
    "        timing_data[gpu_id] = []\n",
    "\n",
    "    # Start the power monitoring thread\n",
    "    monitor_thread = threading.Thread(\n",
    "        target=monitor_all_gpus,\n",
    "        args=(interval, stop_event, power_data, timing_data)\n",
    "    )\n",
    "    monitor_thread.start()\n",
    "\n",
    "    try:\n",
    "        # Perform translation\n",
    "        start_time = time.time()\n",
    "        translation = translate_text(input_text)\n",
    "        elapsed_time = time.time() - start_time\n",
    "\n",
    "        # Stop power monitoring\n",
    "        stop_event.set()\n",
    "        monitor_thread.join()\n",
    "\n",
    "        # Calculate average power consumption for all GPUs\n",
    "        avg_power_per_gpu = {\n",
    "            gpu_id: sum(data) / len(data) if data else 0.0\n",
    "            for gpu_id, data in power_data.items()\n",
    "        }\n",
    "\n",
    "        # Return the result and performance metrics\n",
    "        return {\n",
    "            \"translation\": translation,\n",
    "            \"elapsed_time\": elapsed_time,\n",
    "            \"avg_power_per_gpu\": avg_power_per_gpu,\n",
    "            \"power_data\": power_data,\n",
    "            \"timing_data\": timing_data\n",
    "        }\n",
    "    except Exception as e:\n",
    "        stop_event.set()\n",
    "        monitor_thread.join()\n",
    "        print(f\"Error during translation or monitoring: {e}\")\n",
    "        return None"
   ]
  },
  {
   "cell_type": "code",
   "execution_count": 14,
   "metadata": {},
   "outputs": [
    {
     "name": "stderr",
     "output_type": "stream",
     "text": [
      "2024-12-31 15:49:59,254 - INFO - HTTP Request: POST http://localhost:11434/api/generate \"HTTP/1.1 200 OK\"\n"
     ]
    },
    {
     "name": "stdout",
     "output_type": "stream",
     "text": [
      "Original: 이론적인 성능만이 아니라, 실제로 서비스 환경에서 적용 가능한 지표를 바탕으로 NPU의 가치를 입증.\n",
      "Translation: Demonstrate the value of NPU not just theoretically but based on actual metrics applicable in a service environment.\n",
      "Elapsed Time: 4.955893039703369 seconds\n",
      "Average Power Consumption per GPU: {'cuda:0': 35.30952380952382, 'cuda:1': 39.92095238095239, 'cuda:2': 66.01714285714286, 'cuda:3': 45.03285714285714, 'cuda:4': 45.79190476190476, 'cuda:5': 48.90095238095238}\n",
      "Power Data: {'cuda:0': [22.59, 26.46, 34.46, 49.7, 64.15, 62.95, 55.58, 48.13, 48.13, 48.13, 48.13, 23.61, 23.61, 23.61, 23.61, 23.61, 23.09, 23.09, 23.09, 23.09, 22.68], 'cuda:1': [27.11, 30.22, 36.09, 49.16, 64.73, 69.61, 59.2, 55.74, 55.74, 55.74, 55.74, 28.36, 28.36, 28.36, 28.36, 28.36, 27.58, 27.58, 27.58, 27.58, 27.14], 'cuda:2': [25.31, 25.32, 33.86, 47.41, 60.86, 70.87, 72.48, 72.45, 72.48, 72.53, 72.57, 72.71, 72.77, 72.83, 72.76, 72.89, 72.79, 72.7, 72.53, 78.92, 99.32], 'cuda:3': [20.42, 20.44, 24.36, 36.66, 48.92, 55.85, 64.92, 64.99, 64.99, 64.99, 64.99, 50.24, 50.24, 50.24, 50.24, 50.24, 35.4, 35.4, 35.4, 35.4, 21.36], 'cuda:4': [23.09, 23.1, 28.53, 34.28, 45.12, 55.9, 63.75, 66.1, 66.1, 66.1, 66.1, 52.47, 52.47, 52.47, 52.47, 37.92, 37.92, 37.92, 37.92, 37.92, 23.98], 'cuda:5': [27.76, 27.75, 27.94, 37.86, 47.5, 55.28, 67.01, 67.01, 67.01, 67.01, 67.01, 57.31, 57.31, 57.31, 57.31, 42.1, 42.1, 42.1, 42.1, 42.1, 28.04]}\n",
      "Timing Data: {'cuda:0': [0.07728147506713867, 0.39481616020202637, 0.7243776321411133, 0.9820923805236816, 1.2117726802825928, 1.4439098834991455, 1.6949636936187744, 1.9249348640441895, 2.1501715183258057, 2.381859064102173, 2.6090352535247803, 2.8400015830993652, 3.063753843307495, 3.288254976272583, 3.513401508331299, 3.743727684020996, 3.9763832092285156, 4.205425977706909, 4.434083938598633, 4.663784742355347, 4.8927226066589355], 'cuda:1': [0.14021873474121094, 0.42177891731262207, 0.7636878490447998, 1.0033738613128662, 1.2322783470153809, 1.464386224746704, 1.7145321369171143, 1.9436347484588623, 2.1716883182525635, 2.4028544425964355, 2.629037618637085, 2.860229730606079, 3.084087610244751, 3.308544635772705, 3.5347542762756348, 3.764068126678467, 3.998774766921997, 4.227258682250977, 4.456287145614624, 4.684765815734863, 4.911889314651489], 'cuda:2': [0.1681375503540039, 0.45487380027770996, 0.7878952026367188, 1.024958848953247, 1.253127098083496, 1.4850308895111084, 1.7363457679748535, 1.9650294780731201, 2.19334077835083, 2.4251132011413574, 2.6505544185638428, 2.880131959915161, 3.104137659072876, 3.3281311988830566, 3.5562288761138916, 3.7834584712982178, 4.019773721694946, 4.246991157531738, 4.475506782531738, 4.703585624694824, 4.932474613189697], 'cuda:3': [0.19458532333374023, 0.5186011791229248, 0.811255931854248, 1.0463733673095703, 1.2764546871185303, 1.508610486984253, 1.759568691253662, 1.9859070777893066, 2.2166030406951904, 2.4464938640594482, 2.6716806888580322, 2.900447368621826, 3.12520170211792, 3.349665403366089, 3.576887845993042, 3.806183099746704, 4.041472434997559, 4.269784688949585, 4.497297286987305, 4.726707935333252, 4.956315517425537], 'cuda:4': [0.22940802574157715, 0.5568499565124512, 0.8366377353668213, 1.0681638717651367, 1.3007230758666992, 1.5296263694763184, 1.7814915180206299, 2.0072827339172363, 2.237640142440796, 2.467928171157837, 2.6930623054504395, 2.9221153259277344, 3.14626145362854, 3.371058225631714, 3.601715564727783, 3.8310604095458984, 4.06328558921814, 4.290832996368408, 4.521262168884277, 4.750200271606445, 4.978899240493774], 'cuda:5': [0.27210426330566406, 0.5889208316802979, 0.8594100475311279, 1.0901379585266113, 1.3220088481903076, 1.5744373798370361, 1.8029494285583496, 2.0291526317596436, 2.2608423233032227, 2.4889602661132812, 2.7180874347686768, 2.9449477195739746, 3.167551040649414, 3.3936541080474854, 3.624898672103882, 3.854497194290161, 4.085617542266846, 4.3136138916015625, 4.544477462768555, 4.773259878158569, 5.0004472732543945]}\n"
     ]
    },
    {
     "data": {
      "image/png": "[encoded data removed]",
      "text/plain": [
       "<Figure size 1200x800 with 1 Axes>"
      ]
     },
     "metadata": {},
     "output_type": "display_data"
    }
   ],
   "source": [
    "import matplotlib.pyplot as plt\n",
    "\n",
    "# Example Usage\n",
    "input_text = \"이론적인 성능만이 아니라, 실제로 서비스 환경에서 적용 가능한 지표를 바탕으로 NPU의 가치를 입증.\"\n",
    "ref_text = \"Hello, this is a test sentence for translation.\"\n",
    "\n",
    "result = perform_translation_with_all_gpu_monitoring(input_text, ref_text)\n",
    "\n",
    "if result:\n",
    "    print(f\"Original: {input_text}\")\n",
    "    print(f\"Translation: {result['translation']}\")\n",
    "    print(f\"Elapsed Time: {result['elapsed_time']} seconds\")\n",
    "    print(f\"Average Power Consumption per GPU: {result['avg_power_per_gpu']}\")\n",
    "    print(f\"Power Data: {result['power_data']}\")\n",
    "    print(f\"Timing Data: {result['timing_data']}\")\n",
    "    \n",
    "\n",
    "def plot_power_consumption(timing_data: dict, power_data: dict):\n",
    "    \"\"\"\n",
    "    Plots power consumption over time for multiple devices.\n",
    "\n",
    "    Parameters:\n",
    "        timing_data (dict): Dictionary containing timing data for each device.\n",
    "        power_data (dict): Dictionary containing power consumption data for each device.\n",
    "    \"\"\"\n",
    "    plt.figure(figsize=(12, 8))\n",
    "\n",
    "    # Assign unique colors to each device\n",
    "    colors = plt.cm.tab10.colors  # Use a colormap for distinct colors\n",
    "\n",
    "    # Plot data for each device\n",
    "    for idx, (device, times) in enumerate(timing_data.items()):\n",
    "        power = power_data[device]\n",
    "        plt.plot(times, power, marker='o', linestyle='-', label=f\"{device} Power Consumption (W)\", color=colors[idx % len(colors)])\n",
    "\n",
    "    plt.title(\"Power Consumption Over Time\")\n",
    "    plt.xlabel(\"Time (seconds)\")\n",
    "    plt.ylabel(\"Power Consumption (Watts)\")\n",
    "    plt.grid(True)\n",
    "    plt.legend()\n",
    "    plt.show()\n",
    "\n",
    "# Example Usage\n",
    "if result:\n",
    "    plot_power_consumption(result[\"timing_data\"], result[\"power_data\"])"
   ]
  },
  {
   "cell_type": "code",
   "execution_count": 4,
   "metadata": {},
   "outputs": [],
   "source": [
    "import time\n",
    "import threading\n",
    "from metrics.performance_metrics import calculate_power_consumption\n",
    "from translate.one_trans import initialize_translation_environment, translate_text\n",
    "import subprocess\n",
    "import re\n",
    "\n",
    "\n",
    "def detect_all_devices() -> dict:\n",
    "    \"\"\"\n",
    "    Detects all available GPU and NPU devices on the node.\n",
    "\n",
    "    Returns:\n",
    "        dict: Dictionary containing lists of GPU and NPU IDs.\n",
    "              Example: {\"gpus\": [\"cuda:0\", \"cuda:1\"], \"npus\": [\"npu0\", \"npu1\"]}.\n",
    "    \"\"\"\n",
    "    devices = {\"gpus\": [], \"npus\": []}\n",
    "\n",
    "    # Detect GPUs using nvidia-smi\n",
    "    try:\n",
    "        result = subprocess.run(\n",
    "            [\"nvidia-smi\", \"--query-gpu=index\", \"--format=csv,noheader\"],\n",
    "            stdout=subprocess.PIPE,\n",
    "            stderr=subprocess.PIPE,\n",
    "            text=True\n",
    "        )\n",
    "        if result.returncode == 0:\n",
    "            gpu_ids = result.stdout.strip().split(\"\\n\")\n",
    "            devices[\"gpus\"] = [f\"cuda:{gpu_id.strip()}\" for gpu_id in gpu_ids]\n",
    "    except Exception as e:\n",
    "        print(f\"Error detecting GPUs: {e}\")\n",
    "\n",
    "    # Detect NPUs using furiosa-smi\n",
    "    try:\n",
    "        result = subprocess.run(\n",
    "            [\"furiosa-smi\", \"info\"],\n",
    "            stdout=subprocess.PIPE,\n",
    "            stderr=subprocess.PIPE,\n",
    "            text=True\n",
    "        )\n",
    "        if result.returncode == 0:\n",
    "            output = re.sub(r'\\x1b\\[.*?m', '', result.stdout)  # Remove ANSI escape codes\n",
    "            lines = [line.strip() for line in output.split(\"\\n\")]\n",
    "            for line in lines:\n",
    "                if re.match(r\"\\| rngd \\| npu\\d+\", line):\n",
    "                    npu_id = line.split(\"|\")[1].strip()\n",
    "                    devices[\"npus\"].append(npu_id)\n",
    "    except Exception as e:\n",
    "        print(f\"Error detecting NPUs: {e}\")\n",
    "\n",
    "    return devices\n",
    "\n",
    "\n",
    "def monitor_all_devices(interval: float, stop_event: threading.Event, power_data: dict, timing_data: dict):\n",
    "    \"\"\"\n",
    "    Monitors power consumption of all GPUs and NPUs in real-time with timestamps.\n",
    "\n",
    "    Parameters:\n",
    "        interval (float): Time interval (in seconds) between each power reading.\n",
    "        stop_event (threading.Event): Event to signal when to stop monitoring.\n",
    "        power_data (dict): Dictionary to store power consumption readings for each device.\n",
    "        timing_data (dict): Dictionary to store corresponding timestamps for each device.\n",
    "    \"\"\"\n",
    "    start_time = time.time()\n",
    "    devices = detect_all_devices()\n",
    "\n",
    "    while not stop_event.is_set():\n",
    "        for device_type, device_ids in devices.items():\n",
    "            for device_id in device_ids:\n",
    "                power = calculate_power_consumption(device_id)\n",
    "                power_data.setdefault(device_id, []).append(power)\n",
    "                timing_data.setdefault(device_id, []).append(time.time() - start_time)  # Record elapsed time\n",
    "        time.sleep(interval)\n",
    "\n",
    "\n",
    "def perform_translation_with_all_device_monitoring(input_text: str, ref_text: str, interval: float = 0.1):\n",
    "    \"\"\"\n",
    "    Performs translation while monitoring power consumption of all devices (GPU and NPU) in real-time.\n",
    "\n",
    "    Parameters:\n",
    "        input_text (str): Text to translate.\n",
    "        ref_text (str): Reference text for BLEU/METEOR evaluation.\n",
    "        interval (float): Time interval (in seconds) between each power reading.\n",
    "\n",
    "    Returns:\n",
    "        dict: Translation result and performance metrics.\n",
    "    \"\"\"\n",
    "    power_data = {}\n",
    "    timing_data = {}\n",
    "    stop_event = threading.Event()\n",
    "\n",
    "    # Start the power monitoring thread\n",
    "    monitor_thread = threading.Thread(\n",
    "        target=monitor_all_devices,\n",
    "        args=(interval, stop_event, power_data, timing_data)\n",
    "    )\n",
    "    monitor_thread.start()\n",
    "\n",
    "    try:\n",
    "        # Perform translation\n",
    "        start_time = time.time()\n",
    "        translation = translate_text(input_text)\n",
    "        elapsed_time = time.time() - start_time\n",
    "\n",
    "        # Stop power monitoring\n",
    "        stop_event.set()\n",
    "        monitor_thread.join()\n",
    "\n",
    "        # Calculate average power consumption for all devices\n",
    "        avg_power_per_device = {\n",
    "            device_id: sum(data) / len(data) if data else 0.0\n",
    "            for device_id, data in power_data.items()\n",
    "        }\n",
    "\n",
    "        # Return the result and performance metrics\n",
    "        return {\n",
    "            \"translation\": translation,\n",
    "            \"elapsed_time\": elapsed_time,\n",
    "            \"avg_power_per_device\": avg_power_per_device,\n",
    "            \"power_data\": power_data,\n",
    "            \"timing_data\": timing_data\n",
    "        }\n",
    "    except Exception as e:\n",
    "        stop_event.set()\n",
    "        monitor_thread.join()\n",
    "        print(f\"Error during translation or monitoring: {e}\")\n",
    "        return None"
   ]
  },
  {
   "cell_type": "code",
   "execution_count": 5,
   "metadata": {},
   "outputs": [
    {
     "name": "stdout",
     "output_type": "stream",
     "text": [
      "Error detecting GPUs: [Errno 2] No such file or directory: 'nvidia-smi'\n",
      "Hello, this is a translation test.\n",
      "Average Power Consumption: {}\n"
     ]
    }
   ],
   "source": [
    "input_text = \"안녕하세요, 번역 테스트입니다.\"\n",
    "ref_text = \"Hello, this is a translation test.\"\n",
    "result = perform_translation_with_all_device_monitoring(input_text, ref_text)\n",
    "\n",
    "print(result[\"translation\"])\n",
    "print(\"Average Power Consumption:\", result[\"avg_power_per_device\"])"
   ]
  },
  {
   "cell_type": "code",
   "execution_count": 13,
   "metadata": {},
   "outputs": [
    {
     "data": {
      "text/html": [
       "<div>\n",
       "<style scoped>\n",
       "    .dataframe tbody tr th:only-of-type {\n",
       "        vertical-align: middle;\n",
       "    }\n",
       "\n",
       "    .dataframe tbody tr th {\n",
       "        vertical-align: top;\n",
       "    }\n",
       "\n",
       "    .dataframe thead th {\n",
       "        text-align: right;\n",
       "    }\n",
       "</style>\n",
       "<table border=\"1\" class=\"dataframe\">\n",
       "  <thead>\n",
       "    <tr style=\"text-align: right;\">\n",
       "      <th></th>\n",
       "      <th>Source Language</th>\n",
       "      <th>Target Language</th>\n",
       "      <th>Source</th>\n",
       "      <th>Candidate</th>\n",
       "      <th>Translation Time (s)</th>\n",
       "    </tr>\n",
       "  </thead>\n",
       "  <tbody>\n",
       "    <tr>\n",
       "      <th>0</th>\n",
       "      <td>Korean</td>\n",
       "      <td>English</td>\n",
       "      <td>\"그는 \"\"현재 4개월 된 당뇨병에서 치료된 생쥐가 있다\"\"고 덧붙였다.\"</td>\n",
       "      <td>He added that \"there are mice that have been c...</td>\n",
       "      <td>0.9757</td>\n",
       "    </tr>\n",
       "    <tr>\n",
       "      <th>1</th>\n",
       "      <td>Korean</td>\n",
       "      <td>English</td>\n",
       "      <td>노바스코샤주 핼리팩스의 댈하우지대학교 의과 교수이자 캐나다 당뇨 협회 임상과학부 의...</td>\n",
       "      <td>Dr. Ehud Ur, a professor at Dalhousie Universi...</td>\n",
       "      <td>2.5632</td>\n",
       "    </tr>\n",
       "    <tr>\n",
       "      <th>2</th>\n",
       "      <td>Korean</td>\n",
       "      <td>English</td>\n",
       "      <td>다른 전문가들과 마찬가지로, 그는 당뇨병의 치료 여부에 회의적이며, 이러한 결과는 ...</td>\n",
       "      <td>Like other experts, he is skeptical about the ...</td>\n",
       "      <td>1.5493</td>\n",
       "    </tr>\n",
       "    <tr>\n",
       "      <th>3</th>\n",
       "      <td>Korean</td>\n",
       "      <td>English</td>\n",
       "      <td>월요일 스웨덴 한림원 노벨상 문학위원회 사무총장 사라 다니우스는 스웨덴 스베리예스 ...</td>\n",
       "      <td>The Secretary-General of the Swedish Academy, ...</td>\n",
       "      <td>3.2167</td>\n",
       "    </tr>\n",
       "    <tr>\n",
       "      <th>4</th>\n",
       "      <td>Korean</td>\n",
       "      <td>English</td>\n",
       "      <td>\"대니어스(Danius)는 \"\"지금 우리는 아무것도 하지는 않고 있다. 그의 가장 ...</td>\n",
       "      <td>\"Danius has stated that 'at the moment, we are...</td>\n",
       "      <td>2.3064</td>\n",
       "    </tr>\n",
       "    <tr>\n",
       "      <th>...</th>\n",
       "      <td>...</td>\n",
       "      <td>...</td>\n",
       "      <td>...</td>\n",
       "      <td>...</td>\n",
       "      <td>...</td>\n",
       "    </tr>\n",
       "    <tr>\n",
       "      <th>195</th>\n",
       "      <td>Korean</td>\n",
       "      <td>English</td>\n",
       "      <td>그 사진작가는 로널드 레이건 UCLA 메디컬 센터로 이송되었으나, 이후 그곳에서 사...</td>\n",
       "      <td>The photographer was transported to the Ronald...</td>\n",
       "      <td>1.0848</td>\n",
       "    </tr>\n",
       "    <tr>\n",
       "      <th>196</th>\n",
       "      <td>Korean</td>\n",
       "      <td>English</td>\n",
       "      <td>\"알려진 바에 따르면 그는 20대라고 한다. 성명서에서 비버는 \"\"제가 비록 그 비...</td>\n",
       "      <td>According to reports, he is in his 20s. In a s...</td>\n",
       "      <td>2.8426</td>\n",
       "    </tr>\n",
       "    <tr>\n",
       "      <th>197</th>\n",
       "      <td>Korean</td>\n",
       "      <td>English</td>\n",
       "      <td>연예 뉴스 웹사이트인 TMZ는 사진사가 세풀베다 대로 맞은편에 차를 세워 두고, 길...</td>\n",
       "      <td>The celebrity news website TMZ reported that t...</td>\n",
       "      <td>2.9024</td>\n",
       "    </tr>\n",
       "    <tr>\n",
       "      <th>198</th>\n",
       "      <td>Korean</td>\n",
       "      <td>English</td>\n",
       "      <td>경찰에 따르면 사진기자를 친 차량의 운전자는 형사 고발을 당할 가능성이 낮다.</td>\n",
       "      <td>According to the police, the driver of the car...</td>\n",
       "      <td>1.4720</td>\n",
       "    </tr>\n",
       "    <tr>\n",
       "      <th>199</th>\n",
       "      <td>Korean</td>\n",
       "      <td>English</td>\n",
       "      <td>하루에 열여덟 개의 메달만 주어지기 때문에, 많은 국가가 메달 단상에 오르지 못했습니다.</td>\n",
       "      <td>Due to the fact that only 18 medals are awarde...</td>\n",
       "      <td>1.3924</td>\n",
       "    </tr>\n",
       "  </tbody>\n",
       "</table>\n",
       "<p>200 rows × 5 columns</p>\n",
       "</div>"
      ],
      "text/plain": [
       "    Source Language Target Language  \\\n",
       "0            Korean         English   \n",
       "1            Korean         English   \n",
       "2            Korean         English   \n",
       "3            Korean         English   \n",
       "4            Korean         English   \n",
       "..              ...             ...   \n",
       "195          Korean         English   \n",
       "196          Korean         English   \n",
       "197          Korean         English   \n",
       "198          Korean         English   \n",
       "199          Korean         English   \n",
       "\n",
       "                                                Source  \\\n",
       "0            \"그는 \"\"현재 4개월 된 당뇨병에서 치료된 생쥐가 있다\"\"고 덧붙였다.\"   \n",
       "1    노바스코샤주 핼리팩스의 댈하우지대학교 의과 교수이자 캐나다 당뇨 협회 임상과학부 의...   \n",
       "2    다른 전문가들과 마찬가지로, 그는 당뇨병의 치료 여부에 회의적이며, 이러한 결과는 ...   \n",
       "3    월요일 스웨덴 한림원 노벨상 문학위원회 사무총장 사라 다니우스는 스웨덴 스베리예스 ...   \n",
       "4    \"대니어스(Danius)는 \"\"지금 우리는 아무것도 하지는 않고 있다. 그의 가장 ...   \n",
       "..                                                 ...   \n",
       "195  그 사진작가는 로널드 레이건 UCLA 메디컬 센터로 이송되었으나, 이후 그곳에서 사...   \n",
       "196  \"알려진 바에 따르면 그는 20대라고 한다. 성명서에서 비버는 \"\"제가 비록 그 비...   \n",
       "197  연예 뉴스 웹사이트인 TMZ는 사진사가 세풀베다 대로 맞은편에 차를 세워 두고, 길...   \n",
       "198        경찰에 따르면 사진기자를 친 차량의 운전자는 형사 고발을 당할 가능성이 낮다.   \n",
       "199  하루에 열여덟 개의 메달만 주어지기 때문에, 많은 국가가 메달 단상에 오르지 못했습니다.   \n",
       "\n",
       "                                             Candidate  Translation Time (s)  \n",
       "0    He added that \"there are mice that have been c...                0.9757  \n",
       "1    Dr. Ehud Ur, a professor at Dalhousie Universi...                2.5632  \n",
       "2    Like other experts, he is skeptical about the ...                1.5493  \n",
       "3    The Secretary-General of the Swedish Academy, ...                3.2167  \n",
       "4    \"Danius has stated that 'at the moment, we are...                2.3064  \n",
       "..                                                 ...                   ...  \n",
       "195  The photographer was transported to the Ronald...                1.0848  \n",
       "196  According to reports, he is in his 20s. In a s...                2.8426  \n",
       "197  The celebrity news website TMZ reported that t...                2.9024  \n",
       "198  According to the police, the driver of the car...                1.4720  \n",
       "199  Due to the fact that only 18 medals are awarde...                1.3924  \n",
       "\n",
       "[200 rows x 5 columns]"
      ]
     },
     "execution_count": 13,
     "metadata": {},
     "output_type": "execute_result"
    }
   ],
   "source": [
    "import pandas as pd\n",
    "\n",
    "# Load the CSV file\n",
    "file_path = '/home/elicer/Jun/llm-rag-chatbot/data/translate_rngd_flores/Translate_results_Korean_to_English.csv'  # Replace with your actual file path\n",
    "data = pd.read_csv(file_path)\n",
    "\n",
    "# Display the first few rows to check the content\n",
    "data"
   ]
  }
 ],
 "metadata": {
  "kernelspec": {
   "display_name": "jun-rngd",
   "language": "python",
   "name": "python3"
  },
  "language_info": {
   "codemirror_mode": {
    "name": "ipython",
    "version": 3
   },
   "file_extension": ".py",
   "mimetype": "text/x-python",
   "name": "python",
   "nbconvert_exporter": "python",
   "pygments_lexer": "ipython3",
   "version": "3.10.15"
  }
 },
 "nbformat": 4,
 "nbformat_minor": 2
}
