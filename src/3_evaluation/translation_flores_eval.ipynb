{
 "cells": [
  {
   "cell_type": "markdown",
   "metadata": {},
   "source": [
    "## 번역 성능 평가 \n",
    "\n",
    "Kor - Eng - Jpn"
   ]
  },
  {
   "cell_type": "code",
   "execution_count": 19,
   "metadata": {},
   "outputs": [],
   "source": [
    "import pandas as pd\n",
    "import numpy as np\n",
    "from datasets import load_dataset\n",
    "from nltk.translate.bleu_score import sentence_bleu, SmoothingFunction\n",
    "from nltk.translate.meteor_score import meteor_score\n",
    "from rouge_score import rouge_scorer\n",
    "from bert_score import score"
   ]
  },
  {
   "cell_type": "markdown",
   "metadata": {},
   "source": [
    "## 번역 시스템 준비 "
   ]
  },
  {
   "cell_type": "code",
   "execution_count": 10,
   "metadata": {},
   "outputs": [
    {
     "data": {
      "text/plain": [
       "CompletionResponse(text='Hello! How can I assist you today?', additional_kwargs={'model': 'llama3.1:70b', 'created_at': '2024-12-28T06:41:47.65819851Z', 'done': True, 'done_reason': 'stop', 'context': [128009, 128006, 882, 128007, 271, 15339, 128009, 128006, 78191, 128007, 271, 9906, 0, 2650, 649, 358, 7945, 499, 3432, 30], 'total_duration': 823681499, 'load_duration': 42072342, 'prompt_eval_count': 12, 'prompt_eval_duration': 81689000, 'eval_count': 10, 'eval_duration': 654783000}, raw={'model': 'llama3.1:70b', 'created_at': '2024-12-28T06:41:47.65819851Z', 'response': 'Hello! How can I assist you today?', 'done': True, 'done_reason': 'stop', 'context': [128009, 128006, 882, 128007, 271, 15339, 128009, 128006, 78191, 128007, 271, 9906, 0, 2650, 649, 358, 7945, 499, 3432, 30], 'total_duration': 823681499, 'load_duration': 42072342, 'prompt_eval_count': 12, 'prompt_eval_duration': 81689000, 'eval_count': 10, 'eval_duration': 654783000}, logprobs=None, delta=None)"
      ]
     },
     "execution_count": 10,
     "metadata": {},
     "output_type": "execute_result"
    }
   ],
   "source": [
    "# Define LLM\n",
    "import os\n",
    "from llama_index.llms.ollama import Ollama\n",
    "from llama_index.core.prompts import PromptTemplate\n",
    "\n",
    "llm = Ollama(model=\"llama3.1:70b\", request_timeout=600,temperature=0)\n",
    "llm.complete(\"hello\")"
   ]
  },
  {
   "cell_type": "code",
   "execution_count": 71,
   "metadata": {},
   "outputs": [],
   "source": [
    "prompt = PromptTemplate(\n",
    "    template=\"\"\"This is an {source_lang} to {target_lang} translation, please provide the {target_lang} translation for this text in as polite a tone as possible. \\\n",
    "Do not provide any explanations or text apart from the translation.\n",
    "The translation result must be written in {target_lang}.\n",
    "\n",
    "{source_lang}: {source_text}\n",
    "\n",
    "{target_lang}:\"\"\"\n",
    ")\n",
    "\n",
    "# prompt = PromptTemplate(\n",
    "#     template=\"\"\"This is an {source_lang} to {target_lang} translation, please provide the {target_lang} translation for this text in as polite a tone as possible. \\\n",
    "# The original text sentence structure must be preserved.\n",
    "# Do not provide any explanations or text apart from the translation.\n",
    "# The translation result must be written in {target_lang}.\n",
    "\n",
    "# {source_lang}: {source_text}\n",
    "\n",
    "# {target_lang}:\"\"\"\n",
    "# )"
   ]
  },
  {
   "cell_type": "code",
   "execution_count": 26,
   "metadata": {},
   "outputs": [],
   "source": [
    "# 번역함수 \n",
    "def translate(source_text, source_lang, target_lang, prompt):\n",
    "    full_prompt = prompt.format(source_lang=source_lang, target_lang=target_lang, source_text=source_text)\n",
    "    result = llm.complete(full_prompt)\n",
    "    return result.text"
   ]
  },
  {
   "cell_type": "code",
   "execution_count": 28,
   "metadata": {},
   "outputs": [
    {
     "name": "stdout",
     "output_type": "stream",
     "text": [
      "Good morning, hello.\n"
     ]
    }
   ],
   "source": [
    "result = translate(\"안녕하세요. 좋은 아침입니다.\", 'kor', 'eng', prompt)\n",
    "print(result)"
   ]
  },
  {
   "cell_type": "markdown",
   "metadata": {},
   "source": [
    "## 평가 시스템 준비"
   ]
  },
  {
   "cell_type": "code",
   "execution_count": 62,
   "metadata": {},
   "outputs": [],
   "source": [
    "# 언어별 토크나이저\n",
    "from nltk.tokenize import word_tokenize\n",
    "from janome.tokenizer import Tokenizer\n",
    "from kiwipiepy import Kiwi\n",
    "\n",
    "def tokenize(text, lang):\n",
    "    if lang == \"eng\":\n",
    "        # 영어: NLTK word_tokenize\n",
    "        return word_tokenize(text)\n",
    "    elif lang == \"kor\":\n",
    "        # 한국어: Kiwi 형태소 분석기\n",
    "        kiwi = Kiwi()\n",
    "        tokens = kiwi.tokenize(text)\n",
    "        return [token.form for token in tokens]  # 형태소만 추출\n",
    "    elif lang == \"jpn\":\n",
    "        # 일본어: Janome 형태소 분석기\n",
    "        tokenizer = Tokenizer()\n",
    "        return [token.surface for token in tokenizer.tokenize(text)]\n",
    "    else:\n",
    "        raise ValueError(f\"Unsupported language: {lang}\")"
   ]
  },
  {
   "cell_type": "code",
   "execution_count": 92,
   "metadata": {},
   "outputs": [],
   "source": [
    "from nltk.translate.bleu_score import sentence_bleu, SmoothingFunction\n",
    "from nltk.translate.meteor_score import meteor_score\n",
    "from rouge_score import rouge_scorer\n",
    "from bert_score import score\n",
    "import numpy as np\n",
    "\n",
    "# 평가 함수\n",
    "def evaluate(\n",
    "    reference: str,\n",
    "    candidate: str,\n",
    "    tgt_lang: str,\n",
    "    bert_model=\"microsoft/deberta-xlarge-mnli\",\n",
    "):\n",
    "    # 텍스트를 토큰화\n",
    "    reference_tokens = tokenize(reference, tgt_lang)\n",
    "    candidate_tokens = tokenize(candidate, tgt_lang)\n",
    "\n",
    "    # BLEU 점수 계산 (스무딩 적용)\n",
    "    bleu = sentence_bleu(\n",
    "        [reference_tokens],\n",
    "        candidate_tokens,\n",
    "        smoothing_function=SmoothingFunction().method1,\n",
    "    )\n",
    "\n",
    "    # METEOR 점수 계산 (리스트 형태로 전달)\n",
    "    meteor = meteor_score([reference_tokens], candidate_tokens)\n",
    "\n",
    "    # BERTScore 계산\n",
    "    P, R, F1 = score(\n",
    "        [candidate],\n",
    "        [reference],\n",
    "        lang=tgt_lang,\n",
    "        model_type=bert_model,\n",
    "        device=\"cuda\",  # GPU 사용\n",
    "    )\n",
    "\n",
    "    return {\n",
    "        \"BLEU\": round(bleu, 4),\n",
    "        \"METEOR\": round(meteor, 4),\n",
    "        \"BERT\": round(F1.item(), 4),\n",
    "    }"
   ]
  },
  {
   "cell_type": "markdown",
   "metadata": {},
   "source": [
    "데이터셋 FLORES-Plus 준비"
   ]
  },
  {
   "cell_type": "code",
   "execution_count": 7,
   "metadata": {},
   "outputs": [
    {
     "name": "stdout",
     "output_type": "stream",
     "text": [
      "\"We now have 4-month-old mice that are non-diabetic that used to be diabetic,\" he added.\n",
      "\"그는 \"\"현재 4개월 된 당뇨병에서 치료된 생쥐가 있다\"\"고 덧붙였다.\"\n",
      "「我々が飼っている生後4か月のマウスはかつて糖尿病でしたが現在は糖尿病ではない、」と彼は付け加えました。\n"
     ]
    }
   ],
   "source": [
    "# 텍스트 파일 로더\n",
    "def load_text_file(file_path):\n",
    "    with open(file_path, \"r\", encoding=\"utf-8\") as f:\n",
    "        lines = f.readlines()\n",
    "    return [line.strip() for line in lines]\n",
    "\n",
    "# 데이터 위치 \n",
    "data_dir = \"/home/dudaji/Jun/llm-rag-chatbot/data/flores/\"\n",
    "\n",
    "data_eng = load_text_file(f\"{data_dir}/devtest.eng_Latn\")\n",
    "data_kor = load_text_file(f\"{data_dir}/devtest.kor_Hang\")\n",
    "data_jpn = load_text_file(f\"{data_dir}/devtest.jpn_Jpan\")\n",
    "\n",
    "print(data_eng[0])\n",
    "print(data_kor[0])\n",
    "print(data_jpn[0])"
   ]
  },
  {
   "cell_type": "code",
   "execution_count": 75,
   "metadata": {},
   "outputs": [
    {
     "name": "stdout",
     "output_type": "stream",
     "text": [
      "original: 노바스코샤주 핼리팩스의 댈하우지대학교 의과 교수이자 캐나다 당뇨 협회 임상과학부 의장인 Ehud Ur 박사는 이 연구가 아직 초기 단계라고 경고했습니다.\n",
      "translated: Dr. Ehud Ur, a professor of medicine at Dalhousie University in Halifax, Nova Scotia and chair of the Clinical and Scientific Section of the Canadian Diabetes Association, warned that this study is still in its early stages.\n"
     ]
    },
    {
     "name": "stderr",
     "output_type": "stream",
     "text": [
      "/home/dudaji/miniconda3/envs/langserve/lib/python3.11/site-packages/transformers/tokenization_utils_base.py:1601: FutureWarning: `clean_up_tokenization_spaces` was not set. It will be set to `True` by default. This behavior will be depracted in transformers v4.45, and will be then set to `False` by default. For more details check this issue: https://github.com/huggingface/transformers/issues/31884\n",
      "  warnings.warn(\n"
     ]
    },
    {
     "name": "stdout",
     "output_type": "stream",
     "text": [
      "{'BLEU': 0.5855, 'METEOR': 0.8431, 'ROUGE': 0.8493, 'BERT': 0.9479}\n"
     ]
    }
   ],
   "source": [
    "test_idx = 1\n",
    "print(f'original: {data_kor[test_idx]}')\n",
    "result = translate(data_kor[test_idx], 'kor', 'eng', prompt)\n",
    "print(f'translated: {result}')\n",
    "\n",
    "eval_result = evaluate(data_eng[test_idx], result, 'eng')\n",
    "print(eval_result)"
   ]
  },
  {
   "cell_type": "code",
   "execution_count": 90,
   "metadata": {},
   "outputs": [
    {
     "name": "stdout",
     "output_type": "stream",
     "text": [
      "original: Dr. Ehud Ur, professor of medicine at Dalhousie University in Halifax, Nova Scotia and chair of the clinical and scientific division of the Canadian Diabetes Association cautioned that the research is still in its early days.\n",
      "translated: 노바스코샤 주 핼리팩스에 있는 달하우스 대학교 의과대학 교수이자 캐나다 당뇨병 협회의 임상 및 과학 부문 위원장인 에후드 어 박사는 이 연구가 아직 초기 단계에 있기 때문에 주의를 요한다고 경고했다.\n"
     ]
    },
    {
     "name": "stderr",
     "output_type": "stream",
     "text": [
      "/home/dudaji/miniconda3/envs/langserve/lib/python3.11/site-packages/transformers/tokenization_utils_base.py:1601: FutureWarning: `clean_up_tokenization_spaces` was not set. It will be set to `True` by default. This behavior will be depracted in transformers v4.45, and will be then set to `False` by default. For more details check this issue: https://github.com/huggingface/transformers/issues/31884\n",
      "  warnings.warn(\n"
     ]
    },
    {
     "name": "stdout",
     "output_type": "stream",
     "text": [
      "{'BLEU': 0.2444, 'METEOR': 0.5935, 'ROUGE': 0.0, 'BERT': 0.8518}\n"
     ]
    }
   ],
   "source": [
    "print(f'original: {data_eng[1]}')\n",
    "result = translate(data_eng[1], 'eng', 'kor', prompt)\n",
    "print(f'translated: {result}')\n",
    "\n",
    "eval_result = evaluate(data_kor[1], result, 'kor')\n",
    "print(eval_result)"
   ]
  },
  {
   "cell_type": "code",
   "execution_count": 91,
   "metadata": {},
   "outputs": [
    {
     "name": "stdout",
     "output_type": "stream",
     "text": [
      "original: Dr. Ehud Ur, professor of medicine at Dalhousie University in Halifax, Nova Scotia and chair of the clinical and scientific division of the Canadian Diabetes Association cautioned that the research is still in its early days.\n",
      "translated: ノバスコシア州ハリファックスのダルハウジー大学医学部教授であり、カナダ糖尿病協会臨床・科学部門の委員長であるエフード・アーウル博士は、この研究がまだ初期段階にあることを警告した。\n"
     ]
    },
    {
     "name": "stderr",
     "output_type": "stream",
     "text": [
      "/home/dudaji/miniconda3/envs/langserve/lib/python3.11/site-packages/transformers/tokenization_utils_base.py:1601: FutureWarning: `clean_up_tokenization_spaces` was not set. It will be set to `True` by default. This behavior will be depracted in transformers v4.45, and will be then set to `False` by default. For more details check this issue: https://github.com/huggingface/transformers/issues/31884\n",
      "  warnings.warn(\n"
     ]
    },
    {
     "name": "stdout",
     "output_type": "stream",
     "text": [
      "{'BLEU': 0.4396, 'METEOR': 0.7287, 'ROUGE': 0.0, 'BERT': 0.9035}\n"
     ]
    }
   ],
   "source": [
    "print(f'original: {data_eng[1]}')\n",
    "result = translate(data_eng[1], 'eng', 'jpn', prompt)\n",
    "print(f'translated: {result}')\n",
    "\n",
    "eval_result = evaluate(data_jpn[1], result, 'jpn')\n",
    "print(eval_result)"
   ]
  },
  {
   "cell_type": "markdown",
   "metadata": {},
   "source": [
    "## 번역 평가 코드 "
   ]
  },
  {
   "cell_type": "code",
   "execution_count": 97,
   "metadata": {},
   "outputs": [
    {
     "data": {
      "text/plain": [
       "1012"
      ]
     },
     "execution_count": 97,
     "metadata": {},
     "output_type": "execute_result"
    }
   ],
   "source": [
    "len(data_eng)"
   ]
  },
  {
   "cell_type": "code",
   "execution_count": 94,
   "metadata": {},
   "outputs": [
    {
     "name": "stderr",
     "output_type": "stream",
     "text": [
      "/home/dudaji/miniconda3/envs/langserve/lib/python3.11/site-packages/transformers/tokenization_utils_base.py:1601: FutureWarning: `clean_up_tokenization_spaces` was not set. It will be set to `True` by default. This behavior will be depracted in transformers v4.45, and will be then set to `False` by default. For more details check this issue: https://github.com/huggingface/transformers/issues/31884\n",
      "  warnings.warn(\n"
     ]
    },
    {
     "name": "stdout",
     "output_type": "stream",
     "text": [
      "   Source Language Target Language  \\\n",
      "0              eng             kor   \n",
      "1              eng             kor   \n",
      "2              eng             kor   \n",
      "3              eng             kor   \n",
      "4              eng             jpn   \n",
      "5              eng             jpn   \n",
      "6              eng             jpn   \n",
      "7              eng             jpn   \n",
      "8              kor             eng   \n",
      "9              kor             eng   \n",
      "10             kor             eng   \n",
      "11             kor             eng   \n",
      "12             kor             jpn   \n",
      "13             kor             jpn   \n",
      "14             kor             jpn   \n",
      "15             kor             jpn   \n",
      "16             jpn             eng   \n",
      "17             jpn             eng   \n",
      "18             jpn             eng   \n",
      "19             jpn             eng   \n",
      "20             jpn             kor   \n",
      "21             jpn             kor   \n",
      "22             jpn             kor   \n",
      "23             jpn             kor   \n",
      "\n",
      "                                               Source  \\\n",
      "0   \"We now have 4-month-old mice that are non-dia...   \n",
      "1   Dr. Ehud Ur, professor of medicine at Dalhousi...   \n",
      "2   Like some other experts, he is skeptical about...   \n",
      "3   On Monday, Sara Danius, permanent secretary of...   \n",
      "4   \"We now have 4-month-old mice that are non-dia...   \n",
      "5   Dr. Ehud Ur, professor of medicine at Dalhousi...   \n",
      "6   Like some other experts, he is skeptical about...   \n",
      "7   On Monday, Sara Danius, permanent secretary of...   \n",
      "8           \"그는 \"\"현재 4개월 된 당뇨병에서 치료된 생쥐가 있다\"\"고 덧붙였다.\"   \n",
      "9   노바스코샤주 핼리팩스의 댈하우지대학교 의과 교수이자 캐나다 당뇨 협회 임상과학부 의...   \n",
      "10  다른 전문가들과 마찬가지로, 그는 당뇨병의 치료 여부에 회의적이며, 이러한 결과는 ...   \n",
      "11  월요일 스웨덴 한림원 노벨상 문학위원회 사무총장 사라 다니우스는 스웨덴 스베리예스 ...   \n",
      "12          \"그는 \"\"현재 4개월 된 당뇨병에서 치료된 생쥐가 있다\"\"고 덧붙였다.\"   \n",
      "13  노바스코샤주 핼리팩스의 댈하우지대학교 의과 교수이자 캐나다 당뇨 협회 임상과학부 의...   \n",
      "14  다른 전문가들과 마찬가지로, 그는 당뇨병의 치료 여부에 회의적이며, 이러한 결과는 ...   \n",
      "15  월요일 스웨덴 한림원 노벨상 문학위원회 사무총장 사라 다니우스는 스웨덴 스베리예스 ...   \n",
      "16  「我々が飼っている生後4か月のマウスはかつて糖尿病でしたが現在は糖尿病ではない、」と彼は付け...   \n",
      "17  ノバスコシア州ハリファックスにあるダルハウジー大学医学部教授でカナダ糖尿病協会の臨床・科学部...   \n",
      "18  他の専門家たちと同様に、彼は糖尿病を完治できるかどうかについては懐疑的であり、これらの調査結...   \n",
      "19  スウェーデンアカデミーのノーベル文学委員会の常任幹事であるサラ・ダニウス氏は月曜日、スウェー...   \n",
      "20  「我々が飼っている生後4か月のマウスはかつて糖尿病でしたが現在は糖尿病ではない、」と彼は付け...   \n",
      "21  ノバスコシア州ハリファックスにあるダルハウジー大学医学部教授でカナダ糖尿病協会の臨床・科学部...   \n",
      "22  他の専門家たちと同様に、彼は糖尿病を完治できるかどうかについては懐疑的であり、これらの調査結...   \n",
      "23  スウェーデンアカデミーのノーベル文学委員会の常任幹事であるサラ・ダニウス氏は月曜日、スウェー...   \n",
      "\n",
      "                                            Reference  \\\n",
      "0           \"그는 \"\"현재 4개월 된 당뇨병에서 치료된 생쥐가 있다\"\"고 덧붙였다.\"   \n",
      "1   노바스코샤주 핼리팩스의 댈하우지대학교 의과 교수이자 캐나다 당뇨 협회 임상과학부 의...   \n",
      "2   다른 전문가들과 마찬가지로, 그는 당뇨병의 치료 여부에 회의적이며, 이러한 결과는 ...   \n",
      "3   월요일 스웨덴 한림원 노벨상 문학위원회 사무총장 사라 다니우스는 스웨덴 스베리예스 ...   \n",
      "4   「我々が飼っている生後4か月のマウスはかつて糖尿病でしたが現在は糖尿病ではない、」と彼は付け...   \n",
      "5   ノバスコシア州ハリファックスにあるダルハウジー大学医学部教授でカナダ糖尿病協会の臨床・科学部...   \n",
      "6   他の専門家たちと同様に、彼は糖尿病を完治できるかどうかについては懐疑的であり、これらの調査結...   \n",
      "7   スウェーデンアカデミーのノーベル文学委員会の常任幹事であるサラ・ダニウス氏は月曜日、スウェー...   \n",
      "8   \"We now have 4-month-old mice that are non-dia...   \n",
      "9   Dr. Ehud Ur, professor of medicine at Dalhousi...   \n",
      "10  Like some other experts, he is skeptical about...   \n",
      "11  On Monday, Sara Danius, permanent secretary of...   \n",
      "12  「我々が飼っている生後4か月のマウスはかつて糖尿病でしたが現在は糖尿病ではない、」と彼は付け...   \n",
      "13  ノバスコシア州ハリファックスにあるダルハウジー大学医学部教授でカナダ糖尿病協会の臨床・科学部...   \n",
      "14  他の専門家たちと同様に、彼は糖尿病を完治できるかどうかについては懐疑的であり、これらの調査結...   \n",
      "15  スウェーデンアカデミーのノーベル文学委員会の常任幹事であるサラ・ダニウス氏は月曜日、スウェー...   \n",
      "16  \"We now have 4-month-old mice that are non-dia...   \n",
      "17  Dr. Ehud Ur, professor of medicine at Dalhousi...   \n",
      "18  Like some other experts, he is skeptical about...   \n",
      "19  On Monday, Sara Danius, permanent secretary of...   \n",
      "20          \"그는 \"\"현재 4개월 된 당뇨병에서 치료된 생쥐가 있다\"\"고 덧붙였다.\"   \n",
      "21  노바스코샤주 핼리팩스의 댈하우지대학교 의과 교수이자 캐나다 당뇨 협회 임상과학부 의...   \n",
      "22  다른 전문가들과 마찬가지로, 그는 당뇨병의 치료 여부에 회의적이며, 이러한 결과는 ...   \n",
      "23  월요일 스웨덴 한림원 노벨상 문학위원회 사무총장 사라 다니우스는 스웨덴 스베리예스 ...   \n",
      "\n",
      "                                            Candidate    BLEU  METEOR    BERT  \n",
      "0            \"우리는 이제 당뇨병이었던 생후 4개월된 쥐가 당뇨병이 아니게 되었다.\"  0.1963  0.4302  0.7209  \n",
      "1   노바스코샤 주 핼리팩스에 있는 달하우스 대학교 의과대학 교수이자 캐나다 당뇨병 협회...  0.2444  0.5935  0.8518  \n",
      "2   다른 전문가들과 마찬가지로 그는 당뇨병이 치료될 수 있는지에 대해 회의적이며, 이러...  0.3629  0.7648  0.8730  \n",
      "3   스웨덴 아카데미 문학부문 노벨위원회 상임서기가 된 사라 다니우스는 월요일 스웨덴의 ...  0.2857  0.6672  0.8441  \n",
      "4   「私たちは現在、糖尿病であったが今はそうではない４ヶ月齢のマウスを飼育しています」と彼は付け...  0.2034  0.5911  0.7547  \n",
      "5   ノバスコシア州ハリファックスのダルハウジー大学医学部教授であり、カナダ糖尿病協会臨床・科学部...  0.4396  0.7287  0.9035  \n",
      "6   他の専門家と同様に、彼は糖尿病が治癒できるかどうかに懐疑的であり、これらの研究結果はすでに第...  0.5518  0.7375  0.8968  \n",
      "7   月曜、スウェーデン・アカデミーのノーベル文学賞委員会事務局長のサラ・ダニウスは、スウェーデン...  0.2865  0.6479  0.7800  \n",
      "8   \"He added that there is a four-month-old diabe...  0.0166  0.3123  0.7517  \n",
      "9   Dr. Ehud Ur, a professor of medicine at Dalhou...  0.5855  0.8431  0.9479  \n",
      "10  Like other experts, he is skeptical about the ...  0.2437  0.4763  0.8322  \n",
      "11  On Monday, Sara Danius, the permanent secretar...  0.3000  0.7248  0.8845  \n",
      "12                 彼は「現在４ヶ月の糖尿病から治療されたマウスがいます」と付け加えた。  0.0254  0.3660  0.7178  \n",
      "13  ノバスコシア州ハリファックスのダルハウジー大学医学部教授であり、カナダ糖尿病協会臨床科学部門...  0.3675  0.6501  0.8876  \n",
      "14  他の専門家と同様に、彼は糖尿病の治療可能性について懐疑的であり、これらの結果は１型糖尿病患者...  0.4328  0.6628  0.8630  \n",
      "15  月曜、スウェーデン王立アカデミーのノーベル文学賞委員会事務総長のサラ・ダニウスは、スウェーデ...  0.2744  0.6306  0.7786  \n",
      "16  \"The mice we are raising, which were diabetic ...  0.2145  0.5543  0.7911  \n",
      "17  Dr. Houlden, a professor at the Faculty of Med...  0.3607  0.7614  0.9207  \n",
      "18  Like other experts, he is skeptical about whet...  0.5159  0.8714  0.9176  \n",
      "19  On Monday, Sara Danius, the permanent secretar...  0.3494  0.6854  0.8823  \n",
      "20  「우리가 기르는 4개월 된 생쥐는 과거에 당뇨병이었지만 현재는 당뇨병이 아닙니다,」...  0.1838  0.4755  0.7880  \n",
      "21  노바스코샤 주 핼리팩스에 있는 달하우지 대학교 의과대학 교수이자 캐나다 당뇨병 협회...  0.2653  0.6090  0.8492  \n",
      "22  다른 전문가들과 마찬가지로, 그는 당뇨병을 완치할 수 있는지에 대해 회의적이며, 이...  0.3927  0.7850  0.8756  \n",
      "23  스웨덴 아카데미의 노벨 문학상 심사위원회 상임幹事인 사라 다니우스씨는 월요일, 스웨...  0.2421  0.6260  0.8237  \n"
     ]
    }
   ],
   "source": [
    "import time\n",
    "\n",
    "pairs = [\n",
    "    (\"eng\", \"kor\", data_eng, data_kor),\n",
    "    (\"eng\", \"jpn\", data_eng, data_jpn),\n",
    "    (\"kor\", \"eng\", data_kor, data_eng),\n",
    "    (\"kor\", \"jpn\", data_kor, data_jpn),\n",
    "    (\"jpn\", \"eng\", data_jpn, data_eng),\n",
    "    (\"jpn\", \"kor\", data_jpn, data_kor),\n",
    "]\n",
    "\n",
    "# 평가 수행\n",
    "results = []\n",
    "timings = []  # 각 페어 처리 시간을 저장\n",
    "\n",
    "for source_lang, target_lang, sources, references in pairs:\n",
    "    start_time = time.time()  # 시작 시간 기록\n",
    "    for source, reference in zip(sources, references):\n",
    "        candidate = translate(source, source_lang, target_lang, prompt)\n",
    "        evaluation = evaluate(reference, candidate, target_lang)\n",
    "        results.append({\n",
    "            \"Source Language\": source_lang,\n",
    "            \"Target Language\": target_lang,\n",
    "            \"Source\": source,\n",
    "            \"Reference\": reference,\n",
    "            \"Candidate\": candidate,\n",
    "            **evaluation,\n",
    "        })\n",
    "    elapsed_time = time.time() - start_time  # 처리 시간 계산\n",
    "    timings.append({\n",
    "        \"Source Language\": source_lang,\n",
    "        \"Target Language\": target_lang,\n",
    "        \"Elapsed Time (s)\": round(elapsed_time, 4)\n",
    "    })\n",
    "\n",
    "# 결과 데이터프레임 생성\n",
    "df = pd.DataFrame(results)\n",
    "\n",
    "# 시간 데이터프레임 생성\n",
    "timing_df = pd.DataFrame(timings)\n",
    "\n",
    "# 결과와 시간 모두 출력\n",
    "print(\"\\nProcessing Times:\")\n",
    "print(timing_df)\n",
    "\n",
    "# 평가 결과 저장\n",
    "df.to_csv(\"translation_evaluation_results.csv\", index=False, encoding=\"utf-8\")\n",
    "\n",
    "# 처리 시간 저장\n",
    "timing_df.to_csv(\"translation_processing_times.csv\", index=False, encoding=\"utf-8\")\n",
    "\n",
    "print(\"Results saved:\")\n",
    "print(\"1. Translation evaluation results: translation_evaluation_results.csv\")\n",
    "print(\"2. Processing times: translation_processing_times.csv\")"
   ]
  },
  {
   "cell_type": "code",
   "execution_count": 96,
   "metadata": {},
   "outputs": [
    {
     "name": "stdout",
     "output_type": "stream",
     "text": [
      "   Source Language Target Language  \\\n",
      "0              eng             kor   \n",
      "1              eng             kor   \n",
      "2              eng             kor   \n",
      "3              eng             kor   \n",
      "4              eng             jpn   \n",
      "5              eng             jpn   \n",
      "6              eng             jpn   \n",
      "7              eng             jpn   \n",
      "8              kor             eng   \n",
      "9              kor             eng   \n",
      "10             kor             eng   \n",
      "11             kor             eng   \n",
      "12             kor             jpn   \n",
      "13             kor             jpn   \n",
      "14             kor             jpn   \n",
      "15             kor             jpn   \n",
      "16             jpn             eng   \n",
      "17             jpn             eng   \n",
      "18             jpn             eng   \n",
      "19             jpn             eng   \n",
      "20             jpn             kor   \n",
      "21             jpn             kor   \n",
      "22             jpn             kor   \n",
      "23             jpn             kor   \n",
      "\n",
      "                                               Source  \\\n",
      "0   \"We now have 4-month-old mice that are non-dia...   \n",
      "1   Dr. Ehud Ur, professor of medicine at Dalhousi...   \n",
      "2   Like some other experts, he is skeptical about...   \n",
      "3   On Monday, Sara Danius, permanent secretary of...   \n",
      "4   \"We now have 4-month-old mice that are non-dia...   \n",
      "5   Dr. Ehud Ur, professor of medicine at Dalhousi...   \n",
      "6   Like some other experts, he is skeptical about...   \n",
      "7   On Monday, Sara Danius, permanent secretary of...   \n",
      "8           \"그는 \"\"현재 4개월 된 당뇨병에서 치료된 생쥐가 있다\"\"고 덧붙였다.\"   \n",
      "9   노바스코샤주 핼리팩스의 댈하우지대학교 의과 교수이자 캐나다 당뇨 협회 임상과학부 의...   \n",
      "10  다른 전문가들과 마찬가지로, 그는 당뇨병의 치료 여부에 회의적이며, 이러한 결과는 ...   \n",
      "11  월요일 스웨덴 한림원 노벨상 문학위원회 사무총장 사라 다니우스는 스웨덴 스베리예스 ...   \n",
      "12          \"그는 \"\"현재 4개월 된 당뇨병에서 치료된 생쥐가 있다\"\"고 덧붙였다.\"   \n",
      "13  노바스코샤주 핼리팩스의 댈하우지대학교 의과 교수이자 캐나다 당뇨 협회 임상과학부 의...   \n",
      "14  다른 전문가들과 마찬가지로, 그는 당뇨병의 치료 여부에 회의적이며, 이러한 결과는 ...   \n",
      "15  월요일 스웨덴 한림원 노벨상 문학위원회 사무총장 사라 다니우스는 스웨덴 스베리예스 ...   \n",
      "16  「我々が飼っている生後4か月のマウスはかつて糖尿病でしたが現在は糖尿病ではない、」と彼は付け...   \n",
      "17  ノバスコシア州ハリファックスにあるダルハウジー大学医学部教授でカナダ糖尿病協会の臨床・科学部...   \n",
      "18  他の専門家たちと同様に、彼は糖尿病を完治できるかどうかについては懐疑的であり、これらの調査結...   \n",
      "19  スウェーデンアカデミーのノーベル文学委員会の常任幹事であるサラ・ダニウス氏は月曜日、スウェー...   \n",
      "20  「我々が飼っている生後4か月のマウスはかつて糖尿病でしたが現在は糖尿病ではない、」と彼は付け...   \n",
      "21  ノバスコシア州ハリファックスにあるダルハウジー大学医学部教授でカナダ糖尿病協会の臨床・科学部...   \n",
      "22  他の専門家たちと同様に、彼は糖尿病を完治できるかどうかについては懐疑的であり、これらの調査結...   \n",
      "23  スウェーデンアカデミーのノーベル文学委員会の常任幹事であるサラ・ダニウス氏は月曜日、スウェー...   \n",
      "\n",
      "                                            Reference  \\\n",
      "0           \"그는 \"\"현재 4개월 된 당뇨병에서 치료된 생쥐가 있다\"\"고 덧붙였다.\"   \n",
      "1   노바스코샤주 핼리팩스의 댈하우지대학교 의과 교수이자 캐나다 당뇨 협회 임상과학부 의...   \n",
      "2   다른 전문가들과 마찬가지로, 그는 당뇨병의 치료 여부에 회의적이며, 이러한 결과는 ...   \n",
      "3   월요일 스웨덴 한림원 노벨상 문학위원회 사무총장 사라 다니우스는 스웨덴 스베리예스 ...   \n",
      "4   「我々が飼っている生後4か月のマウスはかつて糖尿病でしたが現在は糖尿病ではない、」と彼は付け...   \n",
      "5   ノバスコシア州ハリファックスにあるダルハウジー大学医学部教授でカナダ糖尿病協会の臨床・科学部...   \n",
      "6   他の専門家たちと同様に、彼は糖尿病を完治できるかどうかについては懐疑的であり、これらの調査結...   \n",
      "7   スウェーデンアカデミーのノーベル文学委員会の常任幹事であるサラ・ダニウス氏は月曜日、スウェー...   \n",
      "8   \"We now have 4-month-old mice that are non-dia...   \n",
      "9   Dr. Ehud Ur, professor of medicine at Dalhousi...   \n",
      "10  Like some other experts, he is skeptical about...   \n",
      "11  On Monday, Sara Danius, permanent secretary of...   \n",
      "12  「我々が飼っている生後4か月のマウスはかつて糖尿病でしたが現在は糖尿病ではない、」と彼は付け...   \n",
      "13  ノバスコシア州ハリファックスにあるダルハウジー大学医学部教授でカナダ糖尿病協会の臨床・科学部...   \n",
      "14  他の専門家たちと同様に、彼は糖尿病を完治できるかどうかについては懐疑的であり、これらの調査結...   \n",
      "15  スウェーデンアカデミーのノーベル文学委員会の常任幹事であるサラ・ダニウス氏は月曜日、スウェー...   \n",
      "16  \"We now have 4-month-old mice that are non-dia...   \n",
      "17  Dr. Ehud Ur, professor of medicine at Dalhousi...   \n",
      "18  Like some other experts, he is skeptical about...   \n",
      "19  On Monday, Sara Danius, permanent secretary of...   \n",
      "20          \"그는 \"\"현재 4개월 된 당뇨병에서 치료된 생쥐가 있다\"\"고 덧붙였다.\"   \n",
      "21  노바스코샤주 핼리팩스의 댈하우지대학교 의과 교수이자 캐나다 당뇨 협회 임상과학부 의...   \n",
      "22  다른 전문가들과 마찬가지로, 그는 당뇨병의 치료 여부에 회의적이며, 이러한 결과는 ...   \n",
      "23  월요일 스웨덴 한림원 노벨상 문학위원회 사무총장 사라 다니우스는 스웨덴 스베리예스 ...   \n",
      "\n",
      "                                            Candidate    BLEU  METEOR    BERT  \n",
      "0            \"우리는 이제 당뇨병이었던 생후 4개월된 쥐가 당뇨병이 아니게 되었다.\"  0.1963  0.4302  0.7209  \n",
      "1   노바스코샤 주 핼리팩스에 있는 달하우스 대학교 의과대학 교수이자 캐나다 당뇨병 협회...  0.2444  0.5935  0.8518  \n",
      "2   다른 전문가들과 마찬가지로 그는 당뇨병이 치료될 수 있는지에 대해 회의적이며, 이러...  0.3629  0.7648  0.8730  \n",
      "3   스웨덴 아카데미 문학부문 노벨위원회 상임서기가 된 사라 다니우스는 월요일 스웨덴의 ...  0.2857  0.6672  0.8441  \n",
      "4   「私たちは現在、糖尿病であったが今はそうではない４ヶ月齢のマウスを飼育しています」と彼は付け...  0.2034  0.5911  0.7547  \n",
      "5   ノバスコシア州ハリファックスのダルハウジー大学医学部教授であり、カナダ糖尿病協会臨床・科学部...  0.4396  0.7287  0.9035  \n",
      "6   他の専門家と同様に、彼は糖尿病が治癒できるかどうかに懐疑的であり、これらの研究結果はすでに第...  0.5518  0.7375  0.8968  \n",
      "7   月曜、スウェーデン・アカデミーのノーベル文学賞委員会事務局長のサラ・ダニウスは、スウェーデン...  0.2865  0.6479  0.7800  \n",
      "8   \"He added that there is a four-month-old diabe...  0.0166  0.3123  0.7517  \n",
      "9   Dr. Ehud Ur, a professor of medicine at Dalhou...  0.5855  0.8431  0.9479  \n",
      "10  Like other experts, he is skeptical about the ...  0.2437  0.4763  0.8322  \n",
      "11  On Monday, Sara Danius, the permanent secretar...  0.3000  0.7248  0.8845  \n",
      "12                 彼は「現在４ヶ月の糖尿病から治療されたマウスがいます」と付け加えた。  0.0254  0.3660  0.7178  \n",
      "13  ノバスコシア州ハリファックスのダルハウジー大学医学部教授であり、カナダ糖尿病協会臨床科学部門...  0.3675  0.6501  0.8876  \n",
      "14  他の専門家と同様に、彼は糖尿病の治療可能性について懐疑的であり、これらの結果は１型糖尿病患者...  0.4328  0.6628  0.8630  \n",
      "15  月曜、スウェーデン王立アカデミーのノーベル文学賞委員会事務総長のサラ・ダニウスは、スウェーデ...  0.2744  0.6306  0.7786  \n",
      "16  \"The mice we are raising, which were diabetic ...  0.2145  0.5543  0.7911  \n",
      "17  Dr. Houlden, a professor at the Faculty of Med...  0.3607  0.7614  0.9207  \n",
      "18  Like other experts, he is skeptical about whet...  0.5159  0.8714  0.9176  \n",
      "19  On Monday, Sara Danius, the permanent secretar...  0.3494  0.6854  0.8823  \n",
      "20  「우리가 기르는 4개월 된 생쥐는 과거에 당뇨병이었지만 현재는 당뇨병이 아닙니다,」...  0.1838  0.4755  0.7880  \n",
      "21  노바스코샤 주 핼리팩스에 있는 달하우지 대학교 의과대학 교수이자 캐나다 당뇨병 협회...  0.2653  0.6090  0.8492  \n",
      "22  다른 전문가들과 마찬가지로, 그는 당뇨병을 완치할 수 있는지에 대해 회의적이며, 이...  0.3927  0.7850  0.8756  \n",
      "23  스웨덴 아카데미의 노벨 문학상 심사위원회 상임幹事인 사라 다니우스씨는 월요일, 스웨...  0.2421  0.6260  0.8237  \n"
     ]
    }
   ],
   "source": [
    "print(df)"
   ]
  },
  {
   "cell_type": "code",
   "execution_count": null,
   "metadata": {},
   "outputs": [],
   "source": [
    "# 평가 수행\n",
    "results = []\n",
    "for _, row in data:  # 각 샘플에 대해 평가 수행\n",
    "    source = row[\"source\"]\n",
    "    reference = row[\"target\"]\n",
    "\n",
    "    # 번역 수행\n",
    "    candidate = translate(source)\n",
    "\n",
    "    # 평가 실행\n",
    "    evaluation = evaluate(reference, candidate, \"ko\")\n",
    "    results.append(\n",
    "        {\n",
    "            \"Source\": source,\n",
    "            \"Reference\": reference,\n",
    "            \"Candidate\": candidate,\n",
    "            **evaluation,\n",
    "        }\n",
    "    )\n",
    "\n",
    "# 결과 데이터프레임 생성\n",
    "df = pd.DataFrame(results)\n",
    "print(df)\n"
   ]
  },
  {
   "cell_type": "code",
   "execution_count": null,
   "metadata": {},
   "outputs": [],
   "source": [
    "\n",
    "# 결과 저장 \n",
    "df.to_csv(\"translation_evaluation_results.csv\", index=False)\n"
   ]
  }
 ],
 "metadata": {
  "kernelspec": {
   "display_name": "langserve",
   "language": "python",
   "name": "python3"
  },
  "language_info": {
   "codemirror_mode": {
    "name": "ipython",
    "version": 3
   },
   "file_extension": ".py",
   "mimetype": "text/x-python",
   "name": "python",
   "nbconvert_exporter": "python",
   "pygments_lexer": "ipython3",
   "version": "3.11.9"
  }
 },
 "nbformat": 4,
 "nbformat_minor": 2
}
