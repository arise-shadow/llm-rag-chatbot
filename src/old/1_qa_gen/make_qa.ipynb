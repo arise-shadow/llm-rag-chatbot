{
 "cells": [
  {
   "cell_type": "code",
   "execution_count": 2,
   "metadata": {},
   "outputs": [],
   "source": [
    "from typing import List\n",
    "from pydantic import BaseModel, Field, HttpUrl\n",
    "\n",
    "class Page(BaseModel):\n",
    "    id: str = Field(..., description=\"ID of the Page\")\n",
    "    link: HttpUrl = Field(description=\"Url link of the page\")\n",
    "    name: str = Field(description=\"Name of the page\")\n",
    "    parent: str = Field(default=\"\", description=\"ID of the parent page\")\n",
    "    child: List[str] = Field(default=[], description=\"List of ids of the child pages\")\n",
    "    description: str = Field(default=\"\", description=\"Description of the page\")\n",
    "    html_content: str = Field(default=\"\", description=\"HTML code of the main content in the page\")\n",
    "\n",
    "    def __hash__(self):\n",
    "        return hash((self.link, self.name))\n",
    "\n",
    "    def __eq__(self, other):\n",
    "        if not isinstance(other, Page):\n",
    "            return False\n",
    "        return (self.link, self.name) == (other.link, other.name)"
   ]
  },
  {
   "cell_type": "code",
   "execution_count": 3,
   "metadata": {},
   "outputs": [],
   "source": [
    "import json\n",
    "\n",
    "with open(\"deposit_page_with_description.json\", \"r\") as f:\n",
    "    data = json.load(f)\n",
    "    personal_deposit_final_pages = [Page.model_validate_json(page) for page in data[\"personal_deposit\"]]\n",
    "\n",
    "with open(\"loan_page_with_description.json\", \"r\") as f:\n",
    "    data = json.load(f)\n",
    "    personal_loan_final_pages = [Page.model_validate_json(page) for page in data[\"personal_loan\"]]\n",
    "\n",
    "with open(\"card_page_with_description.json\", \"r\") as f:\n",
    "    data = json.load(f)\n",
    "    card_product_final_pages = [Page.model_validate_json(page) for page in data[\"card_product\"]]\n",
    "    offers_and_services_final_pages = [Page.model_validate_json(page) for page in data[\"offers_and_services\"]]\n",
    "    card_promotion_final_pages = [Page.model_validate_json(page) for page in data[\"card_promotion\"]]\n",
    "    card_final_pages = sum([card_product_final_pages, offers_and_services_final_pages, card_promotion_final_pages], [])"
   ]
  },
  {
   "cell_type": "code",
   "execution_count": 3,
   "metadata": {},
   "outputs": [
    {
     "data": {
      "text/plain": [
       "Page(id='beebee06-ad16-40e3-b3a0-59fba08fe81e', link=Url('https://shinhan.com.vn/en/card/kocham-shinhan-corporate-credit-card.html'), name='kocham-shinhan-corporate-credit-card', parent='be56b4cc-b45e-4b8b-9e2a-f0b3d84ce949', child=[], description=\"The Shinhan Visa Corporate Credit Card is a credit card service offered by Shinhan Bank Vietnam, designed for corporations, organizations, and institutions. The card provides various benefits, including exclusive privileges, special offers, and a convenient bill payment service.\\n\\nTo be eligible for the card, the applicant must meet certain criteria, such as having a corporate bank account at Shinhan Bank Vietnam and being a member of the Korean Chamber of Commerce in Vietnam (KOCHAM).\\n\\nThe required documents for application include:\\n\\n* Card Application\\n* Business License/Investment License\\n* Tax Code Certificate\\n* Seal & Registered Stamp certificate\\n* The Company's Charter\\n* CEO's ID card or passport\\n* Delegator's ID card or passport (if applicable)\\n* Other documents related to lending authorization within the corporate\\n\\nTo apply for the card, interested parties can visit the nearest branch of Shinhan Bank Vietnam.\", html_content='<div id=\"page-wrapper\"><div class=\"banner-top banner-card-productgroup\"><img alt=\"\" src=\"https://shinhan.com.vn/public/uploads/card/top-feature-bn/International%20debit%20card.jpg\"/><div class=\"container\"><div class=\"text-w\"><div class=\"bread\"><a href=\"https://shinhan.com.vn/en\">Home</a><span>&gt;</span><a href=\"/en/page/card-product.html\">Card</a><span>&gt;</span><a href=\"#\">Kocham - Shinhan Corporate Credit Card</a></div><h2 class=\"title\">Kocham - Shinhan Corporate Credit Card</h2></div></div></div><div class=\"tab-w\" id=\"tabNav\"><div class=\"container\"><div class=\"selected\"><span></span></div><div class=\"list-tab\" id=\"slide-tab\"><div class=\"tab\"><a class=\"active\" href=\"#introduction\"><span>Introduction</span></a></div><div class=\"tab\"><a href=\"#top-reasons\"><span>Top Reasons</span></a></div><div class=\"tab\"><a href=\"#benefits\"><span>Benefits</span></a></div><div class=\"tab\"><a href=\"#eligibility\"><span>Eligibility</span></a></div><div class=\"tab\"><a href=\"#required-documents\"><span>Required Documents</span></a></div><div class=\"tab\"><a href=\"#how-to-apply\"><span>How To Apply</span></a></div></div><div class=\"list-tab mobile\"><div class=\"tab\"><a href=\"#introduction\"><span>Introduction</span></a></div><div class=\"tab\"><a href=\"#top-reasons\"><span>Top Reasons</span></a></div><div class=\"tab\"><a href=\"#benefits\"><span>Benefits</span></a></div><div class=\"tab\"><a href=\"#eligibility\"><span>Eligibility</span></a></div><div class=\"tab\"><a href=\"#required-documents\"><span>Required Documents</span></a></div><div class=\"tab\"><a href=\"#how-to-apply\"><span>How To Apply</span></a></div></div></div></div><div class=\"main-content content-personal\" style=\"font-size: 16px;\"><div class=\"container\"><div class=\"btn-back\"><a href=\"https://shinhan.com.vn/en/shinhan_card_category/corporate-credit-card.html\"><i></i><span>back to card</span></a></div><div class=\"box-type row\" id=\"introduction\"><div class=\"ct-left col-sm-4 col-xs-12\"><h3 class=\"title-blue\"> Introduction </h3></div><div class=\"ct-right col-sm-8 col-xs-12\"><div class=\"text\"><p>Optimize your corporate expense execution and management with special privileges from KOCHAM.</p></div><div class=\"easy-way row\"><div class=\"col-sm-6 col-xs-12\"><img caption=\"false\" height=\"140\" src=\"../../public/uploads/card/2022/Products/Card%20product/Kocham---Shinhan-Credit.gif?1654510265998\" width=\"222\"/></div><div class=\"col-sm-6 col-xs-12\"><div class=\"list-easy-way\"><div class=\"item row\"><div class=\"text\"><div class=\"btn-main left\"><span><a href=\"../../en/credit-card-application\">REGISTER NOW</a></span></div></div></div></div></div></div></div></div><div class=\"row-line\"></div><div class=\"box-type row\" id=\"top-reasons\"><div class=\"ct-left col-sm-4 col-xs-12\"><h3 class=\"title-blue\"> Top Reasons </h3></div><div class=\"col-sm-8 col-xs-12\"></div><div class=\"ct-right col-sm-12 col-xs-12\"><div class=\"box-type box-cardproduct row\" id=\"top-reasons\"><div class=\"ct-left col-sm-6 col-xs-12\"><img caption=\"false\" class=\"thumb-carddetail img-responsive\" height=\"570\" src=\"../../public/uploads/card/the-minh-hoa.jpg?1639553291793\" width=\"470\"/></div><div class=\"ct-right col-sm-6 col-xs-12\"><h4 class=\"title-small uppercase\">Business spending solution</h4><div class=\"tab-expand none-border\"><div class=\"item\"><div class=\"head\"><div class=\"text\"><p>Purchase first, pay later up to 45 days</p></div></div></div><div class=\"item\"><div class=\"head\"><div class=\"text\"><p>Save time and simplify documentation process</p></div></div></div><div class=\"item\"><div class=\"head\"><div class=\"text\"><p>Unburden foreign currency exchange and cash carrying for overseas business trips</p></div></div></div><div class=\"item\"><div class=\"head\"><div class=\"text\"><p>Manage expense easily via SMS, Monthly card statement, Internet Banking and Mobile banking</p></div></div></div><h4 class=\"title-small uppercase\"><span> Convenient payment tool</span></h4><div class=\"item\"><div class=\"head\"><div class=\"text\"><p>Easy and fast payment process at more than 33 million Visa point of sales worldwide</p></div></div></div><div class=\"item\"><div class=\"head\"><div class=\"text\"><p>Ideal for placing order via telephone or the Internet</p></div></div></div><h4 class=\"title-small uppercase\"><span>Exclusive privileges as a KoCham membership</span></h4><div class=\"item\"><div class=\"head\"><div class=\"text\"><p>Discount on more than 100 merchants in a wide range of categories: Food &amp; Beverage, Accommodation, Beauty &amp; healthcare, Shopping,...</p></div></div></div><div class=\"btn-main left\"><span><a href=\"http://kocham.kr\" target=\"_blank\">Learn more</a></span></div></div></div></div></div></div><div class=\"row-line\"></div><div class=\"box-type row\" id=\"benefits\"><div class=\"ct-left col-sm-4 col-xs-12\"><h3 class=\"title-blue\"> Benefits </h3></div><div class=\"ct-right col-sm-8 col-xs-12\"><div class=\"tab-expand\"><div class=\"item plus\"><div class=\"head\"><div class=\"text\"><p>Shinhan Point</p></div><div class=\"icon-plus\"></div></div><div class=\"content\"><div class=\"text\"><p>Accumulate Shinhan Point on every spending by Kocham - Shinhan Corporate Credit Card with accumulation rate of 0.1% (Equivalent to 01 Shinhan Point for each VND 1,000 spent) to redeem into cash</p></div></div></div><div class=\"item plus\"><div class=\"head\"><div class=\"text\"><p>Bill payment service via Shinhan Visa Credit card</p></div><div class=\"icon-plus\"></div></div><div class=\"content\"><div class=\"text\"><p>Now, it is so easy to make payment for your various monthly service bills with Shinhan Credit card bill payment service. This service is applied for all Shinhan Visa Consumer/ Corporate Credit card.</p></div></div></div><div class=\"item plus\"><div class=\"head\"><div class=\"text\"><p>Special offers for Shinhan Visa card</p></div><div class=\"icon-plus\"></div></div><div class=\"content\"><div class=\"text\"><p>Enjoy exclusive privileges for Shinhan Visa cardholders. <div class=\"btn-main left\"><a href=\"https://www.visa.com.vn/en_vn/visa-offers-and-perks/\"><span>Details</span></a></div></p></div></div></div></div></div></div><div class=\"row-line\"></div><div class=\"box-type row\" id=\"eligibility\"><div class=\"ct-left col-sm-4 col-xs-12\"><h3 class=\"title-blue\"> Eligibility </h3></div><div class=\"ct-right col-sm-8 col-xs-12\"><div class=\"tab-expand\"><div class=\"item\"><div class=\"head\"><div class=\"text\"><p>A corporation, an organization, or an institution meeting our card issuance criteria, and having a corporate bank account at Shinhan Bank Vietnam</p></div></div></div><div class=\"item\"><div class=\"head\"><div class=\"text\"><p>A corporation, an organization, or an institution must be a membership of the Korean Chamber of Commerce in Vietnam (KOCHAM)</p></div></div></div></div><p class=\"textbox\">(*)\\xa0For further details, please contact <a href=\"../../en/branches\" target=\"_blank\">your nearest Shinhan Bank Vietnam</a>\\xa0or contact <strong><a href=\"tel:19001577\" title=\"1900 1577\">1900 1577</a></strong>.</p></div></div><div class=\"row-line\"></div><div class=\"box-type row\" id=\"required-documents\"><div class=\"ct-left col-sm-4 col-xs-12\"><h3 class=\"title-blue\"> Required Documents </h3></div><div class=\"ct-right col-sm-8 col-xs-12\"><div class=\"list-textnum\"><div class=\"item\"><div class=\"num\"><span>1</span></div><div class=\"text-w\"><p class=\"t-bold\">Card Application</p><div class=\"btn-main map f-left\"><a href=\"../../en/credit-card-application\" target=\"_blank\">Here</a></div></div></div><div class=\"item\"><div class=\"num\"><span>2</span></div><div class=\"text-w\"><p>Business License/ Investment License</p></div></div><div class=\"item\"><div class=\"num\"><span>3</span></div><div class=\"text-w\"><p>Tax Code Certificate</p></div></div><div class=\"item\"><div class=\"num\"><span>4</span></div><div class=\"text-w\"><p>Seal &amp; Registered Stamp certificate</p></div></div><div class=\"item\"><div class=\"num\"><span>5</span></div><div class=\"text-w\"><p>The Company\\'s Charter</p></div></div><div class=\"item\"><div class=\"num\"><span>6</span></div><div class=\"text-w\"><p>CEO\\'s ID card or passport</p></div></div><div class=\"item\"><div class=\"num\"><span>7</span></div><div class=\"text-w\"><p>Delegator\\'s ID card or passport in case of application via delegation</p></div></div><div class=\"item\"><div class=\"num\"><span>8</span></div><div class=\"text-w\"><p>Other documents: Document evidences related to lending authorization within the corporate</p></div></div></div></div></div><div class=\"row-line\"></div><div class=\"box-type row\" id=\"how-to-apply\"><div class=\"ct-left col-sm-4 col-xs-12\"><h3 class=\"title-blue\"> How To Apply </h3></div><div class=\"ct-right col-sm-8 col-xs-12\"><div class=\"tab-expand\"><div class=\"item\"><div class=\"head\"><div class=\"text\"><p><span>Visit </span><a href=\"../../en/branches\">the nearest branch of Shinhan Bank</a><a href=\"../../en/branches\" target=\"_blank\"></a><span><span> Vietnam</span></span></p></div></div></div></div></div></div><div class=\"row-line\"></div></div></div></div>')"
      ]
     },
     "execution_count": 3,
     "metadata": {},
     "output_type": "execute_result"
    }
   ],
   "source": [
    "card_final_pages[0]"
   ]
  },
  {
   "cell_type": "markdown",
   "metadata": {},
   "source": [
    "## Generate QA of card page with RAGAS"
   ]
  },
  {
   "cell_type": "code",
   "execution_count": 4,
   "metadata": {},
   "outputs": [],
   "source": [
    "import os\n",
    "from dotenv import load_dotenv\n",
    "\n",
    "load_dotenv()\n",
    "\n",
    "os.environ[\"LANGCHAIN_TRACING_V2\"] = \"true\"\n",
    "os.environ[\"LANGCHAIN_API_KEY\"] = os.getenv(\"LANGCHAIN_API_KEY\")\n",
    "os.environ[\"LANGCHAIN_PROJECT\"] = \"Shinhan Ragas QA Dataset\""
   ]
  },
  {
   "cell_type": "code",
   "execution_count": 5,
   "metadata": {},
   "outputs": [],
   "source": [
    "from markdownify import markdownify as md\n",
    "from llama_index.core import Document \n",
    "def convert_page_to_llama_index_document(page: Page) -> Document:\n",
    "    return Document(\n",
    "        doc_id=page.id,\n",
    "        metadata={\n",
    "            \"source\": str(page.link),\n",
    "            \"title\": page.name,\n",
    "            \"parent_doc_id\": page.parent,\n",
    "            \"child_doc_ids\": json.dumps(page.child),\n",
    "            \"description\": page.description,\n",
    "        },\n",
    "        text=md(page.html_content, strip=[\"img\"]),\n",
    "    )    \n",
    "\n",
    "docs = [convert_page_to_llama_index_document(page) for page in card_final_pages]"
   ]
  },
  {
   "cell_type": "code",
   "execution_count": 15,
   "metadata": {},
   "outputs": [
    {
     "data": {
      "application/vnd.jupyter.widget-view+json": {
       "model_id": "fe2662c6e5534351b091ba0e1bbfd44a",
       "version_major": 2,
       "version_minor": 0
      },
      "text/plain": [
       "embedding nodes:   0%|          | 0/256 [00:00<?, ?it/s]"
      ]
     },
     "metadata": {},
     "output_type": "display_data"
    },
    {
     "name": "stderr",
     "output_type": "stream",
     "text": [
      "Filename and doc_id are the same for all nodes.\n"
     ]
    },
    {
     "data": {
      "application/vnd.jupyter.widget-view+json": {
       "model_id": "05c8bb321c14407ca2cfcaff097e3472",
       "version_major": 2,
       "version_minor": 0
      },
      "text/plain": [
       "Generating:   0%|          | 0/10 [00:00<?, ?it/s]"
      ]
     },
     "metadata": {},
     "output_type": "display_data"
    }
   ],
   "source": [
    "from ragas.testset.generator import TestsetGenerator\n",
    "from ragas.testset.evolutions import simple, reasoning, multi_context, conditional\n",
    "from langchain_openai import ChatOpenAI, OpenAIEmbeddings\n",
    "\n",
    "# documents = load your documents\n",
    "\n",
    "# generator with openai models\n",
    "generator_llm = ChatOpenAI(model=\"gpt-4o\", temperature=0.2)\n",
    "critic_llm = ChatOpenAI(model=\"gpt-4o\", temperature=0.2)\n",
    "embeddings = OpenAIEmbeddings()\n",
    "\n",
    "generator = TestsetGenerator.from_langchain(\n",
    "    generator_llm,\n",
    "    critic_llm,\n",
    "    embeddings\n",
    ")\n",
    "\n",
    "distributions = {\n",
    "    simple: 1,\n",
    "    # multi_context: 1,\n",
    "    # reasoning: 0.35,\n",
    "    # conditional: 0.2,\n",
    "}\n",
    "\n",
    "testset = generator.generate_with_llamaindex_docs(docs, 10, distributions) \n",
    "testset_df = testset.to_pandas()\n",
    "testset_df.to_parquet(\"v2/shinhan_card_qa_ragas_2.parquet\")\n",
    "testset_df.to_csv(\"v2/shinhan_card_qa_ragas_2.csv\")"
   ]
  },
  {
   "cell_type": "code",
   "execution_count": 16,
   "metadata": {},
   "outputs": [],
   "source": [
    "from glob import glob\n",
    "import pandas as pd\n",
    "\n",
    "files = glob(\"./v2/shinhan*.csv\")\n",
    "merged_csv = pd.concat([pd.read_csv(file, index_col=0) for file in files])\n",
    "merged_csv.to_csv(\"v2/merged_shinhan_card_qa_ragas.csv\")"
   ]
  },
  {
   "cell_type": "markdown",
   "metadata": {},
   "source": [
    "## 셀프 QA 데이터 생성\n",
    "- 재귀적으로 페이지를 순회하면서 qa 데이터셋을 만들 context 수집\n",
    "- 최상단 페이지는 무조건 포함\n",
    "- 같은 부모 페이지로부터 나온 자식 페이지에서, 1~len(자식 페이지) 크기로 묶음. 묶인 페이지들을 multi-context 카테고리로 질문 생성"
   ]
  },
  {
   "cell_type": "code",
   "execution_count": 5,
   "metadata": {},
   "outputs": [],
   "source": [
    "import random\n",
    "\n",
    "def make_retrieval_set_recursively(root_page: Page, pages: List[Page], contexts: list):\n",
    "    sub_pages = [p for p in pages for cid in root_page.child if p.id == cid]\n",
    "    if len(sub_pages) == 0:\n",
    "        return\n",
    "    selected_page_list = random.sample(sub_pages, random.choice([i+1 for i in range(int((len(sub_pages)/2)))]))\n",
    "    selected_page = random.sample(sub_pages, 1)\n",
    "    contexts.append(selected_page)\n",
    "    contexts.append(selected_page_list)\n",
    "    print(f\"{root_page.name} -> {[p.name for p in sub_pages]}\")\n",
    "    print(len(selected_page_list))\n",
    "    print(selected_page[0].name)\n",
    "    print([page.name for page in selected_page_list])\n",
    "    print(\"=\"*20)\n",
    "    for p in sub_pages:\n",
    "        make_retrieval_set_recursively(p, pages, contexts)"
   ]
  },
  {
   "cell_type": "code",
   "execution_count": 6,
   "metadata": {},
   "outputs": [
    {
     "name": "stdout",
     "output_type": "stream",
     "text": [
      "card-product -> ['consumer-debit-card', 'corporate-debit-card', 'corporate-credit-card', 'card-comparison', 'consumer-credit-card']\n",
      "1\n",
      "card-comparison\n",
      "['consumer-debit-card']\n",
      "====================\n",
      "consumer-debit-card -> ['shinhan-pwm-debit-mastercard', 'hutech-shinhan-debit-card', 'visa-international-shinhan-my-sol-debit-card', 'domestic-atm-card', 'shinhan-be-safe-debit-card', 'visa-international-classic-debit-card', 'visa-international-shinhan-lotte-mart-debit-card', 'visa-pwm-international-classic-debit-card']\n",
      "1\n",
      "domestic-atm-card\n",
      "['shinhan-be-safe-debit-card']\n",
      "====================\n",
      "corporate-debit-card -> ['korcham-shinhan-corporate-debit-card', 'kocham-shinhan-corporate-debit-card', 'shinhan-visa-corporate-debit-card']\n",
      "1\n",
      "korcham-shinhan-corporate-debit-card\n",
      "['kocham-shinhan-corporate-debit-card']\n",
      "====================\n",
      "corporate-credit-card -> ['kocham-shinhan-corporate-credit-card', 'shinhan-corporate-world-credit-card', 'shinhan-visa-corporate-credit-card', 'korean-air-shinhan-corporate-credit-card', 'bizzi-shinhan-corporate-credit-card', 'korcham-shinhan-corporate-credit-card']\n",
      "3\n",
      "bizzi-shinhan-corporate-credit-card\n",
      "['shinhan-corporate-world-credit-card', 'kocham-shinhan-corporate-credit-card', 'korcham-shinhan-corporate-credit-card']\n",
      "====================\n",
      "consumer-credit-card -> ['shinhan-visa-signature-credit-card', 'visa-platinum-cash-back-credit-card', 'visa-platinum-credit-card', 'visa-gold-credit-card', 'visa-classic-hi-point-credit-card', 'tiki-shinhan-classic-credit-card', 'visa-classic-cash-back-credit-card', 'korean-air-shinhan-consumer-credit-card', 'visa-international-shinhan-lotte-mart-credit-card', 'visa-classic-credit-card', 'tiki-shinhan-platinum-credit-card', 'visa-travel-platinum-credit-card', 'visa-credit-e-card', '365-cashback-platinum-credit-card', 'visa-platinum-pwm-credit-card', 'visa-gold-hi-point-credit-card', 'visa-platinum-hi-point-credit-card', 'baemin-shinhan-credit-card', 'visa-gold-cash-back-credit-card']\n",
      "6\n",
      "visa-platinum-credit-card\n",
      "['visa-credit-e-card', 'visa-international-shinhan-lotte-mart-credit-card', 'visa-gold-hi-point-credit-card', 'baemin-shinhan-credit-card', 'visa-classic-hi-point-credit-card', 'visa-gold-credit-card']\n",
      "====================\n"
     ]
    }
   ],
   "source": [
    "root_page = [page for page in card_final_pages if page.parent == \"\"][0]\n",
    "card_contexts = [[root_page]]\n",
    "make_retrieval_set_recursively(root_page, card_final_pages, card_contexts)"
   ]
  },
  {
   "cell_type": "code",
   "execution_count": 32,
   "metadata": {},
   "outputs": [],
   "source": [
    "import pandas as pd\n",
    "\n",
    "card_qa_df = pd.DataFrame({\"contexts\": card_contexts})"
   ]
  },
  {
   "cell_type": "code",
   "execution_count": 33,
   "metadata": {},
   "outputs": [
    {
     "data": {
      "text/html": [
       "<div>\n",
       "<style scoped>\n",
       "    .dataframe tbody tr th:only-of-type {\n",
       "        vertical-align: middle;\n",
       "    }\n",
       "\n",
       "    .dataframe tbody tr th {\n",
       "        vertical-align: top;\n",
       "    }\n",
       "\n",
       "    .dataframe thead th {\n",
       "        text-align: right;\n",
       "    }\n",
       "</style>\n",
       "<table border=\"1\" class=\"dataframe\">\n",
       "  <thead>\n",
       "    <tr style=\"text-align: right;\">\n",
       "      <th></th>\n",
       "      <th>contexts</th>\n",
       "    </tr>\n",
       "  </thead>\n",
       "  <tbody>\n",
       "    <tr>\n",
       "      <th>0</th>\n",
       "      <td>[id='32f049c3-cb5e-464f-8d26-68b46b11bb68' lin...</td>\n",
       "    </tr>\n",
       "    <tr>\n",
       "      <th>1</th>\n",
       "      <td>[id='3c960359-94f0-42a4-882e-da4d24e6bb40' lin...</td>\n",
       "    </tr>\n",
       "    <tr>\n",
       "      <th>2</th>\n",
       "      <td>[id='55ecf8f8-66a4-40db-affb-a7a112080885' lin...</td>\n",
       "    </tr>\n",
       "    <tr>\n",
       "      <th>3</th>\n",
       "      <td>[id='19fff71d-2445-49eb-8a27-ec8d41f4f49d' lin...</td>\n",
       "    </tr>\n",
       "    <tr>\n",
       "      <th>4</th>\n",
       "      <td>[id='0c8c9ded-b2be-422e-9b11-a1938d6a7e44' lin...</td>\n",
       "    </tr>\n",
       "  </tbody>\n",
       "</table>\n",
       "</div>"
      ],
      "text/plain": [
       "                                            contexts\n",
       "0  [id='32f049c3-cb5e-464f-8d26-68b46b11bb68' lin...\n",
       "1  [id='3c960359-94f0-42a4-882e-da4d24e6bb40' lin...\n",
       "2  [id='55ecf8f8-66a4-40db-affb-a7a112080885' lin...\n",
       "3  [id='19fff71d-2445-49eb-8a27-ec8d41f4f49d' lin...\n",
       "4  [id='0c8c9ded-b2be-422e-9b11-a1938d6a7e44' lin..."
      ]
     },
     "execution_count": 33,
     "metadata": {},
     "output_type": "execute_result"
    }
   ],
   "source": [
    "card_qa_df.head()"
   ]
  },
  {
   "cell_type": "code",
   "execution_count": 34,
   "metadata": {},
   "outputs": [],
   "source": [
    "from langchain.output_parsers import PydanticOutputParser\n",
    "from langchain_core.pydantic_v1 import BaseModel, Field\n",
    "\n",
    "class QAPair(BaseModel):\n",
    "    question: str = Field(description=\"Question generated by llm\")\n",
    "    answer: str = Field(description=\"Answer generated by llm\")\n",
    "\n",
    "output_parser = PydanticOutputParser(pydantic_object=QAPair)"
   ]
  },
  {
   "cell_type": "code",
   "execution_count": 35,
   "metadata": {},
   "outputs": [],
   "source": [
    "from markdownify import markdownify as md\n",
    "from langchain_openai import ChatOpenAI\n",
    "from langchain_core.prompts import PromptTemplate\n",
    "\n",
    "llm = ChatOpenAI(model=\"gpt-4o\", temperature=0.2)\n",
    "\n",
    "prompt = PromptTemplate(template=\"\"\"As an expert in creating educational Question-Answer datasets, your task is to generate one high-quality QA pair based on the provided markdown content. \n",
    "\n",
    "Instructions:\n",
    "1. Carefully analyze the markdown content in CONTENT section, identifying key concepts, details, and information.\n",
    "2. Imagine you are a first-time visitor to a website and aim to create a challenging, abstract question that encourages deep engagement with the content.\n",
    "3. Ensure that the question is specific enough that it can only be answered by referencing the given markdown.\n",
    "4. Generate a concise, direct answer without introductory phrases like \"The markdown says\" or \"Here is...\".\n",
    "5. Output **only one** QA pair.\n",
    "6. {instructions}\n",
    "\n",
    "Desired Format:\n",
    "- Question: [Your abstract, content-specific question]\n",
    "- Answer: [Your precise, context-reliant answer]\n",
    "\n",
    "CONTENT:\n",
    "{content}\n",
    "\"\"\",\n",
    "    partial_variables={\"instructions\": output_parser.get_format_instructions()},\n",
    "    input_variables=[\"content\"],\n",
    ")\n",
    "\n",
    "chain = prompt | llm | output_parser\n",
    "\n",
    "def generate_qa(df):\n",
    "    qa_pair_list = []\n",
    "    for _, row in df.iterrows():\n",
    "        context_content = [md(page.html_content, strip=\"img\") for page in row[\"contexts\"]]\n",
    "        qa_pair = chain.invoke({\"content\": context_content}) \n",
    "        qa_pair_list.append(qa_pair)\n",
    "    questions = [pair.question for pair in qa_pair_list] \n",
    "    answers = [pair.answer for pair in qa_pair_list] \n",
    "    df[\"query\"] = questions\n",
    "    df[\"generation_gt\"] = answers"
   ]
  },
  {
   "cell_type": "code",
   "execution_count": 36,
   "metadata": {},
   "outputs": [],
   "source": [
    "generate_qa(card_qa_df)"
   ]
  },
  {
   "cell_type": "code",
   "execution_count": 38,
   "metadata": {},
   "outputs": [],
   "source": [
    "card_qa_df.to_csv(\"v2/card_qa_sample.csv\", encoding=\"utf-8\")"
   ]
  },
  {
   "cell_type": "markdown",
   "metadata": {},
   "source": [
    "## Sampling\n",
    "- 지금까지 만들었던 qa 데이터 중에서 괜찮은 질문 추출"
   ]
  },
  {
   "cell_type": "code",
   "execution_count": null,
   "metadata": {},
   "outputs": [],
   "source": []
  }
 ],
 "metadata": {
  "kernelspec": {
   "display_name": "shinhan",
   "language": "python",
   "name": "python3"
  },
  "language_info": {
   "codemirror_mode": {
    "name": "ipython",
    "version": 3
   },
   "file_extension": ".py",
   "mimetype": "text/x-python",
   "name": "python",
   "nbconvert_exporter": "python",
   "pygments_lexer": "ipython3",
   "version": "3.11.9"
  }
 },
 "nbformat": 4,
 "nbformat_minor": 2
}
